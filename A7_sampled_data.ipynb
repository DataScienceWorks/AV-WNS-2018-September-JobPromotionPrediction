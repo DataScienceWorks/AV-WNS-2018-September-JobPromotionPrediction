{
 "cells": [
  {
   "cell_type": "markdown",
   "metadata": {},
   "source": [
    "## Data Description\n",
    "\n",
    "|    Variable            \t|    Definition                         |     \n",
    "|---------------------------|---------------------------------------|\n",
    "|    employee_id         \t|    Unique ID for employee             |     \n",
    "|    department          \t|    Department of employee             |     \n",
    "|    region              \t|    Region of employment (unordered)   |     \n",
    "|    education           \t|    Education Level                    |     \n",
    "|    gender              \t|    Gender of Employee                 |     \n",
    "|    recruitment_channel \t|    Channel of recruitment for employee |    \n",
    "|    no_of_trainings     \t|    no of other trainings completed in previous year on soft skills, technical skills etc. |\n",
    "|    age                 \t|    Age of Employee                         |\n",
    "|    previous_year_rating\t|    Employee Rating for the previous year   |\n",
    "|    length_of_service   \t|    Length of service in years              \n",
    "|    KPIs_met >80%       \t|    if Percent of KPIs(Key performance Indicators) >80% then 1 else 0 |\n",
    "|    awards_won?         \t|    if awards won during previous year then 1 else 0 |\n",
    "|    avg_training_score  \t|    Average score in current training evaluations |\n",
    "|    is_promoted         \t|    (Target) Recommended for promotion      |\n",
    "\n",
    "\n",
    "## EVALUATION METRIC\n",
    "\n",
    "The evaluation metric for this competition is F1 Score.\n"
   ]
  },
  {
   "cell_type": "markdown",
   "metadata": {},
   "source": [
    "## Importing Python Modules"
   ]
  },
  {
   "cell_type": "code",
   "execution_count": 135,
   "metadata": {
    "ExecuteTime": {
     "end_time": "2018-09-15T13:51:00.594335Z",
     "start_time": "2018-09-15T13:51:00.576382Z"
    }
   },
   "outputs": [],
   "source": [
    "%matplotlib inline\n",
    "import matplotlib.pyplot as plt\n",
    "import pandas as pd\n",
    "import numpy as np\n",
    "import seaborn as sns\n",
    "\n",
    "import warnings\n",
    "# warnings.filterwarnings('ignore')\n",
    "warnings.simplefilter(\"ignore\")\n",
    "\n",
    "from sklearn.base import BaseEstimator, TransformerMixin\n",
    "from sklearn.preprocessing import LabelEncoder, OneHotEncoder, StandardScaler, MinMaxScaler, RobustScaler, FunctionTransformer\n",
    "from sklearn.pipeline import Pipeline, make_pipeline, FeatureUnion, make_union"
   ]
  },
  {
   "cell_type": "code",
   "execution_count": 136,
   "metadata": {
    "ExecuteTime": {
     "end_time": "2018-09-15T13:51:00.695062Z",
     "start_time": "2018-09-15T13:51:00.599320Z"
    }
   },
   "outputs": [],
   "source": [
    "sns.set_style('whitegrid')\n",
    "# sns.set(context=\"paper\", font=\"monospace\")"
   ]
  },
  {
   "cell_type": "markdown",
   "metadata": {},
   "source": [
    "## Data Loading "
   ]
  },
  {
   "cell_type": "code",
   "execution_count": 137,
   "metadata": {
    "ExecuteTime": {
     "end_time": "2018-09-15T13:51:00.930101Z",
     "start_time": "2018-09-15T13:51:00.698055Z"
    }
   },
   "outputs": [
    {
     "name": "stdout",
     "output_type": "stream",
     "text": [
      "Train Data Size : (54808, 13)\n"
     ]
    },
    {
     "data": {
      "text/html": [
       "<div>\n",
       "<style scoped>\n",
       "    .dataframe tbody tr th:only-of-type {\n",
       "        vertical-align: middle;\n",
       "    }\n",
       "\n",
       "    .dataframe tbody tr th {\n",
       "        vertical-align: top;\n",
       "    }\n",
       "\n",
       "    .dataframe thead th {\n",
       "        text-align: right;\n",
       "    }\n",
       "</style>\n",
       "<table border=\"1\" class=\"dataframe\">\n",
       "  <thead>\n",
       "    <tr style=\"text-align: right;\">\n",
       "      <th></th>\n",
       "      <th>department</th>\n",
       "      <th>region</th>\n",
       "      <th>education</th>\n",
       "      <th>gender</th>\n",
       "      <th>recruitment_channel</th>\n",
       "      <th>no_of_trainings</th>\n",
       "      <th>age</th>\n",
       "      <th>previous_year_rating</th>\n",
       "      <th>length_of_service</th>\n",
       "      <th>is_kpi_met</th>\n",
       "      <th>has_won_awards</th>\n",
       "      <th>avg_training_score</th>\n",
       "      <th>is_promoted</th>\n",
       "    </tr>\n",
       "    <tr>\n",
       "      <th>employee_id</th>\n",
       "      <th></th>\n",
       "      <th></th>\n",
       "      <th></th>\n",
       "      <th></th>\n",
       "      <th></th>\n",
       "      <th></th>\n",
       "      <th></th>\n",
       "      <th></th>\n",
       "      <th></th>\n",
       "      <th></th>\n",
       "      <th></th>\n",
       "      <th></th>\n",
       "      <th></th>\n",
       "    </tr>\n",
       "  </thead>\n",
       "  <tbody>\n",
       "    <tr>\n",
       "      <th>65438</th>\n",
       "      <td>Sales &amp; Marketing</td>\n",
       "      <td>region_7</td>\n",
       "      <td>Master's &amp; above</td>\n",
       "      <td>f</td>\n",
       "      <td>sourcing</td>\n",
       "      <td>1</td>\n",
       "      <td>35</td>\n",
       "      <td>5.0</td>\n",
       "      <td>8</td>\n",
       "      <td>1</td>\n",
       "      <td>0</td>\n",
       "      <td>49</td>\n",
       "      <td>0</td>\n",
       "    </tr>\n",
       "    <tr>\n",
       "      <th>65141</th>\n",
       "      <td>Operations</td>\n",
       "      <td>region_22</td>\n",
       "      <td>Bachelor's</td>\n",
       "      <td>m</td>\n",
       "      <td>other</td>\n",
       "      <td>1</td>\n",
       "      <td>30</td>\n",
       "      <td>5.0</td>\n",
       "      <td>4</td>\n",
       "      <td>0</td>\n",
       "      <td>0</td>\n",
       "      <td>60</td>\n",
       "      <td>0</td>\n",
       "    </tr>\n",
       "    <tr>\n",
       "      <th>7513</th>\n",
       "      <td>Sales &amp; Marketing</td>\n",
       "      <td>region_19</td>\n",
       "      <td>Bachelor's</td>\n",
       "      <td>m</td>\n",
       "      <td>sourcing</td>\n",
       "      <td>1</td>\n",
       "      <td>34</td>\n",
       "      <td>3.0</td>\n",
       "      <td>7</td>\n",
       "      <td>0</td>\n",
       "      <td>0</td>\n",
       "      <td>50</td>\n",
       "      <td>0</td>\n",
       "    </tr>\n",
       "    <tr>\n",
       "      <th>2542</th>\n",
       "      <td>Sales &amp; Marketing</td>\n",
       "      <td>region_23</td>\n",
       "      <td>Bachelor's</td>\n",
       "      <td>m</td>\n",
       "      <td>other</td>\n",
       "      <td>2</td>\n",
       "      <td>39</td>\n",
       "      <td>1.0</td>\n",
       "      <td>10</td>\n",
       "      <td>0</td>\n",
       "      <td>0</td>\n",
       "      <td>50</td>\n",
       "      <td>0</td>\n",
       "    </tr>\n",
       "    <tr>\n",
       "      <th>48945</th>\n",
       "      <td>Technology</td>\n",
       "      <td>region_26</td>\n",
       "      <td>Bachelor's</td>\n",
       "      <td>m</td>\n",
       "      <td>other</td>\n",
       "      <td>1</td>\n",
       "      <td>45</td>\n",
       "      <td>3.0</td>\n",
       "      <td>2</td>\n",
       "      <td>0</td>\n",
       "      <td>0</td>\n",
       "      <td>73</td>\n",
       "      <td>0</td>\n",
       "    </tr>\n",
       "  </tbody>\n",
       "</table>\n",
       "</div>"
      ],
      "text/plain": [
       "                    department     region         education gender  \\\n",
       "employee_id                                                          \n",
       "65438        Sales & Marketing   region_7  Master's & above      f   \n",
       "65141               Operations  region_22        Bachelor's      m   \n",
       "7513         Sales & Marketing  region_19        Bachelor's      m   \n",
       "2542         Sales & Marketing  region_23        Bachelor's      m   \n",
       "48945               Technology  region_26        Bachelor's      m   \n",
       "\n",
       "            recruitment_channel  no_of_trainings  age  previous_year_rating  \\\n",
       "employee_id                                                                   \n",
       "65438                  sourcing                1   35                   5.0   \n",
       "65141                     other                1   30                   5.0   \n",
       "7513                   sourcing                1   34                   3.0   \n",
       "2542                      other                2   39                   1.0   \n",
       "48945                     other                1   45                   3.0   \n",
       "\n",
       "             length_of_service  is_kpi_met  has_won_awards  \\\n",
       "employee_id                                                  \n",
       "65438                        8           1               0   \n",
       "65141                        4           0               0   \n",
       "7513                         7           0               0   \n",
       "2542                        10           0               0   \n",
       "48945                        2           0               0   \n",
       "\n",
       "             avg_training_score  is_promoted  \n",
       "employee_id                                   \n",
       "65438                        49            0  \n",
       "65141                        60            0  \n",
       "7513                         50            0  \n",
       "2542                         50            0  \n",
       "48945                        73            0  "
      ]
     },
     "execution_count": 137,
     "metadata": {},
     "output_type": "execute_result"
    }
   ],
   "source": [
    "def load_training_dataset():\n",
    "    return pd.read_csv('data/train_LZdllcl.csv', index_col='employee_id')\n",
    "df = load_training_dataset()\n",
    "df = df.rename(columns={'KPIs_met >80%':'is_kpi_met', 'awards_won?':'has_won_awards'})\n",
    "print('Train Data Size :', df.shape)\n",
    "df.head()"
   ]
  },
  {
   "cell_type": "code",
   "execution_count": 138,
   "metadata": {
    "ExecuteTime": {
     "end_time": "2018-09-15T13:51:01.064770Z",
     "start_time": "2018-09-15T13:51:00.933094Z"
    }
   },
   "outputs": [
    {
     "name": "stdout",
     "output_type": "stream",
     "text": [
      "Test Data Size : (23490, 12)\n"
     ]
    },
    {
     "data": {
      "text/html": [
       "<div>\n",
       "<style scoped>\n",
       "    .dataframe tbody tr th:only-of-type {\n",
       "        vertical-align: middle;\n",
       "    }\n",
       "\n",
       "    .dataframe tbody tr th {\n",
       "        vertical-align: top;\n",
       "    }\n",
       "\n",
       "    .dataframe thead th {\n",
       "        text-align: right;\n",
       "    }\n",
       "</style>\n",
       "<table border=\"1\" class=\"dataframe\">\n",
       "  <thead>\n",
       "    <tr style=\"text-align: right;\">\n",
       "      <th></th>\n",
       "      <th>department</th>\n",
       "      <th>region</th>\n",
       "      <th>education</th>\n",
       "      <th>gender</th>\n",
       "      <th>recruitment_channel</th>\n",
       "      <th>no_of_trainings</th>\n",
       "      <th>age</th>\n",
       "      <th>previous_year_rating</th>\n",
       "      <th>length_of_service</th>\n",
       "      <th>is_kpi_met</th>\n",
       "      <th>has_won_awards</th>\n",
       "      <th>avg_training_score</th>\n",
       "    </tr>\n",
       "    <tr>\n",
       "      <th>employee_id</th>\n",
       "      <th></th>\n",
       "      <th></th>\n",
       "      <th></th>\n",
       "      <th></th>\n",
       "      <th></th>\n",
       "      <th></th>\n",
       "      <th></th>\n",
       "      <th></th>\n",
       "      <th></th>\n",
       "      <th></th>\n",
       "      <th></th>\n",
       "      <th></th>\n",
       "    </tr>\n",
       "  </thead>\n",
       "  <tbody>\n",
       "    <tr>\n",
       "      <th>8724</th>\n",
       "      <td>Technology</td>\n",
       "      <td>region_26</td>\n",
       "      <td>Bachelor's</td>\n",
       "      <td>m</td>\n",
       "      <td>sourcing</td>\n",
       "      <td>1</td>\n",
       "      <td>24</td>\n",
       "      <td>NaN</td>\n",
       "      <td>1</td>\n",
       "      <td>1</td>\n",
       "      <td>0</td>\n",
       "      <td>77</td>\n",
       "    </tr>\n",
       "    <tr>\n",
       "      <th>74430</th>\n",
       "      <td>HR</td>\n",
       "      <td>region_4</td>\n",
       "      <td>Bachelor's</td>\n",
       "      <td>f</td>\n",
       "      <td>other</td>\n",
       "      <td>1</td>\n",
       "      <td>31</td>\n",
       "      <td>3.0</td>\n",
       "      <td>5</td>\n",
       "      <td>0</td>\n",
       "      <td>0</td>\n",
       "      <td>51</td>\n",
       "    </tr>\n",
       "    <tr>\n",
       "      <th>72255</th>\n",
       "      <td>Sales &amp; Marketing</td>\n",
       "      <td>region_13</td>\n",
       "      <td>Bachelor's</td>\n",
       "      <td>m</td>\n",
       "      <td>other</td>\n",
       "      <td>1</td>\n",
       "      <td>31</td>\n",
       "      <td>1.0</td>\n",
       "      <td>4</td>\n",
       "      <td>0</td>\n",
       "      <td>0</td>\n",
       "      <td>47</td>\n",
       "    </tr>\n",
       "    <tr>\n",
       "      <th>38562</th>\n",
       "      <td>Procurement</td>\n",
       "      <td>region_2</td>\n",
       "      <td>Bachelor's</td>\n",
       "      <td>f</td>\n",
       "      <td>other</td>\n",
       "      <td>3</td>\n",
       "      <td>31</td>\n",
       "      <td>2.0</td>\n",
       "      <td>9</td>\n",
       "      <td>0</td>\n",
       "      <td>0</td>\n",
       "      <td>65</td>\n",
       "    </tr>\n",
       "    <tr>\n",
       "      <th>64486</th>\n",
       "      <td>Finance</td>\n",
       "      <td>region_29</td>\n",
       "      <td>Bachelor's</td>\n",
       "      <td>m</td>\n",
       "      <td>sourcing</td>\n",
       "      <td>1</td>\n",
       "      <td>30</td>\n",
       "      <td>4.0</td>\n",
       "      <td>7</td>\n",
       "      <td>0</td>\n",
       "      <td>0</td>\n",
       "      <td>61</td>\n",
       "    </tr>\n",
       "  </tbody>\n",
       "</table>\n",
       "</div>"
      ],
      "text/plain": [
       "                    department     region   education gender  \\\n",
       "employee_id                                                    \n",
       "8724                Technology  region_26  Bachelor's      m   \n",
       "74430                       HR   region_4  Bachelor's      f   \n",
       "72255        Sales & Marketing  region_13  Bachelor's      m   \n",
       "38562              Procurement   region_2  Bachelor's      f   \n",
       "64486                  Finance  region_29  Bachelor's      m   \n",
       "\n",
       "            recruitment_channel  no_of_trainings  age  previous_year_rating  \\\n",
       "employee_id                                                                   \n",
       "8724                   sourcing                1   24                   NaN   \n",
       "74430                     other                1   31                   3.0   \n",
       "72255                     other                1   31                   1.0   \n",
       "38562                     other                3   31                   2.0   \n",
       "64486                  sourcing                1   30                   4.0   \n",
       "\n",
       "             length_of_service  is_kpi_met  has_won_awards  avg_training_score  \n",
       "employee_id                                                                     \n",
       "8724                         1           1               0                  77  \n",
       "74430                        5           0               0                  51  \n",
       "72255                        4           0               0                  47  \n",
       "38562                        9           0               0                  65  \n",
       "64486                        7           0               0                  61  "
      ]
     },
     "execution_count": 138,
     "metadata": {},
     "output_type": "execute_result"
    }
   ],
   "source": [
    "test = pd.read_csv('data/test_2umaH9m.csv', index_col='employee_id')\n",
    "test = test.rename(columns={'KPIs_met >80%':'is_kpi_met', 'awards_won?':'has_won_awards'})\n",
    "print('Test Data Size :', test.shape)\n",
    "test.head()"
   ]
  },
  {
   "cell_type": "code",
   "execution_count": 139,
   "metadata": {
    "ExecuteTime": {
     "end_time": "2018-09-15T13:51:01.151508Z",
     "start_time": "2018-09-15T13:51:01.066734Z"
    }
   },
   "outputs": [
    {
     "data": {
      "text/plain": [
       "department                 0\n",
       "region                     0\n",
       "education               1034\n",
       "gender                     0\n",
       "recruitment_channel        0\n",
       "no_of_trainings            0\n",
       "age                        0\n",
       "previous_year_rating    1812\n",
       "length_of_service          0\n",
       "is_kpi_met                 0\n",
       "has_won_awards             0\n",
       "avg_training_score         0\n",
       "dtype: int64"
      ]
     },
     "execution_count": 139,
     "metadata": {},
     "output_type": "execute_result"
    }
   ],
   "source": [
    "test.isnull().sum()"
   ]
  },
  {
   "cell_type": "markdown",
   "metadata": {
    "ExecuteTime": {
     "end_time": "2018-09-13T19:05:55.603686Z",
     "start_time": "2018-09-13T19:05:55.596707Z"
    }
   },
   "source": [
    "## Data Pre-processing "
   ]
  },
  {
   "cell_type": "code",
   "execution_count": 140,
   "metadata": {
    "ExecuteTime": {
     "end_time": "2018-09-15T13:51:01.367561Z",
     "start_time": "2018-09-15T13:51:01.153502Z"
    }
   },
   "outputs": [
    {
     "data": {
      "text/plain": [
       "department                 0\n",
       "region                     0\n",
       "education               2409\n",
       "gender                     0\n",
       "recruitment_channel        0\n",
       "no_of_trainings            0\n",
       "age                        0\n",
       "previous_year_rating    4124\n",
       "length_of_service          0\n",
       "is_kpi_met                 0\n",
       "has_won_awards             0\n",
       "avg_training_score         0\n",
       "is_promoted                0\n",
       "dtype: int64"
      ]
     },
     "execution_count": 140,
     "metadata": {},
     "output_type": "execute_result"
    }
   ],
   "source": [
    "df.isnull().sum()"
   ]
  },
  {
   "cell_type": "code",
   "execution_count": null,
   "metadata": {},
   "outputs": [],
   "source": []
  },
  {
   "cell_type": "code",
   "execution_count": 141,
   "metadata": {
    "ExecuteTime": {
     "end_time": "2018-09-15T13:51:01.559125Z",
     "start_time": "2018-09-15T13:51:01.372545Z"
    }
   },
   "outputs": [
    {
     "name": "stdout",
     "output_type": "stream",
     "text": [
      "Is there anyone who is promoted whose education is null?? :  122 folks!\n"
     ]
    },
    {
     "data": {
      "text/html": [
       "<div>\n",
       "<style scoped>\n",
       "    .dataframe tbody tr th:only-of-type {\n",
       "        vertical-align: middle;\n",
       "    }\n",
       "\n",
       "    .dataframe tbody tr th {\n",
       "        vertical-align: top;\n",
       "    }\n",
       "\n",
       "    .dataframe thead th {\n",
       "        text-align: right;\n",
       "    }\n",
       "</style>\n",
       "<table border=\"1\" class=\"dataframe\">\n",
       "  <thead>\n",
       "    <tr style=\"text-align: right;\">\n",
       "      <th></th>\n",
       "      <th>count</th>\n",
       "      <th>mean</th>\n",
       "      <th>std</th>\n",
       "      <th>min</th>\n",
       "      <th>25%</th>\n",
       "      <th>50%</th>\n",
       "      <th>75%</th>\n",
       "      <th>max</th>\n",
       "    </tr>\n",
       "  </thead>\n",
       "  <tbody>\n",
       "    <tr>\n",
       "      <th>no_of_trainings</th>\n",
       "      <td>122.0</td>\n",
       "      <td>1.114754</td>\n",
       "      <td>0.533145</td>\n",
       "      <td>1.0</td>\n",
       "      <td>1.0</td>\n",
       "      <td>1.0</td>\n",
       "      <td>1.0</td>\n",
       "      <td>6.0</td>\n",
       "    </tr>\n",
       "    <tr>\n",
       "      <th>age</th>\n",
       "      <td>122.0</td>\n",
       "      <td>29.172131</td>\n",
       "      <td>6.729352</td>\n",
       "      <td>20.0</td>\n",
       "      <td>24.0</td>\n",
       "      <td>28.0</td>\n",
       "      <td>32.0</td>\n",
       "      <td>60.0</td>\n",
       "    </tr>\n",
       "    <tr>\n",
       "      <th>previous_year_rating</th>\n",
       "      <td>97.0</td>\n",
       "      <td>4.061856</td>\n",
       "      <td>1.028899</td>\n",
       "      <td>1.0</td>\n",
       "      <td>3.0</td>\n",
       "      <td>4.0</td>\n",
       "      <td>5.0</td>\n",
       "      <td>5.0</td>\n",
       "    </tr>\n",
       "    <tr>\n",
       "      <th>length_of_service</th>\n",
       "      <td>122.0</td>\n",
       "      <td>3.950820</td>\n",
       "      <td>3.177536</td>\n",
       "      <td>1.0</td>\n",
       "      <td>2.0</td>\n",
       "      <td>3.0</td>\n",
       "      <td>5.0</td>\n",
       "      <td>16.0</td>\n",
       "    </tr>\n",
       "    <tr>\n",
       "      <th>is_kpi_met</th>\n",
       "      <td>122.0</td>\n",
       "      <td>0.704918</td>\n",
       "      <td>0.457960</td>\n",
       "      <td>0.0</td>\n",
       "      <td>0.0</td>\n",
       "      <td>1.0</td>\n",
       "      <td>1.0</td>\n",
       "      <td>1.0</td>\n",
       "    </tr>\n",
       "    <tr>\n",
       "      <th>has_won_awards</th>\n",
       "      <td>122.0</td>\n",
       "      <td>0.163934</td>\n",
       "      <td>0.371743</td>\n",
       "      <td>0.0</td>\n",
       "      <td>0.0</td>\n",
       "      <td>0.0</td>\n",
       "      <td>0.0</td>\n",
       "      <td>1.0</td>\n",
       "    </tr>\n",
       "    <tr>\n",
       "      <th>avg_training_score</th>\n",
       "      <td>122.0</td>\n",
       "      <td>68.008197</td>\n",
       "      <td>17.208731</td>\n",
       "      <td>45.0</td>\n",
       "      <td>50.0</td>\n",
       "      <td>64.0</td>\n",
       "      <td>85.0</td>\n",
       "      <td>98.0</td>\n",
       "    </tr>\n",
       "    <tr>\n",
       "      <th>is_promoted</th>\n",
       "      <td>122.0</td>\n",
       "      <td>1.000000</td>\n",
       "      <td>0.000000</td>\n",
       "      <td>1.0</td>\n",
       "      <td>1.0</td>\n",
       "      <td>1.0</td>\n",
       "      <td>1.0</td>\n",
       "      <td>1.0</td>\n",
       "    </tr>\n",
       "  </tbody>\n",
       "</table>\n",
       "</div>"
      ],
      "text/plain": [
       "                      count       mean        std   min   25%   50%   75%  \\\n",
       "no_of_trainings       122.0   1.114754   0.533145   1.0   1.0   1.0   1.0   \n",
       "age                   122.0  29.172131   6.729352  20.0  24.0  28.0  32.0   \n",
       "previous_year_rating   97.0   4.061856   1.028899   1.0   3.0   4.0   5.0   \n",
       "length_of_service     122.0   3.950820   3.177536   1.0   2.0   3.0   5.0   \n",
       "is_kpi_met            122.0   0.704918   0.457960   0.0   0.0   1.0   1.0   \n",
       "has_won_awards        122.0   0.163934   0.371743   0.0   0.0   0.0   0.0   \n",
       "avg_training_score    122.0  68.008197  17.208731  45.0  50.0  64.0  85.0   \n",
       "is_promoted           122.0   1.000000   0.000000   1.0   1.0   1.0   1.0   \n",
       "\n",
       "                       max  \n",
       "no_of_trainings        6.0  \n",
       "age                   60.0  \n",
       "previous_year_rating   5.0  \n",
       "length_of_service     16.0  \n",
       "is_kpi_met             1.0  \n",
       "has_won_awards         1.0  \n",
       "avg_training_score    98.0  \n",
       "is_promoted            1.0  "
      ]
     },
     "execution_count": 141,
     "metadata": {},
     "output_type": "execute_result"
    }
   ],
   "source": [
    "# Is there anyone who is promoted whose education is null??\n",
    "mask = (df.education.isnull() == True) & (df.is_promoted == 1)\n",
    "print('Is there anyone who is promoted whose education is null?? : ', df[mask].shape[0], 'folks!')\n",
    "df[mask].describe().T"
   ]
  },
  {
   "cell_type": "code",
   "execution_count": null,
   "metadata": {},
   "outputs": [],
   "source": []
  },
  {
   "cell_type": "code",
   "execution_count": 142,
   "metadata": {
    "ExecuteTime": {
     "end_time": "2018-09-15T13:51:01.995770Z",
     "start_time": "2018-09-15T13:51:01.562118Z"
    }
   },
   "outputs": [
    {
     "data": {
      "text/html": [
       "<div>\n",
       "<style scoped>\n",
       "    .dataframe tbody tr th:only-of-type {\n",
       "        vertical-align: middle;\n",
       "    }\n",
       "\n",
       "    .dataframe tbody tr th {\n",
       "        vertical-align: top;\n",
       "    }\n",
       "\n",
       "    .dataframe thead th {\n",
       "        text-align: right;\n",
       "    }\n",
       "</style>\n",
       "<table border=\"1\" class=\"dataframe\">\n",
       "  <thead>\n",
       "    <tr style=\"text-align: right;\">\n",
       "      <th></th>\n",
       "      <th>department</th>\n",
       "      <th>region</th>\n",
       "      <th>education</th>\n",
       "      <th>gender</th>\n",
       "      <th>recruitment_channel</th>\n",
       "      <th>no_of_trainings</th>\n",
       "      <th>age</th>\n",
       "      <th>previous_year_rating</th>\n",
       "      <th>length_of_service</th>\n",
       "      <th>is_kpi_met</th>\n",
       "      <th>has_won_awards</th>\n",
       "      <th>avg_training_score</th>\n",
       "      <th>is_promoted</th>\n",
       "    </tr>\n",
       "    <tr>\n",
       "      <th>employee_id</th>\n",
       "      <th></th>\n",
       "      <th></th>\n",
       "      <th></th>\n",
       "      <th></th>\n",
       "      <th></th>\n",
       "      <th></th>\n",
       "      <th></th>\n",
       "      <th></th>\n",
       "      <th></th>\n",
       "      <th></th>\n",
       "      <th></th>\n",
       "      <th></th>\n",
       "      <th></th>\n",
       "    </tr>\n",
       "  </thead>\n",
       "  <tbody>\n",
       "    <tr>\n",
       "      <th>29934</th>\n",
       "      <td>Technology</td>\n",
       "      <td>region_23</td>\n",
       "      <td>NaN</td>\n",
       "      <td>m</td>\n",
       "      <td>sourcing</td>\n",
       "      <td>1</td>\n",
       "      <td>30</td>\n",
       "      <td>NaN</td>\n",
       "      <td>1</td>\n",
       "      <td>0</td>\n",
       "      <td>0</td>\n",
       "      <td>77</td>\n",
       "      <td>0</td>\n",
       "    </tr>\n",
       "    <tr>\n",
       "      <th>71177</th>\n",
       "      <td>Procurement</td>\n",
       "      <td>region_5</td>\n",
       "      <td>Bachelor's</td>\n",
       "      <td>m</td>\n",
       "      <td>other</td>\n",
       "      <td>1</td>\n",
       "      <td>27</td>\n",
       "      <td>NaN</td>\n",
       "      <td>1</td>\n",
       "      <td>0</td>\n",
       "      <td>0</td>\n",
       "      <td>70</td>\n",
       "      <td>0</td>\n",
       "    </tr>\n",
       "    <tr>\n",
       "      <th>74759</th>\n",
       "      <td>Sales &amp; Marketing</td>\n",
       "      <td>region_4</td>\n",
       "      <td>Bachelor's</td>\n",
       "      <td>m</td>\n",
       "      <td>sourcing</td>\n",
       "      <td>1</td>\n",
       "      <td>26</td>\n",
       "      <td>NaN</td>\n",
       "      <td>1</td>\n",
       "      <td>0</td>\n",
       "      <td>0</td>\n",
       "      <td>44</td>\n",
       "      <td>0</td>\n",
       "    </tr>\n",
       "    <tr>\n",
       "      <th>45709</th>\n",
       "      <td>Sales &amp; Marketing</td>\n",
       "      <td>region_31</td>\n",
       "      <td>Bachelor's</td>\n",
       "      <td>f</td>\n",
       "      <td>other</td>\n",
       "      <td>1</td>\n",
       "      <td>29</td>\n",
       "      <td>NaN</td>\n",
       "      <td>1</td>\n",
       "      <td>0</td>\n",
       "      <td>0</td>\n",
       "      <td>49</td>\n",
       "      <td>0</td>\n",
       "    </tr>\n",
       "    <tr>\n",
       "      <th>26599</th>\n",
       "      <td>Sales &amp; Marketing</td>\n",
       "      <td>region_16</td>\n",
       "      <td>Bachelor's</td>\n",
       "      <td>m</td>\n",
       "      <td>other</td>\n",
       "      <td>2</td>\n",
       "      <td>27</td>\n",
       "      <td>NaN</td>\n",
       "      <td>1</td>\n",
       "      <td>1</td>\n",
       "      <td>0</td>\n",
       "      <td>47</td>\n",
       "      <td>0</td>\n",
       "    </tr>\n",
       "  </tbody>\n",
       "</table>\n",
       "</div>"
      ],
      "text/plain": [
       "                    department     region   education gender  \\\n",
       "employee_id                                                    \n",
       "29934               Technology  region_23         NaN      m   \n",
       "71177              Procurement   region_5  Bachelor's      m   \n",
       "74759        Sales & Marketing   region_4  Bachelor's      m   \n",
       "45709        Sales & Marketing  region_31  Bachelor's      f   \n",
       "26599        Sales & Marketing  region_16  Bachelor's      m   \n",
       "\n",
       "            recruitment_channel  no_of_trainings  age  previous_year_rating  \\\n",
       "employee_id                                                                   \n",
       "29934                  sourcing                1   30                   NaN   \n",
       "71177                     other                1   27                   NaN   \n",
       "74759                  sourcing                1   26                   NaN   \n",
       "45709                     other                1   29                   NaN   \n",
       "26599                     other                2   27                   NaN   \n",
       "\n",
       "             length_of_service  is_kpi_met  has_won_awards  \\\n",
       "employee_id                                                  \n",
       "29934                        1           0               0   \n",
       "71177                        1           0               0   \n",
       "74759                        1           0               0   \n",
       "45709                        1           0               0   \n",
       "26599                        1           1               0   \n",
       "\n",
       "             avg_training_score  is_promoted  \n",
       "employee_id                                   \n",
       "29934                        77            0  \n",
       "71177                        70            0  \n",
       "74759                        44            0  \n",
       "45709                        49            0  \n",
       "26599                        47            0  "
      ]
     },
     "execution_count": 142,
     "metadata": {},
     "output_type": "execute_result"
    }
   ],
   "source": [
    "df[df.previous_year_rating.isnull() == True].head()"
   ]
  },
  {
   "cell_type": "code",
   "execution_count": 143,
   "metadata": {
    "ExecuteTime": {
     "end_time": "2018-09-15T13:51:02.264860Z",
     "start_time": "2018-09-15T13:51:01.999758Z"
    }
   },
   "outputs": [
    {
     "name": "stdout",
     "output_type": "stream",
     "text": [
      "Is there anyone who is promoted whose previous_year_rating is null?? :  339 folks!\n"
     ]
    }
   ],
   "source": [
    "# Is there anyone who is promoted whose previous_year_rating is null??\n",
    "mask = (df.previous_year_rating.isnull() == True) & (df.is_promoted == 1)\n",
    "print('Is there anyone who is promoted whose previous_year_rating is null?? : ', df[mask].shape[0], 'folks!')\n",
    "# df[mask].head()"
   ]
  },
  {
   "cell_type": "code",
   "execution_count": 144,
   "metadata": {
    "ExecuteTime": {
     "end_time": "2018-09-15T13:51:02.384839Z",
     "start_time": "2018-09-15T13:51:02.271846Z"
    }
   },
   "outputs": [
    {
     "name": "stdout",
     "output_type": "stream",
     "text": [
      "Is there anyone whose length_of_service>1  with previous_year_rating as null?? :  0 folks!\n"
     ]
    }
   ],
   "source": [
    "# Is there anyone whose length_of_service>1  with previous_year_rating as null??\n",
    "mask = (df.previous_year_rating.isnull() == True) & (df.length_of_service > 1)\n",
    "print('Is there anyone whose length_of_service>1  with previous_year_rating as null?? : ', df[mask].shape[0], 'folks!')\n",
    "# df[mask].head()\n",
    "# Observation\n",
    "# If only length_of_service=1, the previous_year_rating = NaN\n",
    "# Possibility of FeatureEngineering?? length_of_service*previous_year_rating, setting NaN=0 \n",
    "# [Could be wrong bcoz only last rating is available. What if last ratig is bad but exp is more?]\n",
    "# How does this look for test dataset?"
   ]
  },
  {
   "cell_type": "code",
   "execution_count": 145,
   "metadata": {
    "ExecuteTime": {
     "end_time": "2018-09-15T13:51:02.497160Z",
     "start_time": "2018-09-15T13:51:02.386803Z"
    }
   },
   "outputs": [
    {
     "name": "stdout",
     "output_type": "stream",
     "text": [
      "Is there anyone whose length_of_service>1  with previous_year_rating as null in TEST DATASET?? :  0 folks!\n"
     ]
    }
   ],
   "source": [
    "# How does this look for test dataset?\n",
    "# Is there anyone whose length_of_service>1  with previous_year_rating as null??\n",
    "mask = (test.previous_year_rating.isnull() == True) & (test.length_of_service > 1)\n",
    "print('Is there anyone whose length_of_service>1  with previous_year_rating as null in TEST DATASET?? : ', test[mask].shape[0], 'folks!')\n",
    "# None, so we can set the value as Zero"
   ]
  },
  {
   "cell_type": "code",
   "execution_count": null,
   "metadata": {},
   "outputs": [],
   "source": []
  },
  {
   "cell_type": "code",
   "execution_count": 146,
   "metadata": {
    "ExecuteTime": {
     "end_time": "2018-09-15T13:51:02.679697Z",
     "start_time": "2018-09-15T13:51:02.500152Z"
    }
   },
   "outputs": [
    {
     "name": "stdout",
     "output_type": "stream",
     "text": [
      "<class 'pandas.core.frame.DataFrame'>\n",
      "Int64Index: 54808 entries, 65438 to 51526\n",
      "Data columns (total 13 columns):\n",
      "department              54808 non-null object\n",
      "region                  54808 non-null object\n",
      "education               52399 non-null object\n",
      "gender                  54808 non-null object\n",
      "recruitment_channel     54808 non-null object\n",
      "no_of_trainings         54808 non-null int64\n",
      "age                     54808 non-null int64\n",
      "previous_year_rating    50684 non-null float64\n",
      "length_of_service       54808 non-null int64\n",
      "is_kpi_met              54808 non-null int64\n",
      "has_won_awards          54808 non-null int64\n",
      "avg_training_score      54808 non-null int64\n",
      "is_promoted             54808 non-null int64\n",
      "dtypes: float64(1), int64(7), object(5)\n",
      "memory usage: 5.9+ MB\n",
      "None\n",
      "\n",
      "After processing:\n",
      "\n",
      "<class 'pandas.core.frame.DataFrame'>\n",
      "Int64Index: 54808 entries, 65438 to 51526\n",
      "Data columns (total 13 columns):\n",
      "department              54808 non-null category\n",
      "region                  54808 non-null category\n",
      "education               52399 non-null category\n",
      "gender                  54808 non-null category\n",
      "recruitment_channel     54808 non-null category\n",
      "no_of_trainings         54808 non-null int8\n",
      "age                     54808 non-null int8\n",
      "previous_year_rating    50684 non-null float16\n",
      "length_of_service       54808 non-null int8\n",
      "is_kpi_met              54808 non-null int8\n",
      "has_won_awards          54808 non-null int8\n",
      "avg_training_score      54808 non-null int8\n",
      "is_promoted             54808 non-null int8\n",
      "dtypes: category(5), float16(1), int8(7)\n",
      "memory usage: 1.2 MB\n",
      "None\n"
     ]
    }
   ],
   "source": [
    "print(df.info())\n",
    "\n",
    "df['is_promoted'] = df['is_promoted'].astype(np.int8)\n",
    "df['avg_training_score'] = df['avg_training_score'].astype(np.int8)\n",
    "df['has_won_awards'] = df['has_won_awards'].astype(np.int8)\n",
    "df['is_kpi_met'] = df['is_kpi_met'].astype(np.int8)\n",
    "df['length_of_service'] = df['length_of_service'].astype(np.int8)\n",
    "df['age'] = df['age'].astype(np.int8)\n",
    "df['no_of_trainings'] = df['no_of_trainings'].astype(np.int8)\n",
    "\n",
    "df['previous_year_rating'] = df['previous_year_rating'].astype(np.float16)\n",
    "\n",
    "df['department'] = df['department'].astype('category')\n",
    "df['region'] = df['region'].astype('category')\n",
    "df['education'] = df['education'].astype('category')\n",
    "df['gender'] = df['gender'].astype('category')\n",
    "df['recruitment_channel'] = df['recruitment_channel'].astype('category')\n",
    "\n",
    "print('\\nAfter processing:\\n',)\n",
    "print(df.info())"
   ]
  },
  {
   "cell_type": "code",
   "execution_count": 147,
   "metadata": {
    "ExecuteTime": {
     "end_time": "2018-09-15T13:51:02.815311Z",
     "start_time": "2018-09-15T13:51:02.682664Z"
    }
   },
   "outputs": [
    {
     "name": "stdout",
     "output_type": "stream",
     "text": [
      "<class 'pandas.core.frame.DataFrame'>\n",
      "Int64Index: 23490 entries, 8724 to 5973\n",
      "Data columns (total 12 columns):\n",
      "department              23490 non-null object\n",
      "region                  23490 non-null object\n",
      "education               22456 non-null object\n",
      "gender                  23490 non-null object\n",
      "recruitment_channel     23490 non-null object\n",
      "no_of_trainings         23490 non-null int64\n",
      "age                     23490 non-null int64\n",
      "previous_year_rating    21678 non-null float64\n",
      "length_of_service       23490 non-null int64\n",
      "is_kpi_met              23490 non-null int64\n",
      "has_won_awards          23490 non-null int64\n",
      "avg_training_score      23490 non-null int64\n",
      "dtypes: float64(1), int64(6), object(5)\n",
      "memory usage: 2.3+ MB\n",
      "None\n",
      "\n",
      "After processing:\n",
      "\n",
      "<class 'pandas.core.frame.DataFrame'>\n",
      "Int64Index: 23490 entries, 8724 to 5973\n",
      "Data columns (total 12 columns):\n",
      "department              23490 non-null category\n",
      "region                  23490 non-null category\n",
      "education               22456 non-null category\n",
      "gender                  23490 non-null category\n",
      "recruitment_channel     23490 non-null category\n",
      "no_of_trainings         23490 non-null int8\n",
      "age                     23490 non-null int8\n",
      "previous_year_rating    21678 non-null float16\n",
      "length_of_service       23490 non-null int8\n",
      "is_kpi_met              23490 non-null int8\n",
      "has_won_awards          23490 non-null int8\n",
      "avg_training_score      23490 non-null int8\n",
      "dtypes: category(5), float16(1), int8(6)\n",
      "memory usage: 483.9 KB\n",
      "None\n"
     ]
    }
   ],
   "source": [
    "print(test.info())\n",
    "\n",
    "# test['is_promoted'] = test['is_promoted'].astype(np.int8)\n",
    "test['avg_training_score'] = test['avg_training_score'].astype(np.int8)\n",
    "test['has_won_awards'] = test['has_won_awards'].astype(np.int8)\n",
    "test['is_kpi_met'] = test['is_kpi_met'].astype(np.int8)\n",
    "test['length_of_service'] = test['length_of_service'].astype(np.int8)\n",
    "test['age'] = test['age'].astype(np.int8)\n",
    "test['no_of_trainings'] = test['no_of_trainings'].astype(np.int8)\n",
    "\n",
    "test['previous_year_rating'] = test['previous_year_rating'].astype(np.float16)\n",
    "\n",
    "test['department'] = test['department'].astype('category')\n",
    "test['region'] = test['region'].astype('category')\n",
    "test['education'] = test['education'].astype('category')\n",
    "test['gender'] = test['gender'].astype('category')\n",
    "test['recruitment_channel'] = test['recruitment_channel'].astype('category')\n",
    "\n",
    "print('\\nAfter processing:\\n',)\n",
    "print(test.info())"
   ]
  },
  {
   "cell_type": "code",
   "execution_count": null,
   "metadata": {},
   "outputs": [],
   "source": []
  },
  {
   "cell_type": "code",
   "execution_count": 148,
   "metadata": {
    "ExecuteTime": {
     "end_time": "2018-09-15T13:51:03.422314Z",
     "start_time": "2018-09-15T13:51:02.818302Z"
    }
   },
   "outputs": [
    {
     "data": {
      "text/plain": [
       "<matplotlib.axes._subplots.AxesSubplot at 0x1d153f790f0>"
      ]
     },
     "execution_count": 148,
     "metadata": {},
     "output_type": "execute_result"
    },
    {
     "data": {
      "image/png": "[encoded data removed]",
      "text/plain": [
       "<Figure size 432x288 with 2 Axes>"
      ]
     },
     "metadata": {},
     "output_type": "display_data"
    }
   ],
   "source": [
    "# Compute the correlation matrix\n",
    "correlations = df.corr()\n",
    "correlations\n",
    "# Obsrvation: \n",
    "# Age and Length of service has a good correlation of 0.657111. \n",
    "# But then both these features - age and length_of_service don't seem to have any correlation with the target - is_promoted.\n",
    "# no_of_trainings as well has poor correlation with target - is_promoted column.\n",
    "\n",
    "# plot correlation matrix\n",
    "sns.heatmap(correlations,cmap=\"YlGnBu\",annot=True)"
   ]
  },
  {
   "cell_type": "code",
   "execution_count": 149,
   "metadata": {
    "ExecuteTime": {
     "end_time": "2018-09-15T13:51:03.442261Z",
     "start_time": "2018-09-15T13:51:03.425306Z"
    }
   },
   "outputs": [
    {
     "data": {
      "text/html": [
       "<div>\n",
       "<style scoped>\n",
       "    .dataframe tbody tr th:only-of-type {\n",
       "        vertical-align: middle;\n",
       "    }\n",
       "\n",
       "    .dataframe tbody tr th {\n",
       "        vertical-align: top;\n",
       "    }\n",
       "\n",
       "    .dataframe thead th {\n",
       "        text-align: right;\n",
       "    }\n",
       "</style>\n",
       "<table border=\"1\" class=\"dataframe\">\n",
       "  <thead>\n",
       "    <tr style=\"text-align: right;\">\n",
       "      <th></th>\n",
       "      <th>Correlation</th>\n",
       "    </tr>\n",
       "  </thead>\n",
       "  <tbody>\n",
       "    <tr>\n",
       "      <th>is_promoted</th>\n",
       "      <td>1.000000</td>\n",
       "    </tr>\n",
       "    <tr>\n",
       "      <th>is_kpi_met</th>\n",
       "      <td>0.221582</td>\n",
       "    </tr>\n",
       "    <tr>\n",
       "      <th>has_won_awards</th>\n",
       "      <td>0.195871</td>\n",
       "    </tr>\n",
       "    <tr>\n",
       "      <th>avg_training_score</th>\n",
       "      <td>0.181147</td>\n",
       "    </tr>\n",
       "    <tr>\n",
       "      <th>previous_year_rating</th>\n",
       "      <td>0.159320</td>\n",
       "    </tr>\n",
       "    <tr>\n",
       "      <th>length_of_service</th>\n",
       "      <td>-0.010670</td>\n",
       "    </tr>\n",
       "    <tr>\n",
       "      <th>age</th>\n",
       "      <td>-0.017166</td>\n",
       "    </tr>\n",
       "    <tr>\n",
       "      <th>no_of_trainings</th>\n",
       "      <td>-0.024896</td>\n",
       "    </tr>\n",
       "  </tbody>\n",
       "</table>\n",
       "</div>"
      ],
      "text/plain": [
       "                      Correlation\n",
       "is_promoted              1.000000\n",
       "is_kpi_met               0.221582\n",
       "has_won_awards           0.195871\n",
       "avg_training_score       0.181147\n",
       "previous_year_rating     0.159320\n",
       "length_of_service       -0.010670\n",
       "age                     -0.017166\n",
       "no_of_trainings         -0.024896"
      ]
     },
     "execution_count": 149,
     "metadata": {},
     "output_type": "execute_result"
    }
   ],
   "source": [
    "def correlaton_summary(correlations):\n",
    "    correlation_df = pd.DataFrame(correlations['is_promoted'])\n",
    "    correlation_df.columns = [\"Correlation\"]\n",
    "    correlation_df = correlation_df.sort_values(by=['Correlation'], ascending=False)\n",
    "    return correlation_df\n",
    "\n",
    "correlaton_summary(correlations)"
   ]
  },
  {
   "cell_type": "code",
   "execution_count": 150,
   "metadata": {
    "ExecuteTime": {
     "end_time": "2018-09-15T13:51:03.588905Z",
     "start_time": "2018-09-15T13:51:03.448259Z"
    }
   },
   "outputs": [],
   "source": [
    "# def score(df):\n",
    "#     df['score'] = (7.5 * df['is_kpi_met']) + (5.5 * df['has_won_awards']) + (1.5 * df['previous_year_rating']) + (.25 * df['avg_training_score'])\n",
    "#     return df\n",
    "\n",
    "# df.fillna({'previous_year_rating':3}, inplace=True)\n",
    "# correlaton_summary( score(df).corr() )"
   ]
  },
  {
   "cell_type": "code",
   "execution_count": 151,
   "metadata": {
    "ExecuteTime": {
     "end_time": "2018-09-15T13:51:03.805732Z",
     "start_time": "2018-09-15T13:51:03.591860Z"
    }
   },
   "outputs": [
    {
     "data": {
      "text/html": [
       "<div>\n",
       "<style scoped>\n",
       "    .dataframe tbody tr th:only-of-type {\n",
       "        vertical-align: middle;\n",
       "    }\n",
       "\n",
       "    .dataframe tbody tr th {\n",
       "        vertical-align: top;\n",
       "    }\n",
       "\n",
       "    .dataframe thead th {\n",
       "        text-align: right;\n",
       "    }\n",
       "</style>\n",
       "<table border=\"1\" class=\"dataframe\">\n",
       "  <thead>\n",
       "    <tr style=\"text-align: right;\">\n",
       "      <th></th>\n",
       "      <th>count</th>\n",
       "      <th>mean</th>\n",
       "      <th>std</th>\n",
       "      <th>min</th>\n",
       "      <th>25%</th>\n",
       "      <th>50%</th>\n",
       "      <th>75%</th>\n",
       "      <th>max</th>\n",
       "    </tr>\n",
       "  </thead>\n",
       "  <tbody>\n",
       "    <tr>\n",
       "      <th>no_of_trainings</th>\n",
       "      <td>54808.0</td>\n",
       "      <td>1.253011</td>\n",
       "      <td>0.609264</td>\n",
       "      <td>1.0</td>\n",
       "      <td>1.0</td>\n",
       "      <td>1.0</td>\n",
       "      <td>1.0</td>\n",
       "      <td>10.0</td>\n",
       "    </tr>\n",
       "    <tr>\n",
       "      <th>age</th>\n",
       "      <td>54808.0</td>\n",
       "      <td>34.803915</td>\n",
       "      <td>7.660169</td>\n",
       "      <td>20.0</td>\n",
       "      <td>29.0</td>\n",
       "      <td>33.0</td>\n",
       "      <td>39.0</td>\n",
       "      <td>60.0</td>\n",
       "    </tr>\n",
       "    <tr>\n",
       "      <th>previous_year_rating</th>\n",
       "      <td>50684.0</td>\n",
       "      <td>inf</td>\n",
       "      <td>1.259766</td>\n",
       "      <td>1.0</td>\n",
       "      <td>3.0</td>\n",
       "      <td>3.0</td>\n",
       "      <td>4.0</td>\n",
       "      <td>5.0</td>\n",
       "    </tr>\n",
       "    <tr>\n",
       "      <th>length_of_service</th>\n",
       "      <td>54808.0</td>\n",
       "      <td>5.865512</td>\n",
       "      <td>4.265094</td>\n",
       "      <td>1.0</td>\n",
       "      <td>3.0</td>\n",
       "      <td>5.0</td>\n",
       "      <td>7.0</td>\n",
       "      <td>37.0</td>\n",
       "    </tr>\n",
       "    <tr>\n",
       "      <th>is_kpi_met</th>\n",
       "      <td>54808.0</td>\n",
       "      <td>0.351974</td>\n",
       "      <td>0.477590</td>\n",
       "      <td>0.0</td>\n",
       "      <td>0.0</td>\n",
       "      <td>0.0</td>\n",
       "      <td>1.0</td>\n",
       "      <td>1.0</td>\n",
       "    </tr>\n",
       "    <tr>\n",
       "      <th>has_won_awards</th>\n",
       "      <td>54808.0</td>\n",
       "      <td>0.023172</td>\n",
       "      <td>0.150450</td>\n",
       "      <td>0.0</td>\n",
       "      <td>0.0</td>\n",
       "      <td>0.0</td>\n",
       "      <td>0.0</td>\n",
       "      <td>1.0</td>\n",
       "    </tr>\n",
       "    <tr>\n",
       "      <th>avg_training_score</th>\n",
       "      <td>54808.0</td>\n",
       "      <td>63.386750</td>\n",
       "      <td>13.371559</td>\n",
       "      <td>39.0</td>\n",
       "      <td>51.0</td>\n",
       "      <td>60.0</td>\n",
       "      <td>76.0</td>\n",
       "      <td>99.0</td>\n",
       "    </tr>\n",
       "    <tr>\n",
       "      <th>is_promoted</th>\n",
       "      <td>54808.0</td>\n",
       "      <td>0.085170</td>\n",
       "      <td>0.279137</td>\n",
       "      <td>0.0</td>\n",
       "      <td>0.0</td>\n",
       "      <td>0.0</td>\n",
       "      <td>0.0</td>\n",
       "      <td>1.0</td>\n",
       "    </tr>\n",
       "  </tbody>\n",
       "</table>\n",
       "</div>"
      ],
      "text/plain": [
       "                        count       mean        std   min   25%   50%   75%  \\\n",
       "no_of_trainings       54808.0   1.253011   0.609264   1.0   1.0   1.0   1.0   \n",
       "age                   54808.0  34.803915   7.660169  20.0  29.0  33.0  39.0   \n",
       "previous_year_rating  50684.0        inf   1.259766   1.0   3.0   3.0   4.0   \n",
       "length_of_service     54808.0   5.865512   4.265094   1.0   3.0   5.0   7.0   \n",
       "is_kpi_met            54808.0   0.351974   0.477590   0.0   0.0   0.0   1.0   \n",
       "has_won_awards        54808.0   0.023172   0.150450   0.0   0.0   0.0   0.0   \n",
       "avg_training_score    54808.0  63.386750  13.371559  39.0  51.0  60.0  76.0   \n",
       "is_promoted           54808.0   0.085170   0.279137   0.0   0.0   0.0   0.0   \n",
       "\n",
       "                       max  \n",
       "no_of_trainings       10.0  \n",
       "age                   60.0  \n",
       "previous_year_rating   5.0  \n",
       "length_of_service     37.0  \n",
       "is_kpi_met             1.0  \n",
       "has_won_awards         1.0  \n",
       "avg_training_score    99.0  \n",
       "is_promoted            1.0  "
      ]
     },
     "execution_count": 151,
     "metadata": {},
     "output_type": "execute_result"
    }
   ],
   "source": [
    "df.describe().T"
   ]
  },
  {
   "cell_type": "code",
   "execution_count": 152,
   "metadata": {
    "ExecuteTime": {
     "end_time": "2018-09-15T13:51:03.855576Z",
     "start_time": "2018-09-15T13:51:03.808699Z"
    },
    "scrolled": true
   },
   "outputs": [],
   "source": [
    "# test.fillna({'previous_year_rating':3}, inplace=True)\n",
    "# score(test).corr()"
   ]
  },
  {
   "cell_type": "markdown",
   "metadata": {},
   "source": [
    "## Data Modeling"
   ]
  },
  {
   "cell_type": "code",
   "execution_count": 153,
   "metadata": {
    "ExecuteTime": {
     "end_time": "2018-09-15T13:51:03.979247Z",
     "start_time": "2018-09-15T13:51:03.858566Z"
    }
   },
   "outputs": [],
   "source": [
    "class RatingsImputer(BaseEstimator, TransformerMixin):\n",
    "    def fit (self, X, y=None, **fit_params):\n",
    "        return self\n",
    "    \n",
    "    def transform(self, X):\n",
    "        assert isinstance(X, pd.DataFrame)\n",
    "        #X.loc[X.previous_year_rating.isnull(), 'previous_year_rating'] = 0\n",
    "        X = X.fillna({'previous_year_rating':3})\n",
    "        return X\n",
    "\n",
    "# fillna_pipe.fit_transform(df).isnull().sum() # For Testing purpose only"
   ]
  },
  {
   "cell_type": "code",
   "execution_count": 154,
   "metadata": {
    "ExecuteTime": {
     "end_time": "2018-09-15T13:51:04.090945Z",
     "start_time": "2018-09-15T13:51:03.982236Z"
    }
   },
   "outputs": [],
   "source": [
    "class ColumnSelector(BaseEstimator, TransformerMixin):\n",
    "    def __init__(self, columns=None):\n",
    "        self.columns = columns\n",
    "    \n",
    "    def fit (self, X, y=None, **fit_params):\n",
    "        return self\n",
    "    \n",
    "    def transform(self, X):\n",
    "        assert isinstance(X, pd.DataFrame)\n",
    "        try:\n",
    "            return X[self.columns]\n",
    "        except KeyError:\n",
    "            cols_error = list(set(self.columns) - set(X.columns))\n",
    "            raise KeyError(\"The DataFrame does not include the columns: %s\" % cols_error)\n",
    "\n",
    "class MultiColumnLabelEncoder:\n",
    "    def __init__(self,columns = None):\n",
    "        self.columns = columns # array of column names to encode\n",
    "\n",
    "    def fit(self,X,y=None):\n",
    "        return self # not relevant here\n",
    "\n",
    "    def transform(self,X):\n",
    "        '''\n",
    "        Transforms columns of X specified in self.columns using LabelEncoder(). \n",
    "        If no columns specified, transforms all columns in X.\n",
    "        '''\n",
    "        output = X.copy()\n",
    "        if self.columns is not None:\n",
    "            for col in self.columns:\n",
    "                output[col] = LabelEncoder().fit_transform(output[col])\n",
    "        else:\n",
    "            for colname,col in output.iteritems():\n",
    "                output[colname] = LabelEncoder().fit_transform(col)\n",
    "        return output\n",
    "\n",
    "    def fit_transform(self,X,y=None):\n",
    "        return self.fit(X,y).transform(X)"
   ]
  },
  {
   "cell_type": "code",
   "execution_count": 155,
   "metadata": {
    "ExecuteTime": {
     "end_time": "2018-09-15T13:51:04.382939Z",
     "start_time": "2018-09-15T13:51:04.093938Z"
    }
   },
   "outputs": [
    {
     "name": "stdout",
     "output_type": "stream",
     "text": [
      "(54808, 4)\n",
      "[[-0.44  0.    1.    2.  ]\n",
      " [ 0.    0.    0.    2.  ]\n",
      " [-0.4   0.    0.    0.  ]]\n"
     ]
    }
   ],
   "source": [
    "select_columns = ['is_kpi_met', 'has_won_awards', 'avg_training_score', 'previous_year_rating'] # Removing 'education'\n",
    "select_numeric_cols = ['avg_training_score', 'has_won_awards', 'is_kpi_met', 'previous_year_rating']\n",
    "# select_categorical_cols = ['education']\n",
    "select_categorical_cols = []\n",
    "\n",
    "# fillna_pipe = make_pipeline(RatingsImputer(), EducationCleanser())\n",
    "fillna_pipe = make_pipeline(RatingsImputer())\n",
    "select_categorical_cols_pipe = make_pipeline(ColumnSelector(columns=select_categorical_cols), MultiColumnLabelEncoder())\n",
    "select_numeric_cols_pipe = make_pipeline(ColumnSelector(columns=select_numeric_cols),RobustScaler())\n",
    "\n",
    "select_fu = make_union(select_numeric_cols_pipe, select_categorical_cols_pipe)\n",
    "select_pipe = make_pipeline(fillna_pipe, select_fu)\n",
    "\n",
    "# Do FIT_TRANSFORM again based on selected columns after correlation\n",
    "train_vec = select_pipe.fit_transform(df[select_columns])\n",
    "print(train_vec.shape)\n",
    "print(train_vec[:3])"
   ]
  },
  {
   "cell_type": "code",
   "execution_count": 156,
   "metadata": {
    "ExecuteTime": {
     "end_time": "2018-09-15T13:51:04.527868Z",
     "start_time": "2018-09-15T13:51:04.385931Z"
    }
   },
   "outputs": [],
   "source": [
    "# Split train data-set\n",
    "from sklearn.model_selection import train_test_split\n",
    "x_train, x_test, y_train, y_test = train_test_split(train_vec, \n",
    "                                                    df['is_promoted'], \n",
    "                                                    train_size = 0.75, \n",
    "                                                    random_state = 42)"
   ]
  },
  {
   "cell_type": "code",
   "execution_count": null,
   "metadata": {
    "ExecuteTime": {
     "end_time": "2018-09-14T10:27:15.310527Z",
     "start_time": "2018-09-14T10:27:15.304546Z"
    }
   },
   "outputs": [],
   "source": []
  },
  {
   "cell_type": "code",
   "execution_count": 157,
   "metadata": {
    "ExecuteTime": {
     "end_time": "2018-09-15T13:51:04.643429Z",
     "start_time": "2018-09-15T13:51:04.530857Z"
    }
   },
   "outputs": [
    {
     "data": {
      "text/plain": [
       "array([[ 0.68,  0.  ,  1.  ,  0.  ],\n",
       "       [-0.36,  0.  ,  0.  ,  0.  ],\n",
       "       [-0.52,  0.  ,  0.  , -2.  ],\n",
       "       [ 0.2 ,  0.  ,  0.  , -1.  ],\n",
       "       [ 0.04,  0.  ,  0.  ,  1.  ]])"
      ]
     },
     "execution_count": 157,
     "metadata": {},
     "output_type": "execute_result"
    }
   ],
   "source": [
    "test_vec = select_pipe.transform(test[select_columns])\n",
    "test_vec[:5]"
   ]
  },
  {
   "cell_type": "markdown",
   "metadata": {},
   "source": [
    "## LGBoost for Classification"
   ]
  },
  {
   "cell_type": "code",
   "execution_count": 211,
   "metadata": {
    "ExecuteTime": {
     "end_time": "2018-09-15T17:14:38.928716Z",
     "start_time": "2018-09-15T17:14:38.742601Z"
    }
   },
   "outputs": [
    {
     "name": "stdout",
     "output_type": "stream",
     "text": [
      "0    14004\n",
      "1     4668\n",
      "Name: is_promoted, dtype: int64\n"
     ]
    },
    {
     "data": {
      "text/plain": [
       "Text(0,0.5,'Frequency')"
      ]
     },
     "execution_count": 211,
     "metadata": {},
     "output_type": "execute_result"
    },
    {
     "data": {
      "image/png": "[encoded data removed]",
      "text/plain": [
       "<Figure size 432x288 with 1 Axes>"
      ]
     },
     "metadata": {},
     "output_type": "display_data"
    }
   ],
   "source": [
    "# Ref.: https://www.kaggle.com/joparga3/in-depth-skewed-data-classif-93-recall-acc-now\n",
    "dframe = pd.DataFrame(data=train_vec, columns=select_columns)\n",
    "dframe['is_promoted'] = df['is_promoted'].values\n",
    "\n",
    "# Number of data points in the minority class\n",
    "promoted_ones = dframe[dframe.is_promoted==1]\n",
    "others = dframe[dframe.is_promoted==0]\n",
    "others_sample = others.sample(promoted_ones.shape[0] * 3) # N-times the size of promoted_ones\n",
    "\n",
    "newdf = pd.concat([promoted_ones, others_sample])\n",
    "newdf = newdf.sample(frac=1)\n",
    "\n",
    "count_classes = pd.value_counts(newdf['is_promoted'], sort = True).sort_index()\n",
    "print(count_classes)\n",
    "count_classes.plot(kind = 'bar')\n",
    "plt.title(\"Promotion-class histogram\")\n",
    "plt.xlabel(\"IsPromoted???\")\n",
    "plt.ylabel(\"Frequency\")"
   ]
  },
  {
   "cell_type": "code",
   "execution_count": 212,
   "metadata": {
    "ExecuteTime": {
     "end_time": "2018-09-15T17:14:43.538823Z",
     "start_time": "2018-09-15T17:14:43.524356Z"
    },
    "scrolled": true
   },
   "outputs": [
    {
     "data": {
      "text/html": [
       "<div>\n",
       "<style scoped>\n",
       "    .dataframe tbody tr th:only-of-type {\n",
       "        vertical-align: middle;\n",
       "    }\n",
       "\n",
       "    .dataframe tbody tr th {\n",
       "        vertical-align: top;\n",
       "    }\n",
       "\n",
       "    .dataframe thead th {\n",
       "        text-align: right;\n",
       "    }\n",
       "</style>\n",
       "<table border=\"1\" class=\"dataframe\">\n",
       "  <thead>\n",
       "    <tr style=\"text-align: right;\">\n",
       "      <th></th>\n",
       "      <th>is_kpi_met</th>\n",
       "      <th>has_won_awards</th>\n",
       "      <th>avg_training_score</th>\n",
       "      <th>previous_year_rating</th>\n",
       "      <th>is_promoted</th>\n",
       "    </tr>\n",
       "  </thead>\n",
       "  <tbody>\n",
       "    <tr>\n",
       "      <th>6290</th>\n",
       "      <td>-0.08</td>\n",
       "      <td>0.0</td>\n",
       "      <td>0.0</td>\n",
       "      <td>0.0</td>\n",
       "      <td>0</td>\n",
       "    </tr>\n",
       "    <tr>\n",
       "      <th>7627</th>\n",
       "      <td>-0.04</td>\n",
       "      <td>0.0</td>\n",
       "      <td>1.0</td>\n",
       "      <td>0.0</td>\n",
       "      <td>1</td>\n",
       "    </tr>\n",
       "    <tr>\n",
       "      <th>6418</th>\n",
       "      <td>-0.44</td>\n",
       "      <td>0.0</td>\n",
       "      <td>0.0</td>\n",
       "      <td>1.0</td>\n",
       "      <td>0</td>\n",
       "    </tr>\n",
       "    <tr>\n",
       "      <th>39518</th>\n",
       "      <td>0.28</td>\n",
       "      <td>0.0</td>\n",
       "      <td>0.0</td>\n",
       "      <td>0.0</td>\n",
       "      <td>1</td>\n",
       "    </tr>\n",
       "    <tr>\n",
       "      <th>50282</th>\n",
       "      <td>1.04</td>\n",
       "      <td>0.0</td>\n",
       "      <td>0.0</td>\n",
       "      <td>1.0</td>\n",
       "      <td>0</td>\n",
       "    </tr>\n",
       "  </tbody>\n",
       "</table>\n",
       "</div>"
      ],
      "text/plain": [
       "       is_kpi_met  has_won_awards  avg_training_score  previous_year_rating  \\\n",
       "6290        -0.08             0.0                 0.0                   0.0   \n",
       "7627        -0.04             0.0                 1.0                   0.0   \n",
       "6418        -0.44             0.0                 0.0                   1.0   \n",
       "39518        0.28             0.0                 0.0                   0.0   \n",
       "50282        1.04             0.0                 0.0                   1.0   \n",
       "\n",
       "       is_promoted  \n",
       "6290             0  \n",
       "7627             1  \n",
       "6418             0  \n",
       "39518            1  \n",
       "50282            0  "
      ]
     },
     "execution_count": 212,
     "metadata": {},
     "output_type": "execute_result"
    }
   ],
   "source": [
    "newdf.head()"
   ]
  },
  {
   "cell_type": "code",
   "execution_count": 213,
   "metadata": {
    "ExecuteTime": {
     "end_time": "2018-09-15T17:14:47.150211Z",
     "start_time": "2018-09-15T17:14:47.135429Z"
    }
   },
   "outputs": [],
   "source": [
    "x = newdf[['is_kpi_met', 'has_won_awards', 'avg_training_score', 'previous_year_rating']]\n",
    "y = newdf['is_promoted']\n",
    "x_train, x_test, y_train, y_test = train_test_split(x, y,  \n",
    "                                                    train_size = 0.75, \n",
    "                                                    random_state = 42)"
   ]
  },
  {
   "cell_type": "code",
   "execution_count": 250,
   "metadata": {
    "ExecuteTime": {
     "end_time": "2018-09-15T17:39:16.625445Z",
     "start_time": "2018-09-15T17:39:15.909416Z"
    }
   },
   "outputs": [
    {
     "data": {
      "text/plain": [
       "array([0.5885273 , 0.5890411 , 0.58333333])"
      ]
     },
     "execution_count": 250,
     "metadata": {},
     "output_type": "execute_result"
    }
   ],
   "source": [
    "from lightgbm import LGBMClassifier\n",
    "\n",
    "from sklearn.model_selection import cross_val_score, cross_validate\n",
    "\n",
    "lgb_clf=LGBMClassifier(random_state=42, silent=False, learning_rate=.15, n_estimators=100, class_weight={0:1, 1:5})\n",
    "\n",
    "scores = cross_val_score(lgb_clf, x_train, y_train, cv=3, scoring='f1')\n",
    "scores # Check against the recall score, for this is something the  Public LeaderBoard is scoring against."
   ]
  },
  {
   "cell_type": "code",
   "execution_count": 251,
   "metadata": {
    "ExecuteTime": {
     "end_time": "2018-09-15T17:39:19.630063Z",
     "start_time": "2018-09-15T17:39:19.191096Z"
    }
   },
   "outputs": [
    {
     "name": "stdout",
     "output_type": "stream",
     "text": [
      "Accuracy =  0.6780741216795202\n",
      "              precision    recall  f1-score   support\n",
      "\n",
      "Not Promoted       0.96      0.60      0.74     14004\n",
      "    Promoted       0.43      0.92      0.59      4668\n",
      "\n",
      " avg / total       0.83      0.68      0.70     18672\n",
      "\n"
     ]
    },
    {
     "data": {
      "text/plain": [
       "array([[8372, 5632],\n",
       "       [ 379, 4289]], dtype=int64)"
      ]
     },
     "execution_count": 251,
     "metadata": {},
     "output_type": "execute_result"
    }
   ],
   "source": [
    "from sklearn.metrics import classification_report, confusion_matrix\n",
    "\n",
    "lgb_clf.fit(x_train, y_train)\n",
    "preds = lgb_clf.predict(x)\n",
    "\n",
    "print('Accuracy = ', np.mean(preds == y))\n",
    "\n",
    "creport = classification_report(y, preds, target_names=['Not Promoted', 'Promoted'])\n",
    "print(creport)\n",
    "\n",
    "confusion_matrix(y, preds)"
   ]
  },
  {
   "cell_type": "code",
   "execution_count": 209,
   "metadata": {
    "ExecuteTime": {
     "end_time": "2018-09-15T17:09:46.609449Z",
     "start_time": "2018-09-15T17:09:46.604836Z"
    }
   },
   "outputs": [],
   "source": [
    "def conv2df(preds):\n",
    "    df = pd.DataFrame(data={\n",
    "        'employee_id': test.index.values,\n",
    "        'is_promoted': preds\n",
    "    })\n",
    "    df['is_promoted'] = df['is_promoted'].astype(np.int8)\n",
    "    return df"
   ]
  },
  {
   "cell_type": "code",
   "execution_count": 210,
   "metadata": {
    "ExecuteTime": {
     "end_time": "2018-09-15T17:10:29.840658Z",
     "start_time": "2018-09-15T17:10:29.603375Z"
    }
   },
   "outputs": [],
   "source": [
    "conv2df(lgb_clf.predict(test_vec)).to_csv('data/output/LGB_sd.csv', index=False)"
   ]
  },
  {
   "cell_type": "code",
   "execution_count": null,
   "metadata": {},
   "outputs": [],
   "source": []
  },
  {
   "cell_type": "code",
   "execution_count": 231,
   "metadata": {
    "ExecuteTime": {
     "end_time": "2018-09-15T17:21:40.305673Z",
     "start_time": "2018-09-15T17:21:38.232996Z"
    }
   },
   "outputs": [
    {
     "name": "stdout",
     "output_type": "stream",
     "text": [
      "Scores: [0.44535359 0.4403778  0.42173656]\n",
      "Accuracy =  0.7997000856898029\n",
      "              precision    recall  f1-score   support\n",
      "\n",
      "Not Promoted       0.81      0.96      0.88     14004\n",
      "    Promoted       0.73      0.31      0.44      4668\n",
      "\n",
      " avg / total       0.79      0.80      0.77     18672\n",
      "\n"
     ]
    },
    {
     "data": {
      "text/plain": [
       "array([[13474,   530],\n",
       "       [ 3210,  1458]], dtype=int64)"
      ]
     },
     "execution_count": 231,
     "metadata": {},
     "output_type": "execute_result"
    }
   ],
   "source": [
    "from xgboost import XGBClassifier\n",
    "from sklearn.model_selection import cross_val_score, cross_validate\n",
    "from sklearn.metrics import classification_report, confusion_matrix\n",
    "\n",
    "xgb_clf=XGBClassifier(random_state=42, silent=False, n_jobs=-1, learning_rate=.3, n_estimators=45)\n",
    "\n",
    "scores = cross_val_score(xgb_clf, x_train, y_train, cv=3, scoring='f1')\n",
    "print('Scores:', scores) \n",
    "# [0.24233577 0.28235294 0.26912181] with learning_rate=.5, n_estimators=100\n",
    "\n",
    "xgb_clf.fit(x_train, y_train)\n",
    "preds = xgb_clf.predict(x)\n",
    "\n",
    "print('Accuracy = ', np.mean(preds == y))\n",
    "\n",
    "creport = classification_report(y, preds, target_names=['Not Promoted', 'Promoted'])\n",
    "print(creport)\n",
    "\n",
    "confusion_matrix(y, preds)"
   ]
  },
  {
   "cell_type": "code",
   "execution_count": null,
   "metadata": {},
   "outputs": [],
   "source": [
    "conv2df(xgb_clf.predict(test_vec)).to_csv('data/output/XGB_sd.csv', index=False)"
   ]
  },
  {
   "cell_type": "code",
   "execution_count": null,
   "metadata": {},
   "outputs": [],
   "source": []
  },
  {
   "cell_type": "code",
   "execution_count": 259,
   "metadata": {
    "ExecuteTime": {
     "end_time": "2018-09-15T18:48:38.648488Z",
     "start_time": "2018-09-15T18:48:05.205143Z"
    }
   },
   "outputs": [
    {
     "name": "stdout",
     "output_type": "stream",
     "text": [
      "Scores :  [0.5989908  0.60158777 0.60454143]\n",
      "Accuracy =  0.7129927163667523\n",
      "              precision    recall  f1-score   support\n",
      "\n",
      "Not Promoted       0.93      0.66      0.78     14004\n",
      "    Promoted       0.46      0.86      0.60      4668\n",
      "\n",
      " avg / total       0.82      0.71      0.73     18672\n",
      "\n"
     ]
    },
    {
     "data": {
      "text/plain": [
       "array([[9308, 4696],\n",
       "       [ 663, 4005]], dtype=int64)"
      ]
     },
     "execution_count": 259,
     "metadata": {},
     "output_type": "execute_result"
    }
   ],
   "source": [
    "from sklearn.svm import SVC\n",
    "from sklearn.model_selection import cross_val_score, cross_validate\n",
    "from sklearn.metrics import classification_report, confusion_matrix\n",
    "\n",
    "# Ref.: https://stackoverflow.com/questions/37413302/f1-score-of-all-classes-from-scikits-cross-val-score\n",
    "# Ref.: https://stackoverflow.com/questions/35876508/evaluate-multiple-scores-on-sklearn-cross-val-score\n",
    "# svc_clf = SVC(random_state=42, kernel='rbf', degree=5, decision_function_shape='ovo', gamma=175, C=25.5)\n",
    " \n",
    "# Ref.: http://bigdata-madesimple.com/dealing-with-unbalanced-class-svm-random-forest-and-decision-tree-in-python/\n",
    "# svc_clf = SVC(random_state=42, kernel='rbf', degree=5, decision_function_shape='ovo', gamma=175, C=25.5, class_weight='balanced')\n",
    "svc_clf = SVC(random_state=42, kernel='rbf', degree=3, class_weight='balanced', C=20)\n",
    "\n",
    "scores = cross_val_score(svc_clf, x_train, y_train, cv=3, scoring='f1')\n",
    "print('Scores : ', scores)\n",
    "# [0.59459459 0.59515366 0.59976387] with degree=5, class_weight='balanced'\n",
    "\n",
    "svc_clf.fit(x_train, y_train)\n",
    "preds = svc_clf.predict(x)\n",
    "\n",
    "print('Accuracy = ', np.mean(preds == y))\n",
    "\n",
    "creport = classification_report(y, preds, target_names=['Not Promoted', 'Promoted'])\n",
    "print(creport)\n",
    "\n",
    "confusion_matrix(y, preds)"
   ]
  },
  {
   "cell_type": "code",
   "execution_count": 260,
   "metadata": {
    "ExecuteTime": {
     "end_time": "2018-09-15T18:52:23.229342Z",
     "start_time": "2018-09-15T18:52:19.893168Z"
    }
   },
   "outputs": [],
   "source": [
    "conv2df(svc_clf.predict(test_vec)).to_csv('data/output/svc_sd.csv', index=False)"
   ]
  },
  {
   "cell_type": "code",
   "execution_count": null,
   "metadata": {},
   "outputs": [],
   "source": []
  }
 ],
 "metadata": {
  "kernelspec": {
   "display_name": "Python 3",
   "language": "python",
   "name": "python3"
  },
  "language_info": {
   "codemirror_mode": {
    "name": "ipython",
    "version": 3
   },
   "file_extension": ".py",
   "mimetype": "text/x-python",
   "name": "python",
   "nbconvert_exporter": "python",
   "pygments_lexer": "ipython3",
   "version": "3.6.6"
  }
 },
 "nbformat": 4,
 "nbformat_minor": 2
}
