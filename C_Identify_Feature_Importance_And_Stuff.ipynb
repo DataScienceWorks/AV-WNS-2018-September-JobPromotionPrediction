{
 "cells": [
  {
   "cell_type": "code",
   "execution_count": null,
   "metadata": {
    "ExecuteTime": {
     "end_time": "2018-09-30T13:26:27.324297Z",
     "start_time": "2018-09-30T13:26:27.278419Z"
    }
   },
   "outputs": [],
   "source": [
    "%matplotlib inline\n",
    "import matplotlib.pyplot as plt\n",
    "import pandas as pd\n",
    "import numpy as np\n",
    "import seaborn as sns\n",
    "from sklearn.base import BaseEstimator, TransformerMixin\n",
    "from sklearn.preprocessing import LabelEncoder, OneHotEncoder, OrdinalEncoder\n",
    "from sklearn.preprocessing import StandardScaler, MinMaxScaler, RobustScaler\n",
    "from sklearn.preprocessing import FunctionTransformer\n",
    "from sklearn.pipeline import Pipeline, make_pipeline, FeatureUnion, make_union"
   ]
  },
  {
   "cell_type": "code",
   "execution_count": null,
   "metadata": {
    "ExecuteTime": {
     "end_time": "2018-09-29T16:01:03.029382Z",
     "start_time": "2018-09-29T16:01:02.944082Z"
    }
   },
   "outputs": [],
   "source": [
    "sns.set_style('whitegrid')\n",
    "# sns.set(context=\"paper\", font=\"monospace\")"
   ]
  },
  {
   "cell_type": "markdown",
   "metadata": {},
   "source": [
    "## Data Loading "
   ]
  },
  {
   "cell_type": "code",
   "execution_count": null,
   "metadata": {
    "ExecuteTime": {
     "end_time": "2018-09-29T16:01:03.539394Z",
     "start_time": "2018-09-29T16:01:03.032389Z"
    }
   },
   "outputs": [],
   "source": [
    "def load_training_dataset():\n",
    "    return pd.read_csv('data/train_LZdllcl.csv', index_col='employee_id')\n",
    "df = load_training_dataset()\n",
    "df = df.rename(columns={'KPIs_met >80%':'is_kpi_met', 'awards_won?':'has_won_awards'})\n",
    "print('Train Data Size :', df.shape)\n",
    "df.head()"
   ]
  },
  {
   "cell_type": "code",
   "execution_count": null,
   "metadata": {
    "ExecuteTime": {
     "end_time": "2018-09-29T16:01:03.676018Z",
     "start_time": "2018-09-29T16:01:03.544278Z"
    }
   },
   "outputs": [],
   "source": [
    "test = pd.read_csv('data/test_2umaH9m.csv', index_col='employee_id')\n",
    "test = test.rename(columns={'KPIs_met >80%':'is_kpi_met', 'awards_won?':'has_won_awards'})\n",
    "print('Test Data Size :', test.shape)\n",
    "test.head()"
   ]
  },
  {
   "cell_type": "code",
   "execution_count": null,
   "metadata": {
    "ExecuteTime": {
     "end_time": "2018-09-29T16:01:03.730456Z",
     "start_time": "2018-09-29T16:01:03.679995Z"
    }
   },
   "outputs": [],
   "source": [
    "test.isnull().sum()"
   ]
  },
  {
   "cell_type": "markdown",
   "metadata": {
    "ExecuteTime": {
     "end_time": "2018-09-13T19:05:55.603686Z",
     "start_time": "2018-09-13T19:05:55.596707Z"
    }
   },
   "source": [
    "## Data Pre-processing "
   ]
  },
  {
   "cell_type": "code",
   "execution_count": null,
   "metadata": {
    "ExecuteTime": {
     "end_time": "2018-09-29T16:01:04.008023Z",
     "start_time": "2018-09-29T16:01:03.734082Z"
    }
   },
   "outputs": [],
   "source": [
    "df.isnull().sum()"
   ]
  },
  {
   "cell_type": "code",
   "execution_count": null,
   "metadata": {
    "ExecuteTime": {
     "end_time": "2018-09-29T16:01:04.631862Z",
     "start_time": "2018-09-29T16:01:04.011995Z"
    }
   },
   "outputs": [],
   "source": [
    "print(df.info())\n",
    "\n",
    "df['is_promoted'] = df['is_promoted'].astype(np.int8)\n",
    "df['avg_training_score'] = df['avg_training_score'].astype(np.int8)\n",
    "df['has_won_awards'] = df['has_won_awards'].astype(np.int8)\n",
    "df['is_kpi_met'] = df['is_kpi_met'].astype(np.int8)\n",
    "df['length_of_service'] = df['length_of_service'].astype(np.int8)\n",
    "df['age'] = df['age'].astype(np.int8)\n",
    "df['no_of_trainings'] = df['no_of_trainings'].astype(np.int8)\n",
    "\n",
    "df['previous_year_rating'] = df['previous_year_rating'].astype(np.float16)\n",
    "\n",
    "df['department'] = df['department'].astype('category')\n",
    "df['region'] = df['region'].astype('category')\n",
    "df['education'] = df['education'].astype('category')\n",
    "df['gender'] = df['gender'].astype('category')\n",
    "df['recruitment_channel'] = df['recruitment_channel'].astype('category')\n",
    "\n",
    "print('\\nAfter processing:\\n',)\n",
    "print(df.info())"
   ]
  },
  {
   "cell_type": "code",
   "execution_count": null,
   "metadata": {
    "ExecuteTime": {
     "end_time": "2018-09-29T16:01:04.972569Z",
     "start_time": "2018-09-29T16:01:04.639803Z"
    }
   },
   "outputs": [],
   "source": [
    "print(test.info())\n",
    "\n",
    "# test['is_promoted'] = test['is_promoted'].astype(np.int8)\n",
    "test['avg_training_score'] = test['avg_training_score'].astype(np.int8)\n",
    "test['has_won_awards'] = test['has_won_awards'].astype(np.int8)\n",
    "test['is_kpi_met'] = test['is_kpi_met'].astype(np.int8)\n",
    "test['length_of_service'] = test['length_of_service'].astype(np.int8)\n",
    "test['age'] = test['age'].astype(np.int8)\n",
    "test['no_of_trainings'] = test['no_of_trainings'].astype(np.int8)\n",
    "\n",
    "test['previous_year_rating'] = test['previous_year_rating'].astype(np.float16)\n",
    "\n",
    "test['department'] = test['department'].astype('category')\n",
    "test['region'] = test['region'].astype('category')\n",
    "test['education'] = test['education'].astype('category')\n",
    "test['gender'] = test['gender'].astype('category')\n",
    "test['recruitment_channel'] = test['recruitment_channel'].astype('category')\n",
    "\n",
    "print('\\nAfter processing:\\n',)\n",
    "print(test.info())"
   ]
  },
  {
   "cell_type": "code",
   "execution_count": null,
   "metadata": {
    "ExecuteTime": {
     "end_time": "2018-09-29T16:01:05.244881Z",
     "start_time": "2018-09-29T16:01:04.987529Z"
    }
   },
   "outputs": [],
   "source": [
    "df_promoted = df[df.is_promoted==1]\n",
    "df_others = df[df.is_promoted==0].sample(df_promoted.shape[0])\n",
    "df_sample = pd.concat([df_promoted, df_others])\n",
    "print('Promoted : ', df_promoted.shape[0], ', Others :', df_others.shape[0], ', Combined Sample :', df_sample.shape[0])\n",
    "df_sample.corr()"
   ]
  },
  {
   "cell_type": "code",
   "execution_count": null,
   "metadata": {
    "ExecuteTime": {
     "end_time": "2018-09-29T16:01:05.913467Z",
     "start_time": "2018-09-29T16:01:05.249790Z"
    }
   },
   "outputs": [],
   "source": [
    "sns.boxplot(x='age', data=df_promoted)\n",
    "df_promoted.age.describe()"
   ]
  },
  {
   "cell_type": "code",
   "execution_count": null,
   "metadata": {
    "ExecuteTime": {
     "end_time": "2018-09-29T16:01:06.038874Z",
     "start_time": "2018-09-29T16:01:05.918453Z"
    }
   },
   "outputs": [],
   "source": [
    "df['is_middle_age'] = df['age'].apply(lambda x: 1 if(x>=29 and x<=38) else 0) #(df['age']>=29 & df['age']<=38)\n",
    "df['is_middle_age'] = df['is_middle_age'].astype(np.int8)\n",
    "df['is_middle_age'].unique()\n",
    "df.corr()"
   ]
  },
  {
   "cell_type": "code",
   "execution_count": null,
   "metadata": {
    "ExecuteTime": {
     "end_time": "2018-09-29T16:01:06.333666Z",
     "start_time": "2018-09-29T16:01:06.043120Z"
    }
   },
   "outputs": [],
   "source": [
    "df.education.fillna(\"Bachelor's\", inplace=True)\n",
    "print(df.education.unique())\n",
    "\n",
    "def numeric_edu(str):\n",
    "    if(str.startswith('Master')): return 2\n",
    "    elif(str.startswith('Bachelor')): return 1\n",
    "    else: return 0\n",
    "\n",
    "df['i_education'] = df.education.apply(numeric_edu)\n",
    "df['i_education'] = df['i_education'].astype(np.int8)\n",
    "print(df['i_education'].unique())\n",
    "df.corr()"
   ]
  },
  {
   "cell_type": "markdown",
   "metadata": {},
   "source": [
    "## Rank Features By Importance"
   ]
  },
  {
   "cell_type": "code",
   "execution_count": null,
   "metadata": {
    "ExecuteTime": {
     "end_time": "2018-09-29T16:01:06.638393Z",
     "start_time": "2018-09-29T16:01:06.339661Z"
    }
   },
   "outputs": [],
   "source": [
    "# Find and Remove attributes with low variance\n",
    "nullList = []\n",
    "for x in df.select_dtypes(include=[np.number]):\n",
    "    p=df[x].std()\n",
    "    if ( p < 0.01 ) :\n",
    "        nullList.append(x)\n",
    "# df = df.drop(nullList, axis=1)\n",
    "nullList"
   ]
  },
  {
   "cell_type": "code",
   "execution_count": null,
   "metadata": {
    "ExecuteTime": {
     "end_time": "2018-09-29T16:01:07.057259Z",
     "start_time": "2018-09-29T16:01:06.662370Z"
    }
   },
   "outputs": [],
   "source": [
    "def numerify(ser):\n",
    "    return LabelEncoder().fit_transform(ser)\n",
    "\n",
    "df2 = df.copy()\n",
    "\n",
    "df2['previous_year_rating'] = df2['previous_year_rating'].fillna(3)\n",
    "\n",
    "# select_categorical_cols = ['department', 'region','education', 'gender', 'recruitment_channel']\n",
    "df2['department'] = numerify(df2['department'])\n",
    "df2['region'] = numerify(df2['region'])\n",
    "df2['education'] = numerify(df2['education'])\n",
    "df2['gender'] = numerify(df2['gender'])\n",
    "df2['recruitment_channel'] = numerify(df2['recruitment_channel'])\n",
    "df2.head().T"
   ]
  },
  {
   "cell_type": "code",
   "execution_count": null,
   "metadata": {
    "ExecuteTime": {
     "end_time": "2018-09-29T16:01:09.297821Z",
     "start_time": "2018-09-29T16:01:07.062247Z"
    }
   },
   "outputs": [],
   "source": [
    "##Split train data-set\n",
    "from sklearn.model_selection import train_test_split\n",
    "x_train, x_test, y_train, y_test = train_test_split(df2[df2.columns.difference(['is_promoted'])], \n",
    "                                                    df2['is_promoted'], \n",
    "                                                    train_size = 0.75, \n",
    "                                                    random_state = 42)\n",
    "\n",
    "## Find Feature Importances\n",
    "from sklearn.ensemble import RandomForestClassifier\n",
    "rf = RandomForestClassifier(n_estimators=100, n_jobs=-1, random_state=42)\n",
    "rf.fit(x_train, y_train)\n",
    "\n",
    "names = df2.columns.values #select_columns #x_train.columns\n",
    "scores = map(lambda x: round(x, 4), rf.feature_importances_)\n",
    "score_map = zip(scores, names)\n",
    "print(\"Features sorted by their score:\")\n",
    "# for a,b in sorted(score_map, reverse=True):\n",
    "for a,b in sorted(score_map, reverse=True):\n",
    "    print(a,b)"
   ]
  },
  {
   "cell_type": "code",
   "execution_count": null,
   "metadata": {
    "ExecuteTime": {
     "end_time": "2018-09-29T16:01:09.368574Z",
     "start_time": "2018-09-29T16:01:09.313159Z"
    }
   },
   "outputs": [],
   "source": [
    "# df2.describe().T\n",
    "# print(df2['previous_year_rating'].value_counts())\n",
    "# df2['previous_year_rating'].unique()\n",
    "df2.head()"
   ]
  },
  {
   "cell_type": "markdown",
   "metadata": {},
   "source": [
    "## Data Modeling"
   ]
  },
  {
   "cell_type": "code",
   "execution_count": null,
   "metadata": {
    "ExecuteTime": {
     "end_time": "2018-09-29T16:01:09.507446Z",
     "start_time": "2018-09-29T16:01:09.378304Z"
    }
   },
   "outputs": [],
   "source": [
    "class RatingsImputer(BaseEstimator, TransformerMixin):\n",
    "    def fit (self, X, y=None, **fit_params):\n",
    "        return self\n",
    "    \n",
    "    def transform(self, X):\n",
    "        assert isinstance(X, pd.DataFrame)\n",
    "        #X.loc[X.previous_year_rating.isnull(), 'previous_year_rating'] = 0\n",
    "        X = X.fillna({'previous_year_rating':3})\n",
    "        return X\n",
    "\n",
    "class EducationCleanser(BaseEstimator, TransformerMixin):\n",
    "    def fit (self, X, y=None, **fit_params):\n",
    "        return self\n",
    "    \n",
    "    def transform(self, X):\n",
    "        assert isinstance(X, pd.DataFrame)\n",
    "        X = X.fillna({'education':\"Bachelor's\"})\n",
    "        return X\n",
    "    \n",
    "# fillna_pipe.fit_transform(df).isnull().sum() # For Testing purpose only"
   ]
  },
  {
   "cell_type": "code",
   "execution_count": null,
   "metadata": {
    "ExecuteTime": {
     "end_time": "2018-09-29T16:02:21.697540Z",
     "start_time": "2018-09-29T16:02:21.685220Z"
    }
   },
   "outputs": [],
   "source": [
    "class ColumnSelector(BaseEstimator, TransformerMixin):\n",
    "    def __init__(self, columns=None):\n",
    "        self.columns = columns\n",
    "    \n",
    "    def fit (self, X, y=None, **fit_params):\n",
    "        return self\n",
    "    \n",
    "    def transform(self, X):\n",
    "        assert isinstance(X, pd.DataFrame)\n",
    "        try:\n",
    "            return X[self.columns]\n",
    "        except KeyError:\n",
    "            cols_error = list(set(self.columns) - set(X.columns))\n",
    "            raise KeyError(\"The DataFrame does not include the columns: %s\" % cols_error)"
   ]
  },
  {
   "cell_type": "code",
   "execution_count": null,
   "metadata": {
    "ExecuteTime": {
     "end_time": "2018-09-30T13:27:57.081401Z",
     "start_time": "2018-09-30T13:27:56.921827Z"
    }
   },
   "outputs": [],
   "source": [
    "select_numeric_cols = ['avg_training_score', 'has_won_awards', 'is_kpi_met', 'previous_year_rating']\n",
    "select_categorical_cols = ['department', 'region','education', 'gender', 'recruitment_channel'] # select_categorical_cols = []\n",
    "select_columns = select_numeric_cols + select_categorical_cols\n",
    "\n",
    "fillna_pipe = make_pipeline(RatingsImputer(), EducationCleanser())\n",
    "# fillna_pipe = make_pipeline(RatingsImputer())\n",
    "select_categorical_cols_pipe = make_pipeline(ColumnSelector(columns=select_categorical_cols), OrdinalEncoder())\n",
    "select_numeric_cols_pipe = make_pipeline(ColumnSelector(columns=select_numeric_cols),RobustScaler())\n",
    "\n",
    "select_fu = make_union(select_numeric_cols_pipe, select_categorical_cols_pipe)\n",
    "select_pipe = make_pipeline(fillna_pipe, select_fu)\n",
    "\n",
    "train_vec = select_pipe.fit_transform(df[select_columns])\n",
    "# test_vec = select_pipe.transform(test[select_columns])\n",
    "print(train_vec.shape)\n",
    "print(train_vec[:3])"
   ]
  },
  {
   "cell_type": "code",
   "execution_count": null,
   "metadata": {
    "ExecuteTime": {
     "end_time": "2018-09-29T16:02:27.750587Z",
     "start_time": "2018-09-29T16:02:27.728647Z"
    }
   },
   "outputs": [],
   "source": [
    "# Split train data-set\n",
    "from sklearn.model_selection import train_test_split\n",
    "x_train, x_test, y_train, y_test = train_test_split(train_vec, \n",
    "                                                    df['is_promoted'], \n",
    "                                                    train_size = 0.75, \n",
    "                                                    random_state = 42)"
   ]
  },
  {
   "cell_type": "code",
   "execution_count": null,
   "metadata": {
    "ExecuteTime": {
     "end_time": "2018-09-30T13:28:15.692049Z",
     "start_time": "2018-09-30T13:28:14.208016Z"
    }
   },
   "outputs": [],
   "source": [
    "## Find Feature Importances\n",
    "from sklearn.ensemble import RandomForestClassifier\n",
    "rf = RandomForestClassifier(n_estimators=100, n_jobs=-1, random_state=42)\n",
    "rf.fit(x_train, y_train)\n",
    "\n",
    "names = select_columns #x_train.columns\n",
    "scores = map(lambda x: round(x, 4), rf.feature_importances_)\n",
    "score_map = zip(scores, names)\n",
    "print(\"Features sorted by their score:\")\n",
    "# for a,b in sorted(score_map, reverse=True):\n",
    "for a,b in sorted(score_map, reverse=True):\n",
    "    print(a,b)"
   ]
  },
  {
   "cell_type": "code",
   "execution_count": null,
   "metadata": {
    "ExecuteTime": {
     "end_time": "2018-09-18T18:10:21.560147Z",
     "start_time": "2018-09-18T18:10:21.545185Z"
    }
   },
   "outputs": [],
   "source": []
  },
  {
   "cell_type": "code",
   "execution_count": null,
   "metadata": {
    "ExecuteTime": {
     "end_time": "2018-09-30T13:28:27.617179Z",
     "start_time": "2018-09-30T13:28:27.554346Z"
    }
   },
   "outputs": [],
   "source": [
    "test_vec = select_pipe.transform(test[select_columns])\n",
    "test_vec[:5]"
   ]
  },
  {
   "cell_type": "markdown",
   "metadata": {},
   "source": [
    "## LGBoost for Classification"
   ]
  },
  {
   "cell_type": "code",
   "execution_count": null,
   "metadata": {
    "ExecuteTime": {
     "end_time": "2018-09-30T13:28:34.992538Z",
     "start_time": "2018-09-30T13:28:34.403124Z"
    }
   },
   "outputs": [],
   "source": [
    "from lightgbm import LGBMClassifier\n",
    "\n",
    "from sklearn.model_selection import cross_val_score, cross_validate\n",
    "\n",
    "lgb_clf=LGBMClassifier(random_state=42, silent=False, class_weight={0:1, 1:5}, learning_rate=.05, n_estimators=45)\n",
    "\n",
    "scores = cross_val_score(lgb_clf, x_train, y_train, cv=3, scoring='f1')\n",
    "scores"
   ]
  },
  {
   "cell_type": "code",
   "execution_count": null,
   "metadata": {
    "ExecuteTime": {
     "end_time": "2018-09-30T13:28:59.084116Z",
     "start_time": "2018-09-30T13:28:58.819822Z"
    }
   },
   "outputs": [],
   "source": [
    "from sklearn.metrics import classification_report, confusion_matrix\n",
    "\n",
    "lgb_clf.fit(x_train, y_train)\n",
    "preds = lgb_clf.predict(x_test)\n",
    "\n",
    "print('Accuracy = ', np.mean(preds == y_test))\n",
    "\n",
    "creport = classification_report(y_test, preds, target_names=['Not Promoted', 'Promoted'])\n",
    "print(creport)\n",
    "\n",
    "confusion_matrix(y_test, preds)"
   ]
  },
  {
   "cell_type": "code",
   "execution_count": null,
   "metadata": {
    "ExecuteTime": {
     "end_time": "2018-09-29T16:01:10.225429Z",
     "start_time": "2018-09-29T16:01:03.011Z"
    }
   },
   "outputs": [],
   "source": [
    "def conv2df(preds):\n",
    "    df = pd.DataFrame(data={\n",
    "        'employee_id': test.index.values,\n",
    "        'is_promoted': preds\n",
    "    })\n",
    "    df['is_promoted'] = df['is_promoted'].astype(np.int8)\n",
    "    return df"
   ]
  },
  {
   "cell_type": "code",
   "execution_count": null,
   "metadata": {
    "ExecuteTime": {
     "end_time": "2018-09-29T16:01:10.226489Z",
     "start_time": "2018-09-29T16:01:03.016Z"
    }
   },
   "outputs": [],
   "source": [
    "conv2df(lgb_clf.predict(test_vec)).to_csv('data/output/final_submission.csv', index=False)"
   ]
  },
  {
   "cell_type": "code",
   "execution_count": null,
   "metadata": {},
   "outputs": [],
   "source": []
  }
 ],
 "metadata": {
  "kernelspec": {
   "display_name": "Python 3",
   "language": "python",
   "name": "python3"
  },
  "language_info": {
   "codemirror_mode": {
    "name": "ipython",
    "version": 3
   },
   "file_extension": ".py",
   "mimetype": "text/x-python",
   "name": "python",
   "nbconvert_exporter": "python",
   "pygments_lexer": "ipython3",
   "version": "3.6.6"
  }
 },
 "nbformat": 4,
 "nbformat_minor": 2
}
