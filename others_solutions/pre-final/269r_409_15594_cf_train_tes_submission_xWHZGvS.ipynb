{
 "cells": [
  {
   "cell_type": "code",
   "execution_count": 1,
   "metadata": {},
   "outputs": [],
   "source": [
    "import pandas as pd \n",
    "import numpy as np\n",
    "pd.set_option('display.max_columns', 500)\n",
    "\n",
    "from sklearn.metrics import f1_score, roc_auc_score\n",
    "from sklearn.tree import DecisionTreeClassifier"
   ]
  },
  {
   "cell_type": "code",
   "execution_count": 2,
   "metadata": {},
   "outputs": [
    {
     "name": "stdout",
     "output_type": "stream",
     "text": [
      "(54808, 29) (23490, 28)\n"
     ]
    }
   ],
   "source": [
    "x_train = pd.read_csv(\"data/train_im1.csv\")\n",
    "x_valid = pd.read_csv(\"data/test_im1.csv\")\n",
    "print(x_train.shape, x_valid.shape)"
   ]
  },
  {
   "cell_type": "code",
   "execution_count": 3,
   "metadata": {},
   "outputs": [
    {
     "data": {
      "text/plain": [
       "Index(['employee_id', 'department', 'region', 'education', 'gender',\n",
       "       'recruitment_channel', 'no_of_trainings', 'age', 'previous_year_rating',\n",
       "       'length_of_service', 'KPIs_met >80%', 'awards_won?',\n",
       "       'avg_training_score', 'is_promoted', 'new_employee', 'employee_rating',\n",
       "       'previous_year_rating_avg_training_score_perc',\n",
       "       'department_avg_training_score_perc', 'department_region',\n",
       "       'department_region_avg_training_score_perc', 'department_education',\n",
       "       'department_education_avg_training_score_perc',\n",
       "       'awards_won_avg_training_score_perc', 'kpi_avg_training_score_perc',\n",
       "       'gender_avg_training_score_perc',\n",
       "       'employee_rating_avg_training_score_perc', 'KPIs_met >80%_awards_won?',\n",
       "       'kpi_award_avg_training_score_perc', 'region_avg_training_score_perc'],\n",
       "      dtype='object')"
      ]
     },
     "execution_count": 3,
     "metadata": {},
     "output_type": "execute_result"
    }
   ],
   "source": [
    "x_train.columns"
   ]
  },
  {
   "cell_type": "code",
   "execution_count": 4,
   "metadata": {},
   "outputs": [
    {
     "data": {
      "text/html": [
       "<div>\n",
       "<style scoped>\n",
       "    .dataframe tbody tr th:only-of-type {\n",
       "        vertical-align: middle;\n",
       "    }\n",
       "\n",
       "    .dataframe tbody tr th {\n",
       "        vertical-align: top;\n",
       "    }\n",
       "\n",
       "    .dataframe thead th {\n",
       "        text-align: right;\n",
       "    }\n",
       "</style>\n",
       "<table border=\"1\" class=\"dataframe\">\n",
       "  <thead>\n",
       "    <tr style=\"text-align: right;\">\n",
       "      <th></th>\n",
       "      <th>employee_id</th>\n",
       "      <th>department</th>\n",
       "      <th>region</th>\n",
       "      <th>education</th>\n",
       "      <th>gender</th>\n",
       "      <th>recruitment_channel</th>\n",
       "      <th>no_of_trainings</th>\n",
       "      <th>age</th>\n",
       "      <th>previous_year_rating</th>\n",
       "      <th>length_of_service</th>\n",
       "      <th>KPIs_met &gt;80%</th>\n",
       "      <th>awards_won?</th>\n",
       "      <th>avg_training_score</th>\n",
       "      <th>is_promoted</th>\n",
       "      <th>new_employee</th>\n",
       "      <th>employee_rating</th>\n",
       "      <th>previous_year_rating_avg_training_score_perc</th>\n",
       "      <th>department_avg_training_score_perc</th>\n",
       "      <th>department_region</th>\n",
       "      <th>department_region_avg_training_score_perc</th>\n",
       "      <th>department_education</th>\n",
       "      <th>department_education_avg_training_score_perc</th>\n",
       "      <th>awards_won_avg_training_score_perc</th>\n",
       "      <th>kpi_avg_training_score_perc</th>\n",
       "      <th>gender_avg_training_score_perc</th>\n",
       "      <th>employee_rating_avg_training_score_perc</th>\n",
       "      <th>KPIs_met &gt;80%_awards_won?</th>\n",
       "      <th>kpi_award_avg_training_score_perc</th>\n",
       "      <th>region_avg_training_score_perc</th>\n",
       "    </tr>\n",
       "  </thead>\n",
       "  <tbody>\n",
       "    <tr>\n",
       "      <th>0</th>\n",
       "      <td>65438</td>\n",
       "      <td>Sales &amp; Marketing</td>\n",
       "      <td>region_7</td>\n",
       "      <td>Master's &amp; above</td>\n",
       "      <td>f</td>\n",
       "      <td>sourcing</td>\n",
       "      <td>1</td>\n",
       "      <td>35</td>\n",
       "      <td>5.0</td>\n",
       "      <td>8</td>\n",
       "      <td>1</td>\n",
       "      <td>0</td>\n",
       "      <td>49</td>\n",
       "      <td>0</td>\n",
       "      <td>0</td>\n",
       "      <td>5_0</td>\n",
       "      <td>13.124947</td>\n",
       "      <td>41.288599</td>\n",
       "      <td>Sales &amp; Marketing_region_7</td>\n",
       "      <td>41.707148</td>\n",
       "      <td>Sales &amp; Marketing_Master's &amp; above</td>\n",
       "      <td>40.914546</td>\n",
       "      <td>14.618589</td>\n",
       "      <td>11.077705</td>\n",
       "      <td>10.541319</td>\n",
       "      <td>13.124947</td>\n",
       "      <td>1_0</td>\n",
       "      <td>11.093056</td>\n",
       "      <td>14.577741</td>\n",
       "    </tr>\n",
       "    <tr>\n",
       "      <th>1</th>\n",
       "      <td>65141</td>\n",
       "      <td>Operations</td>\n",
       "      <td>region_22</td>\n",
       "      <td>Bachelor's</td>\n",
       "      <td>m</td>\n",
       "      <td>other</td>\n",
       "      <td>1</td>\n",
       "      <td>30</td>\n",
       "      <td>5.0</td>\n",
       "      <td>4</td>\n",
       "      <td>0</td>\n",
       "      <td>0</td>\n",
       "      <td>60</td>\n",
       "      <td>0</td>\n",
       "      <td>0</td>\n",
       "      <td>5_0</td>\n",
       "      <td>48.977941</td>\n",
       "      <td>54.749736</td>\n",
       "      <td>Operations_region_22</td>\n",
       "      <td>53.428202</td>\n",
       "      <td>Operations_Bachelor's</td>\n",
       "      <td>54.825858</td>\n",
       "      <td>49.486346</td>\n",
       "      <td>51.613312</td>\n",
       "      <td>51.610557</td>\n",
       "      <td>48.977941</td>\n",
       "      <td>0_0</td>\n",
       "      <td>51.865948</td>\n",
       "      <td>43.746111</td>\n",
       "    </tr>\n",
       "    <tr>\n",
       "      <th>2</th>\n",
       "      <td>7513</td>\n",
       "      <td>Sales &amp; Marketing</td>\n",
       "      <td>region_19</td>\n",
       "      <td>Bachelor's</td>\n",
       "      <td>m</td>\n",
       "      <td>sourcing</td>\n",
       "      <td>1</td>\n",
       "      <td>34</td>\n",
       "      <td>3.0</td>\n",
       "      <td>7</td>\n",
       "      <td>0</td>\n",
       "      <td>0</td>\n",
       "      <td>50</td>\n",
       "      <td>0</td>\n",
       "      <td>0</td>\n",
       "      <td>3_0</td>\n",
       "      <td>17.434741</td>\n",
       "      <td>55.195962</td>\n",
       "      <td>Sales &amp; Marketing_region_19</td>\n",
       "      <td>57.063197</td>\n",
       "      <td>Sales &amp; Marketing_Bachelor's</td>\n",
       "      <td>55.405892</td>\n",
       "      <td>19.570212</td>\n",
       "      <td>21.875440</td>\n",
       "      <td>21.660692</td>\n",
       "      <td>17.434741</td>\n",
       "      <td>0_0</td>\n",
       "      <td>22.009351</td>\n",
       "      <td>17.906178</td>\n",
       "    </tr>\n",
       "    <tr>\n",
       "      <th>3</th>\n",
       "      <td>2542</td>\n",
       "      <td>Sales &amp; Marketing</td>\n",
       "      <td>region_23</td>\n",
       "      <td>Bachelor's</td>\n",
       "      <td>m</td>\n",
       "      <td>other</td>\n",
       "      <td>2</td>\n",
       "      <td>39</td>\n",
       "      <td>1.0</td>\n",
       "      <td>10</td>\n",
       "      <td>0</td>\n",
       "      <td>0</td>\n",
       "      <td>50</td>\n",
       "      <td>0</td>\n",
       "      <td>0</td>\n",
       "      <td>1_0</td>\n",
       "      <td>29.792704</td>\n",
       "      <td>55.195962</td>\n",
       "      <td>Sales &amp; Marketing_region_23</td>\n",
       "      <td>52.933333</td>\n",
       "      <td>Sales &amp; Marketing_Bachelor's</td>\n",
       "      <td>55.405892</td>\n",
       "      <td>19.570212</td>\n",
       "      <td>21.875440</td>\n",
       "      <td>21.660692</td>\n",
       "      <td>29.792704</td>\n",
       "      <td>0_0</td>\n",
       "      <td>22.009351</td>\n",
       "      <td>19.489362</td>\n",
       "    </tr>\n",
       "    <tr>\n",
       "      <th>4</th>\n",
       "      <td>48945</td>\n",
       "      <td>Technology</td>\n",
       "      <td>region_26</td>\n",
       "      <td>Bachelor's</td>\n",
       "      <td>m</td>\n",
       "      <td>other</td>\n",
       "      <td>1</td>\n",
       "      <td>45</td>\n",
       "      <td>3.0</td>\n",
       "      <td>2</td>\n",
       "      <td>0</td>\n",
       "      <td>0</td>\n",
       "      <td>73</td>\n",
       "      <td>0</td>\n",
       "      <td>0</td>\n",
       "      <td>3_0</td>\n",
       "      <td>71.170373</td>\n",
       "      <td>0.798543</td>\n",
       "      <td>Technology_region_26</td>\n",
       "      <td>0.779221</td>\n",
       "      <td>Technology_Bachelor's</td>\n",
       "      <td>0.807841</td>\n",
       "      <td>73.134970</td>\n",
       "      <td>73.868852</td>\n",
       "      <td>71.526912</td>\n",
       "      <td>71.170373</td>\n",
       "      <td>0_0</td>\n",
       "      <td>74.126183</td>\n",
       "      <td>66.017699</td>\n",
       "    </tr>\n",
       "  </tbody>\n",
       "</table>\n",
       "</div>"
      ],
      "text/plain": [
       "   employee_id         department     region         education gender  \\\n",
       "0        65438  Sales & Marketing   region_7  Master's & above      f   \n",
       "1        65141         Operations  region_22        Bachelor's      m   \n",
       "2         7513  Sales & Marketing  region_19        Bachelor's      m   \n",
       "3         2542  Sales & Marketing  region_23        Bachelor's      m   \n",
       "4        48945         Technology  region_26        Bachelor's      m   \n",
       "\n",
       "  recruitment_channel  no_of_trainings  age  previous_year_rating  \\\n",
       "0            sourcing                1   35                   5.0   \n",
       "1               other                1   30                   5.0   \n",
       "2            sourcing                1   34                   3.0   \n",
       "3               other                2   39                   1.0   \n",
       "4               other                1   45                   3.0   \n",
       "\n",
       "   length_of_service  KPIs_met >80%  awards_won?  avg_training_score  \\\n",
       "0                  8              1            0                  49   \n",
       "1                  4              0            0                  60   \n",
       "2                  7              0            0                  50   \n",
       "3                 10              0            0                  50   \n",
       "4                  2              0            0                  73   \n",
       "\n",
       "   is_promoted  new_employee employee_rating  \\\n",
       "0            0             0             5_0   \n",
       "1            0             0             5_0   \n",
       "2            0             0             3_0   \n",
       "3            0             0             1_0   \n",
       "4            0             0             3_0   \n",
       "\n",
       "   previous_year_rating_avg_training_score_perc  \\\n",
       "0                                     13.124947   \n",
       "1                                     48.977941   \n",
       "2                                     17.434741   \n",
       "3                                     29.792704   \n",
       "4                                     71.170373   \n",
       "\n",
       "   department_avg_training_score_perc            department_region  \\\n",
       "0                           41.288599   Sales & Marketing_region_7   \n",
       "1                           54.749736         Operations_region_22   \n",
       "2                           55.195962  Sales & Marketing_region_19   \n",
       "3                           55.195962  Sales & Marketing_region_23   \n",
       "4                            0.798543         Technology_region_26   \n",
       "\n",
       "   department_region_avg_training_score_perc  \\\n",
       "0                                  41.707148   \n",
       "1                                  53.428202   \n",
       "2                                  57.063197   \n",
       "3                                  52.933333   \n",
       "4                                   0.779221   \n",
       "\n",
       "                 department_education  \\\n",
       "0  Sales & Marketing_Master's & above   \n",
       "1               Operations_Bachelor's   \n",
       "2        Sales & Marketing_Bachelor's   \n",
       "3        Sales & Marketing_Bachelor's   \n",
       "4               Technology_Bachelor's   \n",
       "\n",
       "   department_education_avg_training_score_perc  \\\n",
       "0                                     40.914546   \n",
       "1                                     54.825858   \n",
       "2                                     55.405892   \n",
       "3                                     55.405892   \n",
       "4                                      0.807841   \n",
       "\n",
       "   awards_won_avg_training_score_perc  kpi_avg_training_score_perc  \\\n",
       "0                           14.618589                    11.077705   \n",
       "1                           49.486346                    51.613312   \n",
       "2                           19.570212                    21.875440   \n",
       "3                           19.570212                    21.875440   \n",
       "4                           73.134970                    73.868852   \n",
       "\n",
       "   gender_avg_training_score_perc  employee_rating_avg_training_score_perc  \\\n",
       "0                       10.541319                                13.124947   \n",
       "1                       51.610557                                48.977941   \n",
       "2                       21.660692                                17.434741   \n",
       "3                       21.660692                                29.792704   \n",
       "4                       71.526912                                71.170373   \n",
       "\n",
       "  KPIs_met >80%_awards_won?  kpi_award_avg_training_score_perc  \\\n",
       "0                       1_0                          11.093056   \n",
       "1                       0_0                          51.865948   \n",
       "2                       0_0                          22.009351   \n",
       "3                       0_0                          22.009351   \n",
       "4                       0_0                          74.126183   \n",
       "\n",
       "   region_avg_training_score_perc  \n",
       "0                       14.577741  \n",
       "1                       43.746111  \n",
       "2                       17.906178  \n",
       "3                       19.489362  \n",
       "4                       66.017699  "
      ]
     },
     "execution_count": 4,
     "metadata": {},
     "output_type": "execute_result"
    }
   ],
   "source": [
    "x_train.head()"
   ]
  },
  {
   "cell_type": "code",
   "execution_count": 5,
   "metadata": {},
   "outputs": [
    {
     "data": {
      "text/plain": [
       "['no_of_trainings',\n",
       " 'age',\n",
       " 'previous_year_rating',\n",
       " 'length_of_service',\n",
       " 'KPIs_met >80%',\n",
       " 'awards_won?',\n",
       " 'avg_training_score',\n",
       " 'new_employee',\n",
       " 'previous_year_rating_avg_training_score_perc',\n",
       " 'department_avg_training_score_perc',\n",
       " 'department_region_avg_training_score_perc',\n",
       " 'department_education_avg_training_score_perc',\n",
       " 'awards_won_avg_training_score_perc',\n",
       " 'kpi_avg_training_score_perc',\n",
       " 'region_avg_training_score_perc',\n",
       " 'gender_avg_training_score_perc',\n",
       " 'kpi_award_avg_training_score_perc',\n",
       " 'employee_rating_avg_training_score_perc']"
      ]
     },
     "execution_count": 5,
     "metadata": {},
     "output_type": "execute_result"
    }
   ],
   "source": [
    "fe_cols = [\"no_of_trainings\", \"age\", \"previous_year_rating\", \"length_of_service\",\n",
    "          'KPIs_met >80%', 'awards_won?', \"avg_training_score\", \"new_employee\",\n",
    "          \"previous_year_rating_avg_training_score_perc\", \"department_avg_training_score_perc\",\n",
    "          \"department_region_avg_training_score_perc\", \"department_education_avg_training_score_perc\",\n",
    "          \"awards_won_avg_training_score_perc\", \"kpi_avg_training_score_perc\",\n",
    "          \"region_avg_training_score_perc\", \"gender_avg_training_score_perc\",\n",
    "          \"kpi_award_avg_training_score_perc\", \"employee_rating_avg_training_score_perc\"]\n",
    "fe_cols"
   ]
  },
  {
   "cell_type": "code",
   "execution_count": 16,
   "metadata": {},
   "outputs": [
    {
     "data": {
      "text/plain": [
       "DecisionTreeClassifier(class_weight=None, criterion='gini', max_depth=6,\n",
       "            max_features=None, max_leaf_nodes=None,\n",
       "            min_impurity_decrease=0.0, min_impurity_split=None,\n",
       "            min_samples_leaf=1, min_samples_split=2,\n",
       "            min_weight_fraction_leaf=0.0, presort=False, random_state=None,\n",
       "            splitter='best')"
      ]
     },
     "execution_count": 16,
     "metadata": {},
     "output_type": "execute_result"
    }
   ],
   "source": [
    "model = DecisionTreeClassifier(max_depth=6)\n",
    "model.fit(x_train[fe_cols], x_train[\"is_promoted\"])"
   ]
  },
  {
   "cell_type": "code",
   "execution_count": 17,
   "metadata": {},
   "outputs": [
    {
     "name": "stdout",
     "output_type": "stream",
     "text": [
      "train_auc: 0.9003824937134036\n"
     ]
    }
   ],
   "source": [
    "train_pred = model.predict_proba(x_train[fe_cols])[:, 1]\n",
    "print(\"train_auc:\", roc_auc_score(x_train[\"is_promoted\"], train_pred))"
   ]
  },
  {
   "cell_type": "code",
   "execution_count": 18,
   "metadata": {},
   "outputs": [
    {
     "name": "stdout",
     "output_type": "stream",
     "text": [
      "0.1 : 0.3578033744321869\n",
      "0.2 : 0.5186478732693027\n",
      "0.3 : 0.5183262064752596\n",
      "0.4 : 0.5154096329564813\n",
      "0.5 : 0.5086559647466163\n",
      "0.6 : 0.4999202424629128\n",
      "0.7 : 0.4999202424629128\n",
      "0.8 : 0.49671947511601855\n",
      "0.9 : 0.49671947511601855\n"
     ]
    }
   ],
   "source": [
    "for m in [0.1, 0.2, 0.3, 0.4, 0.5, 0.6, 0.7, 0.8, 0.9]:\n",
    "    print(m, \":\", f1_score(x_train[\"is_promoted\"], [1 if i> m else 0 for i in train_pred]))"
   ]
  },
  {
   "cell_type": "code",
   "execution_count": 19,
   "metadata": {},
   "outputs": [],
   "source": [
    "valid_pred = model.predict_proba(x_valid[fe_cols])[:, 1]\n",
    "valid_pred = [1 if i>0.3 else 0 for i in valid_pred]"
   ]
  },
  {
   "cell_type": "code",
   "execution_count": 20,
   "metadata": {},
   "outputs": [],
   "source": [
    "sub = pd.DataFrame([x_valid[\"employee_id\"].values, valid_pred]).T\n",
    "sub.columns = [\"employee_id\", \"is_promoted\"]"
   ]
  },
  {
   "cell_type": "code",
   "execution_count": 21,
   "metadata": {},
   "outputs": [],
   "source": [
    "sub.to_csv(\"sub1.csv\", index=False)"
   ]
  },
  {
   "cell_type": "code",
   "execution_count": 22,
   "metadata": {},
   "outputs": [],
   "source": [
    "from sklearn.ensemble import RandomForestClassifier"
   ]
  },
  {
   "cell_type": "code",
   "execution_count": 23,
   "metadata": {},
   "outputs": [
    {
     "data": {
      "text/plain": [
       "RandomForestClassifier(bootstrap=True, class_weight=None, criterion='gini',\n",
       "            max_depth=6, max_features=6, max_leaf_nodes=None,\n",
       "            min_impurity_decrease=0.0, min_impurity_split=None,\n",
       "            min_samples_leaf=1, min_samples_split=2,\n",
       "            min_weight_fraction_leaf=0.0, n_estimators=100, n_jobs=1,\n",
       "            oob_score=False, random_state=None, verbose=0,\n",
       "            warm_start=False)"
      ]
     },
     "execution_count": 23,
     "metadata": {},
     "output_type": "execute_result"
    }
   ],
   "source": [
    "model = RandomForestClassifier(max_depth=6, max_features=6, n_estimators=100)\n",
    "model.fit(x_train[fe_cols], x_train[\"is_promoted\"])"
   ]
  },
  {
   "cell_type": "code",
   "execution_count": 24,
   "metadata": {},
   "outputs": [
    {
     "name": "stdout",
     "output_type": "stream",
     "text": [
      "train_auc: 0.9038390215195224\n"
     ]
    }
   ],
   "source": [
    "train_pred = model.predict_proba(x_train[fe_cols])[:, 1]\n",
    "print(\"train_auc:\", roc_auc_score(x_train[\"is_promoted\"], train_pred))"
   ]
  },
  {
   "cell_type": "code",
   "execution_count": 25,
   "metadata": {},
   "outputs": [
    {
     "name": "stdout",
     "output_type": "stream",
     "text": [
      "0.1 : 0.346876197776926\n",
      "0.2 : 0.5302193913658881\n",
      "0.3 : 0.5239548367409216\n",
      "0.4 : 0.516822429906542\n",
      "0.5 : 0.5100628930817611\n",
      "0.6 : 0.5013477088948787\n",
      "0.7 : 0.4976870314244697\n",
      "0.8 : 0.4880645161290322\n",
      "0.9 : 0.44032715740277084\n"
     ]
    }
   ],
   "source": [
    "for m in [0.1, 0.2, 0.3, 0.4, 0.5, 0.6, 0.7, 0.8, 0.9]:\n",
    "    print(m, \":\", f1_score(x_train[\"is_promoted\"], [1 if i> m else 0 for i in train_pred]))"
   ]
  },
  {
   "cell_type": "code",
   "execution_count": 26,
   "metadata": {},
   "outputs": [],
   "source": [
    "valid_pred = model.predict_proba(x_valid[fe_cols])[:, 1]\n",
    "valid_pred = [1 if i>0.3 else 0 for i in valid_pred]"
   ]
  },
  {
   "cell_type": "code",
   "execution_count": 27,
   "metadata": {},
   "outputs": [],
   "source": [
    "sub1 = pd.DataFrame([x_valid[\"employee_id\"].values, valid_pred]).T\n",
    "sub1.columns = [\"employee_id\", \"is_promoted\"]"
   ]
  },
  {
   "cell_type": "code",
   "execution_count": 28,
   "metadata": {},
   "outputs": [],
   "source": [
    "sub1.to_csv(\"sub2.csv\", index=False)"
   ]
  },
  {
   "cell_type": "code",
   "execution_count": null,
   "metadata": {},
   "outputs": [],
   "source": []
  }
 ],
 "metadata": {
  "kernelspec": {
   "display_name": "Python 3",
   "language": "python",
   "name": "python3"
  },
  "language_info": {
   "codemirror_mode": {
    "name": "ipython",
    "version": 3
   },
   "file_extension": ".py",
   "mimetype": "text/x-python",
   "name": "python",
   "nbconvert_exporter": "python",
   "pygments_lexer": "ipython3",
   "version": "3.6.4"
  }
 },
 "nbformat": 4,
 "nbformat_minor": 2
}
