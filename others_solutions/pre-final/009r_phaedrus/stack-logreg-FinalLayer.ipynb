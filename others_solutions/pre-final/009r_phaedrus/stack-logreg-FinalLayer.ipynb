{
 "cells": [
  {
   "cell_type": "code",
   "execution_count": 1,
   "metadata": {},
   "outputs": [],
   "source": [
    "import pandas as pd\n",
    "import numpy as np\n",
    "from lightgbm import LGBMClassifier\n",
    "from sklearn.linear_model import LogisticRegression\n",
    "from sklearn.metrics import confusion_matrix, roc_auc_score ,roc_curve,auc, f1_score\n",
    "from sklearn.model_selection import GridSearchCV,StratifiedKFold,KFold\n",
    "from sklearn.preprocessing import LabelEncoder\n",
    "from datetime import datetime\n",
    "import os\n",
    "seed = 45\n",
    "#seed =145\n",
    "% matplotlib inline"
   ]
  },
  {
   "cell_type": "code",
   "execution_count": 2,
   "metadata": {},
   "outputs": [],
   "source": [
    "PATH='F:/AV/WNS'\n",
    "OOF_PATH = 'F:/AV/WNS/oof/stack'\n",
    "submission_path = 'F:/AV/WNS/submission/stack'\n",
    "stack_submission_path = 'F:/AV/WNS/submission/stack/final_submit'\n",
    "train_csv = 'train_catboost.csv'\n",
    "submit_csv = 'sample_submission_M0L0uXE.csv'"
   ]
  },
  {
   "cell_type": "code",
   "execution_count": 3,
   "metadata": {},
   "outputs": [
    {
     "name": "stdout",
     "output_type": "stream",
     "text": [
      "LGBM_Stack_Final_v1_20180916224411.csv\n",
      "LGBM_Stack_Final_v2_20180916224401.csv\n",
      "Logreg_Stack_Final_v1_20180916223347.csv\n",
      "Logreg_Stack_Final_v2_20180916223652_useless.csv\n",
      "Logreg_Stack_Final_v3_20180916223727.csv\n",
      "XGB_Stack_Final_v1_20180916224830.csv\n",
      "XGB_Stack_Final_v2_20180916224757.csv\n"
     ]
    }
   ],
   "source": [
    "oof_files = os.listdir(OOF_PATH)\n",
    "removed = [i for i in oof_files if \"useless\" in i]\n",
    "# removed = removed+[i for i in oof_files if \"Stack\" in i]\n",
    "\n",
    "#oof_files = [i for i in oof_files if i not in removed]\n",
    "\n",
    "oof_dict = {}\n",
    "for file in oof_files:\n",
    "    print(file)\n",
    "    _ = pd.read_csv(f'{OOF_PATH}/{file}')\n",
    "    _.columns[0]\n",
    "    val = (float(_.columns[0][-5:]))\n",
    "    oof_dict[file] = val"
   ]
  },
  {
   "cell_type": "code",
   "execution_count": 4,
   "metadata": {},
   "outputs": [],
   "source": [
    "#sorted(oof_dict.iteritems(), key=lambda (k,v): (v,k))\n",
    "import operator\n",
    "sorted_x = sorted(oof_dict.items(), key=operator.itemgetter(1))"
   ]
  },
  {
   "cell_type": "code",
   "execution_count": 5,
   "metadata": {},
   "outputs": [],
   "source": [
    "ix = [(i[1])>0.5254 for i in sorted_x]\n",
    "\n",
    "new_dict = {}\n",
    "for i in range(len(sorted_x)):\n",
    "    if ix[i]:\n",
    "        k,v = sorted_x[i]\n",
    "        new_dict[k] = v"
   ]
  },
  {
   "cell_type": "code",
   "execution_count": 6,
   "metadata": {},
   "outputs": [
    {
     "data": {
      "text/plain": [
       "{'LGBM_Stack_Final_v1_20180916224411.csv': 0.5256,\n",
       " 'XGB_Stack_Final_v2_20180916224757.csv': 0.5258,\n",
       " 'Logreg_Stack_Final_v1_20180916223347.csv': 0.5288,\n",
       " 'Logreg_Stack_Final_v3_20180916223727.csv': 0.53,\n",
       " 'Logreg_Stack_Final_v2_20180916223652_useless.csv': 0.5337}"
      ]
     },
     "execution_count": 6,
     "metadata": {},
     "output_type": "execute_result"
    }
   ],
   "source": [
    "new_dict"
   ]
  },
  {
   "cell_type": "code",
   "execution_count": 7,
   "metadata": {},
   "outputs": [],
   "source": [
    "# oof_files = ['catboost_10fld_bagtemp_20180916173347.csv','catboost_10fld_20180916082333.csv',\n",
    "#              'catboost_5fld_baggingtemp0.85_20180916070735.csv',\n",
    "#             'xgb_10fld_20180915194445.csv','xgb_10fld_20180915183532.csv',\n",
    "#              'lightgbm_10fld_20180915124747.csv',\n",
    "#              'logreg_20180915130548.csv'\n",
    "#             ]\n",
    "oof_files = [i for i,j in new_dict.items()]\n",
    "oof_files\n",
    "test_files = oof_files\n",
    "Y_true = pd.read_csv(f'{PATH}/{train_csv}')['is_promoted']\n",
    "submission = pd.read_csv(f'{PATH}/{submit_csv}')"
   ]
  },
  {
   "cell_type": "code",
   "execution_count": 8,
   "metadata": {},
   "outputs": [],
   "source": [
    "oof_df = pd.concat([pd.read_csv(f'{OOF_PATH}/{i}') for i in oof_files],axis=1)\n",
    "test_df = pd.concat([pd.read_csv(f'{submission_path}/{i}').iloc[:,1:] for i in oof_files],axis=1)"
   ]
  },
  {
   "cell_type": "code",
   "execution_count": 9,
   "metadata": {},
   "outputs": [
    {
     "data": {
      "text/plain": [
       "True"
      ]
     },
     "execution_count": 9,
     "metadata": {},
     "output_type": "execute_result"
    }
   ],
   "source": [
    "Y_true.shape[0] == oof_df.shape[0]"
   ]
  },
  {
   "cell_type": "code",
   "execution_count": 10,
   "metadata": {},
   "outputs": [
    {
     "data": {
      "text/plain": [
       "(54808,)"
      ]
     },
     "execution_count": 10,
     "metadata": {},
     "output_type": "execute_result"
    }
   ],
   "source": [
    "Y_true.shape"
   ]
  },
  {
   "cell_type": "code",
   "execution_count": 11,
   "metadata": {},
   "outputs": [
    {
     "data": {
      "text/plain": [
       "(23490, 5)"
      ]
     },
     "execution_count": 11,
     "metadata": {},
     "output_type": "execute_result"
    }
   ],
   "source": [
    "test_df.shape"
   ]
  },
  {
   "cell_type": "code",
   "execution_count": 12,
   "metadata": {},
   "outputs": [
    {
     "data": {
      "text/plain": [
       "(54808, 5)"
      ]
     },
     "execution_count": 12,
     "metadata": {},
     "output_type": "execute_result"
    }
   ],
   "source": [
    "oof_df.shape"
   ]
  },
  {
   "cell_type": "code",
   "execution_count": 13,
   "metadata": {},
   "outputs": [
    {
     "data": {
      "text/html": [
       "<div>\n",
       "<style scoped>\n",
       "    .dataframe tbody tr th:only-of-type {\n",
       "        vertical-align: middle;\n",
       "    }\n",
       "\n",
       "    .dataframe tbody tr th {\n",
       "        vertical-align: top;\n",
       "    }\n",
       "\n",
       "    .dataframe thead th {\n",
       "        text-align: right;\n",
       "    }\n",
       "</style>\n",
       "<table border=\"1\" class=\"dataframe\">\n",
       "  <thead>\n",
       "    <tr style=\"text-align: right;\">\n",
       "      <th></th>\n",
       "      <th>LGBM_Stack_Final_v1_0.5256</th>\n",
       "      <th>XGB_Stack_Final_v2_0.5258</th>\n",
       "      <th>Logreg_Stack_Final_v1_0.5288</th>\n",
       "      <th>Logreg_Stack_Final_v3_0.530</th>\n",
       "      <th>Logreg_Stack_Final_v2_0.5337</th>\n",
       "    </tr>\n",
       "  </thead>\n",
       "  <tbody>\n",
       "    <tr>\n",
       "      <th>0</th>\n",
       "      <td>0.190897</td>\n",
       "      <td>0.236511</td>\n",
       "      <td>0.197539</td>\n",
       "      <td>0.180993</td>\n",
       "      <td>0.202062</td>\n",
       "    </tr>\n",
       "    <tr>\n",
       "      <th>1</th>\n",
       "      <td>0.017784</td>\n",
       "      <td>0.030795</td>\n",
       "      <td>0.022781</td>\n",
       "      <td>0.026188</td>\n",
       "      <td>0.026736</td>\n",
       "    </tr>\n",
       "    <tr>\n",
       "      <th>2</th>\n",
       "      <td>0.022466</td>\n",
       "      <td>0.028695</td>\n",
       "      <td>0.017299</td>\n",
       "      <td>0.021006</td>\n",
       "      <td>0.021421</td>\n",
       "    </tr>\n",
       "    <tr>\n",
       "      <th>3</th>\n",
       "      <td>0.008105</td>\n",
       "      <td>0.010988</td>\n",
       "      <td>0.018125</td>\n",
       "      <td>0.021663</td>\n",
       "      <td>0.022251</td>\n",
       "    </tr>\n",
       "    <tr>\n",
       "      <th>4</th>\n",
       "      <td>0.001866</td>\n",
       "      <td>0.021478</td>\n",
       "      <td>0.018256</td>\n",
       "      <td>0.021612</td>\n",
       "      <td>0.022410</td>\n",
       "    </tr>\n",
       "  </tbody>\n",
       "</table>\n",
       "</div>"
      ],
      "text/plain": [
       "   LGBM_Stack_Final_v1_0.5256  XGB_Stack_Final_v2_0.5258  \\\n",
       "0                    0.190897                   0.236511   \n",
       "1                    0.017784                   0.030795   \n",
       "2                    0.022466                   0.028695   \n",
       "3                    0.008105                   0.010988   \n",
       "4                    0.001866                   0.021478   \n",
       "\n",
       "   Logreg_Stack_Final_v1_0.5288  Logreg_Stack_Final_v3_0.530  \\\n",
       "0                      0.197539                     0.180993   \n",
       "1                      0.022781                     0.026188   \n",
       "2                      0.017299                     0.021006   \n",
       "3                      0.018125                     0.021663   \n",
       "4                      0.018256                     0.021612   \n",
       "\n",
       "   Logreg_Stack_Final_v2_0.5337  \n",
       "0                      0.202062  \n",
       "1                      0.026736  \n",
       "2                      0.021421  \n",
       "3                      0.022251  \n",
       "4                      0.022410  "
      ]
     },
     "execution_count": 13,
     "metadata": {},
     "output_type": "execute_result"
    }
   ],
   "source": [
    "oof_df.head()"
   ]
  },
  {
   "cell_type": "code",
   "execution_count": 14,
   "metadata": {},
   "outputs": [
    {
     "data": {
      "text/html": [
       "<div>\n",
       "<style scoped>\n",
       "    .dataframe tbody tr th:only-of-type {\n",
       "        vertical-align: middle;\n",
       "    }\n",
       "\n",
       "    .dataframe tbody tr th {\n",
       "        vertical-align: top;\n",
       "    }\n",
       "\n",
       "    .dataframe thead th {\n",
       "        text-align: right;\n",
       "    }\n",
       "</style>\n",
       "<table border=\"1\" class=\"dataframe\">\n",
       "  <thead>\n",
       "    <tr style=\"text-align: right;\">\n",
       "      <th></th>\n",
       "      <th>LGBM_Stack_Final_v1_0.5256</th>\n",
       "      <th>XGB_Stack_Final_v2_0.5258</th>\n",
       "      <th>Logreg_Stack_Final_v1_0.5288</th>\n",
       "      <th>Logreg_Stack_Final_v3_0.530</th>\n",
       "      <th>Logreg_Stack_Final_v2_0.5337</th>\n",
       "    </tr>\n",
       "  </thead>\n",
       "  <tbody>\n",
       "    <tr>\n",
       "      <th>0</th>\n",
       "      <td>0.166316</td>\n",
       "      <td>0.164720</td>\n",
       "      <td>0.102971</td>\n",
       "      <td>0.083412</td>\n",
       "      <td>0.081597</td>\n",
       "    </tr>\n",
       "    <tr>\n",
       "      <th>1</th>\n",
       "      <td>0.007835</td>\n",
       "      <td>0.016085</td>\n",
       "      <td>0.017797</td>\n",
       "      <td>0.021421</td>\n",
       "      <td>0.021976</td>\n",
       "    </tr>\n",
       "    <tr>\n",
       "      <th>2</th>\n",
       "      <td>0.007835</td>\n",
       "      <td>0.016085</td>\n",
       "      <td>0.017575</td>\n",
       "      <td>0.021345</td>\n",
       "      <td>0.021903</td>\n",
       "    </tr>\n",
       "    <tr>\n",
       "      <th>3</th>\n",
       "      <td>0.007835</td>\n",
       "      <td>0.016085</td>\n",
       "      <td>0.018097</td>\n",
       "      <td>0.021536</td>\n",
       "      <td>0.022082</td>\n",
       "    </tr>\n",
       "    <tr>\n",
       "      <th>4</th>\n",
       "      <td>0.007835</td>\n",
       "      <td>0.016085</td>\n",
       "      <td>0.017992</td>\n",
       "      <td>0.021531</td>\n",
       "      <td>0.022077</td>\n",
       "    </tr>\n",
       "  </tbody>\n",
       "</table>\n",
       "</div>"
      ],
      "text/plain": [
       "   LGBM_Stack_Final_v1_0.5256  XGB_Stack_Final_v2_0.5258  \\\n",
       "0                    0.166316                   0.164720   \n",
       "1                    0.007835                   0.016085   \n",
       "2                    0.007835                   0.016085   \n",
       "3                    0.007835                   0.016085   \n",
       "4                    0.007835                   0.016085   \n",
       "\n",
       "   Logreg_Stack_Final_v1_0.5288  Logreg_Stack_Final_v3_0.530  \\\n",
       "0                      0.102971                     0.083412   \n",
       "1                      0.017797                     0.021421   \n",
       "2                      0.017575                     0.021345   \n",
       "3                      0.018097                     0.021536   \n",
       "4                      0.017992                     0.021531   \n",
       "\n",
       "   Logreg_Stack_Final_v2_0.5337  \n",
       "0                      0.081597  \n",
       "1                      0.021976  \n",
       "2                      0.021903  \n",
       "3                      0.022082  \n",
       "4                      0.022077  "
      ]
     },
     "execution_count": 14,
     "metadata": {},
     "output_type": "execute_result"
    }
   ],
   "source": [
    "test_df.columns = oof_df.columns\n",
    "test_df.head()"
   ]
  },
  {
   "cell_type": "code",
   "execution_count": 15,
   "metadata": {},
   "outputs": [],
   "source": [
    "def kfold_logreg(train_df,test_df, target,num_folds, optimize=False,stratified = False, debug= False,modelname=\"lightgbm_0\"):\n",
    "    # Divide in training/validation and test data\n",
    "    train_df = train_df\n",
    "    test_df = test_df\n",
    "    print(\"Starting LightGBM. Train shape: {}, test shape: {}\".format(train_df.shape, test_df.shape))\n",
    "    gc.collect()\n",
    "\n",
    "    # Cross validation model\n",
    "    if stratified:\n",
    "        folds = StratifiedKFold(n_splits= num_folds, shuffle=True, random_state=seed)\n",
    "    else:\n",
    "        folds = KFold(n_splits= num_folds, shuffle=True, random_state=seed)\n",
    "    # Create arrays and dataframes to store results\n",
    "    oof_preds = np.zeros(train_df.shape[0])\n",
    "    sub_preds = np.zeros(test_df.shape[0])\n",
    "    feature_importance_df = pd.DataFrame()\n",
    "    feats = [f for f in train_df.columns if f not in ['employee_id','index','logreg_0.3322']]\n",
    "    print(feats)\n",
    "\n",
    "    #Grid Search\n",
    "    if optimize:\n",
    "        logreg = LogisticRegression()\n",
    "        #param = {'C':[0.001,0.01,0.1,1,10,100]}\n",
    "        param = {'C':[5,7.5,10,12.5,15,30]}\n",
    "        clf = GridSearchCV(logreg,param,scoring='f1',refit=True,cv=num_folds,verbose = 1)\n",
    "        clf.fit(train_df[feats],target)\n",
    "        best_c = clf.best_params_['C']\n",
    "        print('Best F1: {:.4}, with best C: {}'.format(clf.best_score_, clf.best_params_))\n",
    "    \n",
    "    for n_fold, (train_idx, valid_idx) in enumerate(folds.split(train_df[feats], target)):\n",
    "        train_x, train_y = train_df[feats].iloc[train_idx], target[train_idx]\n",
    "        valid_x, valid_y = train_df[feats].iloc[valid_idx], target[valid_idx]\n",
    "\n",
    "        if optimize:\n",
    "            clf = LogisticRegression(C=best_c)\n",
    "        else:\n",
    "            clf = LogisticRegression()\n",
    "\n",
    "        clf.fit(train_x,train_y)\n",
    "\n",
    "        oof_preds[valid_idx] = clf.predict_proba(valid_x)[:, 1]\n",
    "        sub_preds += clf.predict_proba(test_df[feats])[:, 1] / folds.n_splits\n",
    "\n",
    "        print('Fold %2d F-score : %.6f' % (n_fold + 1, f1_score(valid_y, (oof_preds[valid_idx]>0.3).astype(int))))\n",
    "        print('Fold %2d > 0.2 F-score : %.6f' % (n_fold + 1, f1_score(valid_y, (oof_preds[valid_idx]>0.2).astype(int))))\n",
    "        print('Fold %2d > 0.1 F-score : %.6f' % (n_fold + 1, f1_score(valid_y, (oof_preds[valid_idx]>0.1).astype(int))))\n",
    "        del clf, train_x, train_y, valid_x, valid_y\n",
    "        gc.collect()\n",
    "        \n",
    "    print('Full > 0.28 f1 score %.6f' % f1_score(target, (oof_preds>0.28).astype(int)))\n",
    "    print('Full > 0.30 f1 score %.6f' % f1_score(target, (oof_preds>0.29).astype(int)))\n",
    "    print('Full > 0.32 f1 score %.6f' % f1_score(target, (oof_preds>0.30).astype(int)))\n",
    "    print('Full > 0.25 f1 score %.6f' % f1_score(target, (oof_preds>0.31).astype(int)))\n",
    "    print('Full > 0.275 f1 score %.6f' % f1_score(target, (oof_preds>0.32).astype(int)))\n",
    "\n",
    "    # Write submission file and plot feature importance\n",
    "    if not debug:\n",
    "        _ = datetime.now().strftime('%Y%m%d%H%M%S')\n",
    "        Fname = 'F:/AV/WNS/submission/stack/'+str(modelname)+'_'+str(_)+'.csv'\n",
    "        submission['is_promoted'] = sub_preds\n",
    "        submission[['employee_id', 'is_promoted']].to_csv(Fname, index= False)\n",
    "        oof = pd.DataFrame(oof_preds)\n",
    "        score = f1_score(target, (oof_preds>0.3).astype(int))\n",
    "        oof.columns = [modelname+'_'+str(round(score,4))]\n",
    "        OOF_Fname = 'F:/AV/WNS/oof/stack/'+str(modelname)+'_'+str(_)+'.csv'\n",
    "        oof.to_csv(OOF_Fname,index=False)\n",
    "    #display_importances(feature_importance_df)\n",
    "    return "
   ]
  },
  {
   "cell_type": "code",
   "execution_count": 19,
   "metadata": {},
   "outputs": [
    {
     "name": "stdout",
     "output_type": "stream",
     "text": [
      "Starting LightGBM. Train shape: (54808, 5), test shape: (23490, 5)\n",
      "['LGBM_Stack_Final_v1_0.5256', 'XGB_Stack_Final_v2_0.5258', 'Logreg_Stack_Final_v1_0.5288', 'Logreg_Stack_Final_v3_0.530', 'Logreg_Stack_Final_v2_0.5337']\n",
      "Fold  1 F-score : 0.534624\n",
      "Fold  1 > 0.2 F-score : 0.502128\n",
      "Fold  1 > 0.1 F-score : 0.444042\n",
      "Fold  2 F-score : 0.502269\n",
      "Fold  2 > 0.2 F-score : 0.497373\n",
      "Fold  2 > 0.1 F-score : 0.434706\n",
      "Fold  3 F-score : 0.541278\n",
      "Fold  3 > 0.2 F-score : 0.522006\n",
      "Fold  3 > 0.1 F-score : 0.453583\n",
      "Fold  4 F-score : 0.507163\n",
      "Fold  4 > 0.2 F-score : 0.496531\n",
      "Fold  4 > 0.1 F-score : 0.441889\n",
      "Fold  5 F-score : 0.525753\n",
      "Fold  5 > 0.2 F-score : 0.480204\n",
      "Fold  5 > 0.1 F-score : 0.430616\n",
      "Full > 0.28 f1 score 0.523000\n",
      "Full > 0.30 f1 score 0.523073\n",
      "Full > 0.32 f1 score 0.522377\n",
      "Full > 0.25 f1 score 0.523525\n",
      "Full > 0.275 f1 score 0.523167\n"
     ]
    }
   ],
   "source": [
    "import gc\n",
    "oof = kfold_logreg(oof_df,test_df, Y_true,num_folds=5, optimize=False,stratified = True, debug= True,modelname=\"Logreg_Stack_Final\")"
   ]
  },
  {
   "cell_type": "code",
   "execution_count": 17,
   "metadata": {},
   "outputs": [],
   "source": [
    "#0.529741"
   ]
  },
  {
   "cell_type": "code",
   "execution_count": null,
   "metadata": {},
   "outputs": [],
   "source": []
  }
 ],
 "metadata": {
  "kernelspec": {
   "display_name": "Python 3",
   "language": "python",
   "name": "python3"
  },
  "language_info": {
   "codemirror_mode": {
    "name": "ipython",
    "version": 3
   },
   "file_extension": ".py",
   "mimetype": "text/x-python",
   "name": "python",
   "nbconvert_exporter": "python",
   "pygments_lexer": "ipython3",
   "version": "3.6.6"
  }
 },
 "nbformat": 4,
 "nbformat_minor": 2
}
