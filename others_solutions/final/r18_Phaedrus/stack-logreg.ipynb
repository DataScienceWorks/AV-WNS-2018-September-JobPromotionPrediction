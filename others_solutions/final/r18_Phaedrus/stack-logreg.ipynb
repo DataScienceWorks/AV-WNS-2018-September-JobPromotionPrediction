{
 "cells": [
  {
   "cell_type": "code",
   "execution_count": 1,
   "metadata": {},
   "outputs": [],
   "source": [
    "import pandas as pd\n",
    "import numpy as np\n",
    "from lightgbm import LGBMClassifier\n",
    "from sklearn.linear_model import LogisticRegression\n",
    "from sklearn.metrics import confusion_matrix, roc_auc_score ,roc_curve,auc, f1_score\n",
    "from sklearn.model_selection import GridSearchCV,StratifiedKFold,KFold\n",
    "from sklearn.preprocessing import LabelEncoder\n",
    "from datetime import datetime\n",
    "import os\n",
    "seed = 45\n",
    "#seed =145\n",
    "% matplotlib inline"
   ]
  },
  {
   "cell_type": "code",
   "execution_count": 2,
   "metadata": {},
   "outputs": [],
   "source": [
    "PATH='F:/AV/WNS'\n",
    "OOF_PATH = 'F:/AV/WNS/oof'\n",
    "submission_path = 'F:/AV/WNS/submission'\n",
    "stack_submission_path = 'F:/AV/WNS/submission/stack'\n",
    "train_csv = 'train_catboost.csv'\n",
    "submit_csv = 'sample_submission_M0L0uXE.csv'"
   ]
  },
  {
   "cell_type": "code",
   "execution_count": 3,
   "metadata": {},
   "outputs": [
    {
     "name": "stdout",
     "output_type": "stream",
     "text": [
      "catboost_10fld_20180916082333.csv\n",
      "catboost_10fld_bagtemp_20180916173347.csv\n",
      "catboost_10fld_depth10_l2_1.1_temp0.1_20180916111008.csv\n",
      "catboost_10fld_depth10_l2_1.1_temp1.2_20180916094559.csv\n",
      "catboost_10fld_depth10_temp0.2_20180916111110.csv\n",
      "catboost_10fld_depth10_temp0.3_20180916111032.csv\n",
      "catboost_10fld_depth10_temp0.9_20180916094745.csv\n",
      "catboost_10fld_depth10_temp1.1_20180916094605.csv\n",
      "catboost_10fld_depth11_l2_1.1_temp2_20180916095129.csv\n",
      "catboost_10fld_depth12_l2_1.75_temp0.5_20180916120826.csv\n",
      "catboost_10fld_depth8_l2_1.1_temp0.15_20180916115751.csv\n",
      "catboost_10fld_depth8_l2_1.1_temp0.5_20180916124013.csv\n",
      "catboost_10fld_depth8_l2_1.1_temp3_20180916133324.csv\n",
      "catboost_10fld_depth8_temp0.2_20180916120941.csv\n",
      "catboost_10fld_depth8_temp0.3_20180916120820.csv\n",
      "catboost_10fld_depth9_l2_1.1_temp0.55_20180916120924.csv\n",
      "catboost_10fld_depth9__seed_temp0.2_20180916115740.csv\n",
      "catboost_10fld_depth_10_temp0.9_20180916124610.csv\n",
      "catboost_10fld_depth_10_temp5.0_20180916133913.csv\n",
      "catboost_10fld_depth_9_temp0.3_20180916115836.csv\n",
      "catboost_10fld_l2_1.1_temp0.15_20180916110352.csv\n",
      "catboost_10fld_seed_temp0.2_20180916110253.csv\n",
      "catboost_10fld_seed_temp1.75_20180916094402.csv\n",
      "catboost_10fld_temp0.3_20180916110238.csv\n",
      "catboost_10fld_temp1.35_20180916093821.csv\n",
      "catboost_5fld_20180916025522.csv\n",
      "catboost_5fld_baggingtemp0.85_20180916070735.csv\n",
      "catboost_5fld_bagtemp_20180916192102.csv\n",
      "catboost_5fld_classwts_20180916070537.csv\n",
      "catboost_5fld_depth12_l2_1.75_temp0.5_20180916130613.csv\n",
      "catboost_5fld_depth8_20180916131309.csv\n",
      "catboost_5fld_depth8_temp0.2_20180916124404.csv\n",
      "catboost_5fld_depth8_temp0.3_20180916124602.csv\n",
      "catboost_5fld_depth9_l2_1.1_temp0.55_20180916124640.csv\n",
      "catboost_5fld_depth9_l2_1.1_temp2.0_20180916131402.csv\n",
      "lightgbm_10fld_20180915124531.csv\n",
      "lightgbm_10fld_20180915124747.csv\n",
      "lightgbm_10fld_diffseed_20180915125325.csv\n",
      "lightgbm_10fld_diffseed_20180915125541.csv\n",
      "lightgbm_10fld_KNN_20180915132533.csv\n",
      "lightgbm_10fld_KNN_20180915134438.csv\n",
      "lightgbm_10fld_KNN_20180915180649.csv\n",
      "lightgbm_10fld_targetenc_20180916025020.csv\n",
      "lightgbm_5fld_diffseed_20180915125623.csv\n",
      "logreg_20180915130548.csv\n",
      "xgb_10fld_20180915183532.csv\n",
      "xgb_10fld_20180915194445.csv\n"
     ]
    }
   ],
   "source": [
    "oof_files = os.listdir(OOF_PATH)\n",
    "removed = [i for i in oof_files if \"stack\" in i]\n",
    "removed = removed+[i for i in oof_files if \"Stack\" in i]\n",
    "\n",
    "oof_files = [i for i in oof_files if i not in removed]\n",
    "\n",
    "oof_dict = {}\n",
    "for file in oof_files:\n",
    "    print(file)\n",
    "    _ = pd.read_csv(f'{OOF_PATH}/{file}')\n",
    "    _.columns[0]\n",
    "    val = (float(_.columns[0][-5:]))\n",
    "    oof_dict[file] = val"
   ]
  },
  {
   "cell_type": "code",
   "execution_count": 4,
   "metadata": {},
   "outputs": [],
   "source": [
    "#sorted(oof_dict.iteritems(), key=lambda (k,v): (v,k))\n",
    "import operator\n",
    "sorted_x = sorted(oof_dict.items(), key=operator.itemgetter(1))"
   ]
  },
  {
   "cell_type": "code",
   "execution_count": 5,
   "metadata": {},
   "outputs": [],
   "source": [
    "ix = [(i[1])>0.52 for i in sorted_x]\n",
    "\n",
    "new_dict = {}\n",
    "for i in range(len(sorted_x)):\n",
    "    if ix[i]:\n",
    "        k,v = sorted_x[i]\n",
    "        new_dict[k] = v"
   ]
  },
  {
   "cell_type": "code",
   "execution_count": 6,
   "metadata": {},
   "outputs": [
    {
     "data": {
      "text/plain": [
       "{'lightgbm_5fld_diffseed_20180915125623.csv': 0.5201,\n",
       " 'catboost_5fld_depth8_temp0.3_20180916124602.csv': 0.5209,\n",
       " 'xgb_10fld_20180915183532.csv': 0.5211,\n",
       " 'xgb_10fld_20180915194445.csv': 0.5215,\n",
       " 'lightgbm_10fld_20180915124531.csv': 0.5234,\n",
       " 'catboost_5fld_bagtemp_20180916192102.csv': 0.5236,\n",
       " 'catboost_5fld_20180916025522.csv': 0.524,\n",
       " 'lightgbm_10fld_20180915124747.csv': 0.5254,\n",
       " 'catboost_5fld_baggingtemp0.85_20180916070735.csv': 0.5275,\n",
       " 'catboost_10fld_bagtemp_20180916173347.csv': 0.5282,\n",
       " 'catboost_10fld_20180916082333.csv': 0.531}"
      ]
     },
     "execution_count": 6,
     "metadata": {},
     "output_type": "execute_result"
    }
   ],
   "source": [
    "new_dict"
   ]
  },
  {
   "cell_type": "code",
   "execution_count": 7,
   "metadata": {},
   "outputs": [],
   "source": [
    "# oof_files = ['catboost_10fld_bagtemp_20180916173347.csv','catboost_10fld_20180916082333.csv',\n",
    "#              'catboost_5fld_baggingtemp0.85_20180916070735.csv',\n",
    "#             'xgb_10fld_20180915194445.csv','xgb_10fld_20180915183532.csv',\n",
    "#              'lightgbm_10fld_20180915124747.csv',\n",
    "#              'logreg_20180915130548.csv'\n",
    "#             ]\n",
    "oof_files = [i for i,j in new_dict.items()]\n",
    "oof_files\n",
    "test_files = oof_files\n",
    "Y_true = pd.read_csv(f'{PATH}/{train_csv}')['is_promoted']\n",
    "submission = pd.read_csv(f'{PATH}/{submit_csv}')"
   ]
  },
  {
   "cell_type": "code",
   "execution_count": 8,
   "metadata": {},
   "outputs": [],
   "source": [
    "oof_df = pd.concat([pd.read_csv(f'{OOF_PATH}/{i}') for i in oof_files],axis=1)\n",
    "test_df = pd.concat([pd.read_csv(f'{submission_path}/{i}').iloc[:,1:] for i in oof_files],axis=1)"
   ]
  },
  {
   "cell_type": "code",
   "execution_count": 9,
   "metadata": {},
   "outputs": [
    {
     "data": {
      "text/plain": [
       "True"
      ]
     },
     "execution_count": 9,
     "metadata": {},
     "output_type": "execute_result"
    }
   ],
   "source": [
    "Y_true.shape[0] == oof_df.shape[0]"
   ]
  },
  {
   "cell_type": "code",
   "execution_count": 10,
   "metadata": {},
   "outputs": [
    {
     "data": {
      "text/plain": [
       "(54808,)"
      ]
     },
     "execution_count": 10,
     "metadata": {},
     "output_type": "execute_result"
    }
   ],
   "source": [
    "Y_true.shape"
   ]
  },
  {
   "cell_type": "code",
   "execution_count": 11,
   "metadata": {},
   "outputs": [
    {
     "data": {
      "text/plain": [
       "(23490, 11)"
      ]
     },
     "execution_count": 11,
     "metadata": {},
     "output_type": "execute_result"
    }
   ],
   "source": [
    "test_df.shape"
   ]
  },
  {
   "cell_type": "code",
   "execution_count": 12,
   "metadata": {},
   "outputs": [
    {
     "data": {
      "text/plain": [
       "(54808, 11)"
      ]
     },
     "execution_count": 12,
     "metadata": {},
     "output_type": "execute_result"
    }
   ],
   "source": [
    "oof_df.shape"
   ]
  },
  {
   "cell_type": "code",
   "execution_count": 13,
   "metadata": {},
   "outputs": [
    {
     "data": {
      "text/html": [
       "<div>\n",
       "<style scoped>\n",
       "    .dataframe tbody tr th:only-of-type {\n",
       "        vertical-align: middle;\n",
       "    }\n",
       "\n",
       "    .dataframe tbody tr th {\n",
       "        vertical-align: top;\n",
       "    }\n",
       "\n",
       "    .dataframe thead th {\n",
       "        text-align: right;\n",
       "    }\n",
       "</style>\n",
       "<table border=\"1\" class=\"dataframe\">\n",
       "  <thead>\n",
       "    <tr style=\"text-align: right;\">\n",
       "      <th></th>\n",
       "      <th>lightgbm_5fld_diffseed_0.5201</th>\n",
       "      <th>catboost_5fld_depth8_temp0.3_0.5209</th>\n",
       "      <th>xgb_10fld_0.5211</th>\n",
       "      <th>xgb_10fld_0.5215</th>\n",
       "      <th>lightgbm_10fld_0.5234</th>\n",
       "      <th>catboost_5fld_bagtemp_0.5236</th>\n",
       "      <th>catboost_5fld_0.524</th>\n",
       "      <th>lightgbm_10fld_0.5254</th>\n",
       "      <th>catboost_5fld_baggingtemp0.85_0.5275</th>\n",
       "      <th>catboost_10fld_bagtemp_0.5282</th>\n",
       "      <th>catboost_10fld_0.531</th>\n",
       "    </tr>\n",
       "  </thead>\n",
       "  <tbody>\n",
       "    <tr>\n",
       "      <th>0</th>\n",
       "      <td>0.251151</td>\n",
       "      <td>0.178219</td>\n",
       "      <td>0.276706</td>\n",
       "      <td>0.240680</td>\n",
       "      <td>0.224476</td>\n",
       "      <td>0.201242</td>\n",
       "      <td>0.211186</td>\n",
       "      <td>0.251634</td>\n",
       "      <td>0.197621</td>\n",
       "      <td>0.229450</td>\n",
       "      <td>0.233136</td>\n",
       "    </tr>\n",
       "    <tr>\n",
       "      <th>1</th>\n",
       "      <td>0.004188</td>\n",
       "      <td>0.034839</td>\n",
       "      <td>0.001657</td>\n",
       "      <td>0.001845</td>\n",
       "      <td>0.004827</td>\n",
       "      <td>0.017072</td>\n",
       "      <td>0.018810</td>\n",
       "      <td>0.004689</td>\n",
       "      <td>0.019009</td>\n",
       "      <td>0.015912</td>\n",
       "      <td>0.020193</td>\n",
       "    </tr>\n",
       "    <tr>\n",
       "      <th>2</th>\n",
       "      <td>0.000457</td>\n",
       "      <td>0.001652</td>\n",
       "      <td>0.007921</td>\n",
       "      <td>0.000501</td>\n",
       "      <td>0.000857</td>\n",
       "      <td>0.000106</td>\n",
       "      <td>0.000023</td>\n",
       "      <td>0.001129</td>\n",
       "      <td>0.000200</td>\n",
       "      <td>0.000013</td>\n",
       "      <td>0.000096</td>\n",
       "    </tr>\n",
       "    <tr>\n",
       "      <th>3</th>\n",
       "      <td>0.001732</td>\n",
       "      <td>0.002340</td>\n",
       "      <td>0.000353</td>\n",
       "      <td>0.000347</td>\n",
       "      <td>0.000144</td>\n",
       "      <td>0.000014</td>\n",
       "      <td>0.000157</td>\n",
       "      <td>0.000200</td>\n",
       "      <td>0.000035</td>\n",
       "      <td>0.000012</td>\n",
       "      <td>0.000031</td>\n",
       "    </tr>\n",
       "    <tr>\n",
       "      <th>4</th>\n",
       "      <td>0.005100</td>\n",
       "      <td>0.009518</td>\n",
       "      <td>0.002578</td>\n",
       "      <td>0.005591</td>\n",
       "      <td>0.003859</td>\n",
       "      <td>0.002555</td>\n",
       "      <td>0.003368</td>\n",
       "      <td>0.002808</td>\n",
       "      <td>0.001812</td>\n",
       "      <td>0.005401</td>\n",
       "      <td>0.002351</td>\n",
       "    </tr>\n",
       "  </tbody>\n",
       "</table>\n",
       "</div>"
      ],
      "text/plain": [
       "   lightgbm_5fld_diffseed_0.5201  catboost_5fld_depth8_temp0.3_0.5209  \\\n",
       "0                       0.251151                             0.178219   \n",
       "1                       0.004188                             0.034839   \n",
       "2                       0.000457                             0.001652   \n",
       "3                       0.001732                             0.002340   \n",
       "4                       0.005100                             0.009518   \n",
       "\n",
       "   xgb_10fld_0.5211  xgb_10fld_0.5215  lightgbm_10fld_0.5234  \\\n",
       "0          0.276706          0.240680               0.224476   \n",
       "1          0.001657          0.001845               0.004827   \n",
       "2          0.007921          0.000501               0.000857   \n",
       "3          0.000353          0.000347               0.000144   \n",
       "4          0.002578          0.005591               0.003859   \n",
       "\n",
       "   catboost_5fld_bagtemp_0.5236  catboost_5fld_0.524  lightgbm_10fld_0.5254  \\\n",
       "0                      0.201242             0.211186               0.251634   \n",
       "1                      0.017072             0.018810               0.004689   \n",
       "2                      0.000106             0.000023               0.001129   \n",
       "3                      0.000014             0.000157               0.000200   \n",
       "4                      0.002555             0.003368               0.002808   \n",
       "\n",
       "   catboost_5fld_baggingtemp0.85_0.5275  catboost_10fld_bagtemp_0.5282  \\\n",
       "0                              0.197621                       0.229450   \n",
       "1                              0.019009                       0.015912   \n",
       "2                              0.000200                       0.000013   \n",
       "3                              0.000035                       0.000012   \n",
       "4                              0.001812                       0.005401   \n",
       "\n",
       "   catboost_10fld_0.531  \n",
       "0              0.233136  \n",
       "1              0.020193  \n",
       "2              0.000096  \n",
       "3              0.000031  \n",
       "4              0.002351  "
      ]
     },
     "execution_count": 13,
     "metadata": {},
     "output_type": "execute_result"
    }
   ],
   "source": [
    "oof_df.head()"
   ]
  },
  {
   "cell_type": "code",
   "execution_count": 14,
   "metadata": {},
   "outputs": [
    {
     "data": {
      "text/html": [
       "<div>\n",
       "<style scoped>\n",
       "    .dataframe tbody tr th:only-of-type {\n",
       "        vertical-align: middle;\n",
       "    }\n",
       "\n",
       "    .dataframe tbody tr th {\n",
       "        vertical-align: top;\n",
       "    }\n",
       "\n",
       "    .dataframe thead th {\n",
       "        text-align: right;\n",
       "    }\n",
       "</style>\n",
       "<table border=\"1\" class=\"dataframe\">\n",
       "  <thead>\n",
       "    <tr style=\"text-align: right;\">\n",
       "      <th></th>\n",
       "      <th>lightgbm_5fld_diffseed_0.5201</th>\n",
       "      <th>catboost_5fld_depth8_temp0.3_0.5209</th>\n",
       "      <th>xgb_10fld_0.5211</th>\n",
       "      <th>xgb_10fld_0.5215</th>\n",
       "      <th>lightgbm_10fld_0.5234</th>\n",
       "      <th>catboost_5fld_bagtemp_0.5236</th>\n",
       "      <th>catboost_5fld_0.524</th>\n",
       "      <th>lightgbm_10fld_0.5254</th>\n",
       "      <th>catboost_5fld_baggingtemp0.85_0.5275</th>\n",
       "      <th>catboost_10fld_bagtemp_0.5282</th>\n",
       "      <th>catboost_10fld_0.531</th>\n",
       "    </tr>\n",
       "  </thead>\n",
       "  <tbody>\n",
       "    <tr>\n",
       "      <th>0</th>\n",
       "      <td>0.186231</td>\n",
       "      <td>0.122996</td>\n",
       "      <td>0.194406</td>\n",
       "      <td>0.192050</td>\n",
       "      <td>0.196020</td>\n",
       "      <td>0.123082</td>\n",
       "      <td>0.133610</td>\n",
       "      <td>0.190533</td>\n",
       "      <td>0.139478</td>\n",
       "      <td>0.126459</td>\n",
       "      <td>0.137725</td>\n",
       "    </tr>\n",
       "    <tr>\n",
       "      <th>1</th>\n",
       "      <td>0.002037</td>\n",
       "      <td>0.002973</td>\n",
       "      <td>0.001497</td>\n",
       "      <td>0.000745</td>\n",
       "      <td>0.001239</td>\n",
       "      <td>0.000332</td>\n",
       "      <td>0.000554</td>\n",
       "      <td>0.001850</td>\n",
       "      <td>0.000424</td>\n",
       "      <td>0.000322</td>\n",
       "      <td>0.000372</td>\n",
       "    </tr>\n",
       "    <tr>\n",
       "      <th>2</th>\n",
       "      <td>0.001001</td>\n",
       "      <td>0.001510</td>\n",
       "      <td>0.001258</td>\n",
       "      <td>0.000366</td>\n",
       "      <td>0.000515</td>\n",
       "      <td>0.000015</td>\n",
       "      <td>0.000042</td>\n",
       "      <td>0.000880</td>\n",
       "      <td>0.000056</td>\n",
       "      <td>0.000022</td>\n",
       "      <td>0.000029</td>\n",
       "    </tr>\n",
       "    <tr>\n",
       "      <th>3</th>\n",
       "      <td>0.003680</td>\n",
       "      <td>0.004875</td>\n",
       "      <td>0.002160</td>\n",
       "      <td>0.001621</td>\n",
       "      <td>0.002301</td>\n",
       "      <td>0.000757</td>\n",
       "      <td>0.001068</td>\n",
       "      <td>0.002967</td>\n",
       "      <td>0.001002</td>\n",
       "      <td>0.000764</td>\n",
       "      <td>0.000878</td>\n",
       "    </tr>\n",
       "    <tr>\n",
       "      <th>4</th>\n",
       "      <td>0.002656</td>\n",
       "      <td>0.004373</td>\n",
       "      <td>0.001753</td>\n",
       "      <td>0.001443</td>\n",
       "      <td>0.001783</td>\n",
       "      <td>0.000801</td>\n",
       "      <td>0.001040</td>\n",
       "      <td>0.002334</td>\n",
       "      <td>0.000984</td>\n",
       "      <td>0.000743</td>\n",
       "      <td>0.000848</td>\n",
       "    </tr>\n",
       "  </tbody>\n",
       "</table>\n",
       "</div>"
      ],
      "text/plain": [
       "   lightgbm_5fld_diffseed_0.5201  catboost_5fld_depth8_temp0.3_0.5209  \\\n",
       "0                       0.186231                             0.122996   \n",
       "1                       0.002037                             0.002973   \n",
       "2                       0.001001                             0.001510   \n",
       "3                       0.003680                             0.004875   \n",
       "4                       0.002656                             0.004373   \n",
       "\n",
       "   xgb_10fld_0.5211  xgb_10fld_0.5215  lightgbm_10fld_0.5234  \\\n",
       "0          0.194406          0.192050               0.196020   \n",
       "1          0.001497          0.000745               0.001239   \n",
       "2          0.001258          0.000366               0.000515   \n",
       "3          0.002160          0.001621               0.002301   \n",
       "4          0.001753          0.001443               0.001783   \n",
       "\n",
       "   catboost_5fld_bagtemp_0.5236  catboost_5fld_0.524  lightgbm_10fld_0.5254  \\\n",
       "0                      0.123082             0.133610               0.190533   \n",
       "1                      0.000332             0.000554               0.001850   \n",
       "2                      0.000015             0.000042               0.000880   \n",
       "3                      0.000757             0.001068               0.002967   \n",
       "4                      0.000801             0.001040               0.002334   \n",
       "\n",
       "   catboost_5fld_baggingtemp0.85_0.5275  catboost_10fld_bagtemp_0.5282  \\\n",
       "0                              0.139478                       0.126459   \n",
       "1                              0.000424                       0.000322   \n",
       "2                              0.000056                       0.000022   \n",
       "3                              0.001002                       0.000764   \n",
       "4                              0.000984                       0.000743   \n",
       "\n",
       "   catboost_10fld_0.531  \n",
       "0              0.137725  \n",
       "1              0.000372  \n",
       "2              0.000029  \n",
       "3              0.000878  \n",
       "4              0.000848  "
      ]
     },
     "execution_count": 14,
     "metadata": {},
     "output_type": "execute_result"
    }
   ],
   "source": [
    "test_df.columns = oof_df.columns\n",
    "test_df.head()"
   ]
  },
  {
   "cell_type": "code",
   "execution_count": 15,
   "metadata": {},
   "outputs": [],
   "source": [
    "def kfold_logreg(train_df,test_df, target,num_folds, optimize=False,stratified = False, debug= False,modelname=\"lightgbm_0\"):\n",
    "    # Divide in training/validation and test data\n",
    "    train_df = train_df\n",
    "    test_df = test_df\n",
    "    print(\"Starting LightGBM. Train shape: {}, test shape: {}\".format(train_df.shape, test_df.shape))\n",
    "    gc.collect()\n",
    "\n",
    "    # Cross validation model\n",
    "    if stratified:\n",
    "        folds = StratifiedKFold(n_splits= num_folds, shuffle=True, random_state=seed)\n",
    "    else:\n",
    "        folds = KFold(n_splits= num_folds, shuffle=True, random_state=seed)\n",
    "    # Create arrays and dataframes to store results\n",
    "    oof_preds = np.zeros(train_df.shape[0])\n",
    "    sub_preds = np.zeros(test_df.shape[0])\n",
    "    feature_importance_df = pd.DataFrame()\n",
    "    feats = [f for f in train_df.columns if f not in ['employee_id','index','logreg_0.3322']]\n",
    "    print(feats)\n",
    "\n",
    "    #Grid Search\n",
    "    if optimize:\n",
    "        logreg = LogisticRegression()\n",
    "        #param = {'C':[0.001,0.01,0.1,1,10,100]}\n",
    "        param = {'C':[5,7.5,10,12.5,15,30]}\n",
    "        clf = GridSearchCV(logreg,param,scoring='f1',refit=True,cv=num_folds,verbose = 1)\n",
    "        clf.fit(train_df[feats],target)\n",
    "        best_c = clf.best_params_['C']\n",
    "        print('Best F1: {:.4}, with best C: {}'.format(clf.best_score_, clf.best_params_))\n",
    "    \n",
    "    for n_fold, (train_idx, valid_idx) in enumerate(folds.split(train_df[feats], target)):\n",
    "        train_x, train_y = train_df[feats].iloc[train_idx], target[train_idx]\n",
    "        valid_x, valid_y = train_df[feats].iloc[valid_idx], target[valid_idx]\n",
    "\n",
    "        if optimize:\n",
    "            clf = LogisticRegression(C=best_c)\n",
    "        else:\n",
    "            clf = LogisticRegression()\n",
    "\n",
    "        clf.fit(train_x,train_y)\n",
    "\n",
    "        oof_preds[valid_idx] = clf.predict_proba(valid_x)[:, 1]\n",
    "        sub_preds += clf.predict_proba(test_df[feats])[:, 1] / folds.n_splits\n",
    "\n",
    "        print('Fold %2d F-score : %.6f' % (n_fold + 1, f1_score(valid_y, (oof_preds[valid_idx]>0.3).astype(int))))\n",
    "        print('Fold %2d > 0.2 F-score : %.6f' % (n_fold + 1, f1_score(valid_y, (oof_preds[valid_idx]>0.2).astype(int))))\n",
    "        print('Fold %2d > 0.1 F-score : %.6f' % (n_fold + 1, f1_score(valid_y, (oof_preds[valid_idx]>0.1).astype(int))))\n",
    "        del clf, train_x, train_y, valid_x, valid_y\n",
    "        gc.collect()\n",
    "        \n",
    "    print('Full > 0.28 f1 score %.6f' % f1_score(target, (oof_preds>0.28).astype(int)))\n",
    "    print('Full > 0.30 f1 score %.6f' % f1_score(target, (oof_preds>0.29).astype(int)))\n",
    "    print('Full > 0.32 f1 score %.6f' % f1_score(target, (oof_preds>0.30).astype(int)))\n",
    "    print('Full > 0.25 f1 score %.6f' % f1_score(target, (oof_preds>0.31).astype(int)))\n",
    "    print('Full > 0.275 f1 score %.6f' % f1_score(target, (oof_preds>0.32).astype(int)))\n",
    "\n",
    "    # Write submission file and plot feature importance\n",
    "    if not debug:\n",
    "        _ = datetime.now().strftime('%Y%m%d%H%M%S')\n",
    "        Fname = 'F:/AV/WNS/submission/stack/'+str(modelname)+'_'+str(_)+'.csv'\n",
    "        submission['is_promoted'] = sub_preds\n",
    "        submission[['employee_id', 'is_promoted']].to_csv(Fname, index= False)\n",
    "        oof = pd.DataFrame(oof_preds)\n",
    "        score = f1_score(target, (oof_preds>0.3).astype(int))\n",
    "        oof.columns = [modelname+'_'+str(round(score,4))]\n",
    "        OOF_Fname = 'F:/AV/WNS/oof/stack/'+str(modelname)+'_'+str(_)+'.csv'\n",
    "        oof.to_csv(OOF_Fname,index=False)\n",
    "    #display_importances(feature_importance_df)\n",
    "    return "
   ]
  },
  {
   "cell_type": "code",
   "execution_count": 18,
   "metadata": {},
   "outputs": [
    {
     "name": "stdout",
     "output_type": "stream",
     "text": [
      "Starting LightGBM. Train shape: (54808, 11), test shape: (23490, 11)\n",
      "['lightgbm_5fld_diffseed_0.5201', 'catboost_5fld_depth8_temp0.3_0.5209', 'xgb_10fld_0.5211', 'xgb_10fld_0.5215', 'lightgbm_10fld_0.5234', 'catboost_5fld_bagtemp_0.5236', 'catboost_5fld_0.524', 'lightgbm_10fld_0.5254', 'catboost_5fld_baggingtemp0.85_0.5275', 'catboost_10fld_bagtemp_0.5282', 'catboost_10fld_0.531']\n",
      "Fold  1 F-score : 0.522063\n",
      "Fold  1 > 0.2 F-score : 0.516538\n",
      "Fold  1 > 0.1 F-score : 0.457898\n",
      "Fold  2 F-score : 0.531755\n",
      "Fold  2 > 0.2 F-score : 0.524942\n",
      "Fold  2 > 0.1 F-score : 0.469633\n",
      "Fold  3 F-score : 0.546046\n",
      "Fold  3 > 0.2 F-score : 0.539315\n",
      "Fold  3 > 0.1 F-score : 0.473640\n",
      "Fold  4 F-score : 0.516027\n",
      "Fold  4 > 0.2 F-score : 0.514183\n",
      "Fold  4 > 0.1 F-score : 0.458251\n",
      "Full > 0.28 f1 score 0.528519\n",
      "Full > 0.30 f1 score 0.528875\n",
      "Full > 0.32 f1 score 0.528846\n",
      "Full > 0.25 f1 score 0.527748\n",
      "Full > 0.275 f1 score 0.527948\n"
     ]
    }
   ],
   "source": [
    "import gc\n",
    "oof = kfold_logreg(oof_df,test_df, Y_true,num_folds=4, optimize=False,stratified = True, debug= False,modelname=\"Logreg_Stack_Final_v1\")"
   ]
  },
  {
   "cell_type": "code",
   "execution_count": 17,
   "metadata": {},
   "outputs": [],
   "source": [
    "#0.529741"
   ]
  },
  {
   "cell_type": "code",
   "execution_count": null,
   "metadata": {},
   "outputs": [],
   "source": []
  }
 ],
 "metadata": {
  "kernelspec": {
   "display_name": "Python 3",
   "language": "python",
   "name": "python3"
  },
  "language_info": {
   "codemirror_mode": {
    "name": "ipython",
    "version": 3
   },
   "file_extension": ".py",
   "mimetype": "text/x-python",
   "name": "python",
   "nbconvert_exporter": "python",
   "pygments_lexer": "ipython3",
   "version": "3.6.6"
  }
 },
 "nbformat": 4,
 "nbformat_minor": 2
}
