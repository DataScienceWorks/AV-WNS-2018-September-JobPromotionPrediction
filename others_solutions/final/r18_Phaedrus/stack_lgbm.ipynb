{
 "cells": [
  {
   "cell_type": "code",
   "execution_count": 68,
   "metadata": {},
   "outputs": [],
   "source": [
    "import pandas as pd\n",
    "import numpy as np\n",
    "from lightgbm import LGBMClassifier\n",
    "from sklearn.linear_model import LogisticRegression\n",
    "from sklearn.metrics import confusion_matrix, roc_auc_score ,roc_curve,auc, f1_score\n",
    "from sklearn.model_selection import GridSearchCV,StratifiedKFold,KFold\n",
    "from datetime import datetime\n",
    "from sklearn.preprocessing import LabelEncoder\n",
    "seed = 45\n",
    "#seed =145\n",
    "% matplotlib inline"
   ]
  },
  {
   "cell_type": "code",
   "execution_count": 7,
   "metadata": {},
   "outputs": [],
   "source": [
    "PATH='F:/AV/WNS'\n",
    "OOF_PATH = 'F:/AV/WNS/oof'\n",
    "submission_path = 'F:/AV/WNS/submission'\n",
    "train_csv = 'train_catboost.csv'\n",
    "submit_csv = 'sample_submission_M0L0uXE.csv'\n",
    "\n",
    "oof_files = ['catboost_10fld_bagtemp_20180916173347.csv','catboost_10fld_20180916082333.csv',\n",
    "             'catboost_5fld_baggingtemp0.85_20180916070735.csv',\n",
    "            'xgb_10fld_20180915194445.csv','xgb_10fld_20180915183532.csv',\n",
    "             'lightgbm_10fld_20180915124747.csv',\n",
    "             'logreg_20180915130548.csv'\n",
    "            ]\n",
    "\n",
    "test_files = oof_files\n",
    "Y_true = pd.read_csv(f'{PATH}/{train_csv}')['is_promoted']\n",
    "submission = pd.read_csv(f'{PATH}/{submit_csv}')"
   ]
  },
  {
   "cell_type": "code",
   "execution_count": 24,
   "metadata": {},
   "outputs": [],
   "source": [
    "oof_df = pd.concat([pd.read_csv(f'{OOF_PATH}/{i}') for i in oof_files],axis=1)\n",
    "test_df = pd.concat([pd.read_csv(f'{submission_path}/{i}').iloc[:,1:] for i in oof_files],axis=1)"
   ]
  },
  {
   "cell_type": "code",
   "execution_count": 28,
   "metadata": {},
   "outputs": [
    {
     "data": {
      "text/plain": [
       "True"
      ]
     },
     "execution_count": 28,
     "metadata": {},
     "output_type": "execute_result"
    }
   ],
   "source": [
    "Y_true.shape[0] == oof_df.shape[0]"
   ]
  },
  {
   "cell_type": "code",
   "execution_count": 31,
   "metadata": {},
   "outputs": [
    {
     "data": {
      "text/plain": [
       "(54808,)"
      ]
     },
     "execution_count": 31,
     "metadata": {},
     "output_type": "execute_result"
    }
   ],
   "source": [
    "Y_true.shape"
   ]
  },
  {
   "cell_type": "code",
   "execution_count": 30,
   "metadata": {},
   "outputs": [
    {
     "data": {
      "text/plain": [
       "(23490, 7)"
      ]
     },
     "execution_count": 30,
     "metadata": {},
     "output_type": "execute_result"
    }
   ],
   "source": [
    "test_df.shape"
   ]
  },
  {
   "cell_type": "code",
   "execution_count": 29,
   "metadata": {},
   "outputs": [
    {
     "data": {
      "text/plain": [
       "(54808, 7)"
      ]
     },
     "execution_count": 29,
     "metadata": {},
     "output_type": "execute_result"
    }
   ],
   "source": [
    "oof_df.shape"
   ]
  },
  {
   "cell_type": "code",
   "execution_count": 51,
   "metadata": {},
   "outputs": [
    {
     "data": {
      "text/html": [
       "<div>\n",
       "<style scoped>\n",
       "    .dataframe tbody tr th:only-of-type {\n",
       "        vertical-align: middle;\n",
       "    }\n",
       "\n",
       "    .dataframe tbody tr th {\n",
       "        vertical-align: top;\n",
       "    }\n",
       "\n",
       "    .dataframe thead th {\n",
       "        text-align: right;\n",
       "    }\n",
       "</style>\n",
       "<table border=\"1\" class=\"dataframe\">\n",
       "  <thead>\n",
       "    <tr style=\"text-align: right;\">\n",
       "      <th></th>\n",
       "      <th>catboost_10fld_bagtemp_0.5282</th>\n",
       "      <th>catboost_10fld_0.531</th>\n",
       "      <th>catboost_5fld_baggingtemp0.85_0.5275</th>\n",
       "      <th>xgb_10fld_0.5215</th>\n",
       "      <th>xgb_10fld_0.5211</th>\n",
       "      <th>lightgbm_10fld_0.5254</th>\n",
       "      <th>logreg_0.3322</th>\n",
       "    </tr>\n",
       "  </thead>\n",
       "  <tbody>\n",
       "    <tr>\n",
       "      <th>0</th>\n",
       "      <td>0.229450</td>\n",
       "      <td>0.233136</td>\n",
       "      <td>0.197621</td>\n",
       "      <td>0.240680</td>\n",
       "      <td>0.276706</td>\n",
       "      <td>0.251634</td>\n",
       "      <td>0.678898</td>\n",
       "    </tr>\n",
       "    <tr>\n",
       "      <th>1</th>\n",
       "      <td>0.015912</td>\n",
       "      <td>0.020193</td>\n",
       "      <td>0.019009</td>\n",
       "      <td>0.001845</td>\n",
       "      <td>0.001657</td>\n",
       "      <td>0.004689</td>\n",
       "      <td>0.143959</td>\n",
       "    </tr>\n",
       "    <tr>\n",
       "      <th>2</th>\n",
       "      <td>0.000013</td>\n",
       "      <td>0.000096</td>\n",
       "      <td>0.000200</td>\n",
       "      <td>0.000501</td>\n",
       "      <td>0.007921</td>\n",
       "      <td>0.001129</td>\n",
       "      <td>0.074057</td>\n",
       "    </tr>\n",
       "    <tr>\n",
       "      <th>3</th>\n",
       "      <td>0.000012</td>\n",
       "      <td>0.000031</td>\n",
       "      <td>0.000035</td>\n",
       "      <td>0.000347</td>\n",
       "      <td>0.000353</td>\n",
       "      <td>0.000200</td>\n",
       "      <td>0.102983</td>\n",
       "    </tr>\n",
       "    <tr>\n",
       "      <th>4</th>\n",
       "      <td>0.005401</td>\n",
       "      <td>0.002351</td>\n",
       "      <td>0.001812</td>\n",
       "      <td>0.005591</td>\n",
       "      <td>0.002578</td>\n",
       "      <td>0.002808</td>\n",
       "      <td>0.013852</td>\n",
       "    </tr>\n",
       "  </tbody>\n",
       "</table>\n",
       "</div>"
      ],
      "text/plain": [
       "   catboost_10fld_bagtemp_0.5282  catboost_10fld_0.531  \\\n",
       "0                       0.229450              0.233136   \n",
       "1                       0.015912              0.020193   \n",
       "2                       0.000013              0.000096   \n",
       "3                       0.000012              0.000031   \n",
       "4                       0.005401              0.002351   \n",
       "\n",
       "   catboost_5fld_baggingtemp0.85_0.5275  xgb_10fld_0.5215  xgb_10fld_0.5211  \\\n",
       "0                              0.197621          0.240680          0.276706   \n",
       "1                              0.019009          0.001845          0.001657   \n",
       "2                              0.000200          0.000501          0.007921   \n",
       "3                              0.000035          0.000347          0.000353   \n",
       "4                              0.001812          0.005591          0.002578   \n",
       "\n",
       "   lightgbm_10fld_0.5254  logreg_0.3322  \n",
       "0               0.251634       0.678898  \n",
       "1               0.004689       0.143959  \n",
       "2               0.001129       0.074057  \n",
       "3               0.000200       0.102983  \n",
       "4               0.002808       0.013852  "
      ]
     },
     "execution_count": 51,
     "metadata": {},
     "output_type": "execute_result"
    }
   ],
   "source": [
    "oof_df.head()"
   ]
  },
  {
   "cell_type": "code",
   "execution_count": 38,
   "metadata": {},
   "outputs": [
    {
     "data": {
      "text/html": [
       "<div>\n",
       "<style scoped>\n",
       "    .dataframe tbody tr th:only-of-type {\n",
       "        vertical-align: middle;\n",
       "    }\n",
       "\n",
       "    .dataframe tbody tr th {\n",
       "        vertical-align: top;\n",
       "    }\n",
       "\n",
       "    .dataframe thead th {\n",
       "        text-align: right;\n",
       "    }\n",
       "</style>\n",
       "<table border=\"1\" class=\"dataframe\">\n",
       "  <thead>\n",
       "    <tr style=\"text-align: right;\">\n",
       "      <th></th>\n",
       "      <th>catboost_10fld_bagtemp_0.5282</th>\n",
       "      <th>catboost_10fld_0.531</th>\n",
       "      <th>catboost_5fld_baggingtemp0.85_0.5275</th>\n",
       "      <th>xgb_10fld_0.5215</th>\n",
       "      <th>xgb_10fld_0.5211</th>\n",
       "      <th>lightgbm_10fld_0.5254</th>\n",
       "      <th>logreg_0.3322</th>\n",
       "    </tr>\n",
       "  </thead>\n",
       "  <tbody>\n",
       "    <tr>\n",
       "      <th>0</th>\n",
       "      <td>0.126459</td>\n",
       "      <td>0.137725</td>\n",
       "      <td>0.139478</td>\n",
       "      <td>0.192050</td>\n",
       "      <td>0.194406</td>\n",
       "      <td>0.190533</td>\n",
       "      <td>0.580263</td>\n",
       "    </tr>\n",
       "    <tr>\n",
       "      <th>1</th>\n",
       "      <td>0.000322</td>\n",
       "      <td>0.000372</td>\n",
       "      <td>0.000424</td>\n",
       "      <td>0.000745</td>\n",
       "      <td>0.001497</td>\n",
       "      <td>0.001850</td>\n",
       "      <td>0.156239</td>\n",
       "    </tr>\n",
       "    <tr>\n",
       "      <th>2</th>\n",
       "      <td>0.000022</td>\n",
       "      <td>0.000029</td>\n",
       "      <td>0.000056</td>\n",
       "      <td>0.000366</td>\n",
       "      <td>0.001258</td>\n",
       "      <td>0.000880</td>\n",
       "      <td>0.044435</td>\n",
       "    </tr>\n",
       "    <tr>\n",
       "      <th>3</th>\n",
       "      <td>0.000764</td>\n",
       "      <td>0.000878</td>\n",
       "      <td>0.001002</td>\n",
       "      <td>0.001621</td>\n",
       "      <td>0.002160</td>\n",
       "      <td>0.002967</td>\n",
       "      <td>0.027826</td>\n",
       "    </tr>\n",
       "    <tr>\n",
       "      <th>4</th>\n",
       "      <td>0.000743</td>\n",
       "      <td>0.000848</td>\n",
       "      <td>0.000984</td>\n",
       "      <td>0.001443</td>\n",
       "      <td>0.001753</td>\n",
       "      <td>0.002334</td>\n",
       "      <td>0.069927</td>\n",
       "    </tr>\n",
       "  </tbody>\n",
       "</table>\n",
       "</div>"
      ],
      "text/plain": [
       "   catboost_10fld_bagtemp_0.5282  catboost_10fld_0.531  \\\n",
       "0                       0.126459              0.137725   \n",
       "1                       0.000322              0.000372   \n",
       "2                       0.000022              0.000029   \n",
       "3                       0.000764              0.000878   \n",
       "4                       0.000743              0.000848   \n",
       "\n",
       "   catboost_5fld_baggingtemp0.85_0.5275  xgb_10fld_0.5215  xgb_10fld_0.5211  \\\n",
       "0                              0.139478          0.192050          0.194406   \n",
       "1                              0.000424          0.000745          0.001497   \n",
       "2                              0.000056          0.000366          0.001258   \n",
       "3                              0.001002          0.001621          0.002160   \n",
       "4                              0.000984          0.001443          0.001753   \n",
       "\n",
       "   lightgbm_10fld_0.5254  logreg_0.3322  \n",
       "0               0.190533       0.580263  \n",
       "1               0.001850       0.156239  \n",
       "2               0.000880       0.044435  \n",
       "3               0.002967       0.027826  \n",
       "4               0.002334       0.069927  "
      ]
     },
     "execution_count": 38,
     "metadata": {},
     "output_type": "execute_result"
    }
   ],
   "source": [
    "test_df.columns = oof_df.columns\n",
    "test_df.head()"
   ]
  },
  {
   "cell_type": "code",
   "execution_count": 66,
   "metadata": {},
   "outputs": [],
   "source": [
    "def kfold_lightgbm(train_df,test_df, target,num_folds, stratified = False, debug= False,modelname=\"lightgbm_0\"):\n",
    "    # Divide in training/validation and test data\n",
    "    train_df = train_df\n",
    "    test_df = test_df\n",
    "    print(\"Starting LightGBM. Train shape: {}, test shape: {}\".format(train_df.shape, test_df.shape))\n",
    "    gc.collect()\n",
    "\n",
    "    # Cross validation model\n",
    "    if stratified:\n",
    "        folds = StratifiedKFold(n_splits= num_folds, shuffle=True, random_state=seed)\n",
    "    else:\n",
    "        folds = KFold(n_splits= num_folds, shuffle=True, random_state=seed)\n",
    "    # Create arrays and dataframes to store results\n",
    "    oof_preds = np.zeros(train_df.shape[0])\n",
    "    sub_preds = np.zeros(test_df.shape[0])\n",
    "    feature_importance_df = pd.DataFrame()\n",
    "    feats = [f for f in train_df.columns if f not in ['employee_id','index','logreg_0.3322']]\n",
    "    print(feats)   \n",
    "    \n",
    "    for n_fold, (train_idx, valid_idx) in enumerate(folds.split(train_df[feats], target)):\n",
    "        train_x, train_y = train_df[feats].iloc[train_idx], target[train_idx]\n",
    "        valid_x, valid_y = train_df[feats].iloc[valid_idx], target[valid_idx]\n",
    "\n",
    "        clf = LGBMClassifier(\n",
    "            nthread=4,\n",
    "            n_estimators=5000,\n",
    "            learning_rate=0.05,\n",
    "            max_depth=3,\n",
    "#            reg_lambda=1,\n",
    "            silent=-1,\n",
    "            verbose=-1, )\n",
    "\n",
    "        clf.fit(train_x, train_y, eval_set=[(train_x, train_y), (valid_x, valid_y)], \n",
    "            eval_metric= 'auc', verbose= 100, early_stopping_rounds= 200)\n",
    "\n",
    "        oof_preds[valid_idx] = clf.predict_proba(valid_x, num_iteration=clf.best_iteration_)[:, 1]\n",
    "        sub_preds += clf.predict_proba(test_df[feats], num_iteration=clf.best_iteration_)[:, 1] / folds.n_splits\n",
    "\n",
    "        print('Fold %2d F-score : %.6f' % (n_fold + 1, f1_score(valid_y, (oof_preds[valid_idx]>0.3).astype(int))))\n",
    "        print('Fold %2d > 0.2 F-score : %.6f' % (n_fold + 1, f1_score(valid_y, (oof_preds[valid_idx]>0.2).astype(int))))\n",
    "        print('Fold %2d > 0.1 F-score : %.6f' % (n_fold + 1, f1_score(valid_y, (oof_preds[valid_idx]>0.1).astype(int))))\n",
    "        del clf, train_x, train_y, valid_x, valid_y\n",
    "        gc.collect()\n",
    "        \n",
    "    print('Full > 0.4 f1 score %.6f' % f1_score(target, (oof_preds>0.4).astype(int)))\n",
    "    print('Full > 0.3 f1 score %.6f' % f1_score(target, (oof_preds>0.3).astype(int)))\n",
    "    print('Full > 0.2 f1 score %.6f' % f1_score(target, (oof_preds>0.2).astype(int)))\n",
    "    print('Full > 0.1 f1 score %.6f' % f1_score(target, (oof_preds>0.1).astype(int)))\n",
    "\n",
    "    # Write submission file and plot feature importance\n",
    "    if not debug:\n",
    "        _ = datetime.now().strftime('%Y%m%d%H%M%S')\n",
    "        Fname = 'F:/AV/WNS/submission/'+str(modelname)+'_'+str(_)+'.csv'\n",
    "        submission['is_promoted'] = sub_preds\n",
    "        submission[['employee_id', 'is_promoted']].to_csv(Fname, index= False)\n",
    "        oof = pd.DataFrame(oof_preds)\n",
    "        score = f1_score(target, (oof_preds>0.3).astype(int))\n",
    "        oof.columns = [modelname+'_'+str(round(score,4))]\n",
    "        OOF_Fname = 'F:/AV/WNS/oof/'+str(modelname)+'_'+str(_)+'.csv'\n",
    "        oof.to_csv(OOF_Fname,index=False)\n",
    "    #display_importances(feature_importance_df)\n",
    "    return "
   ]
  },
  {
   "cell_type": "code",
   "execution_count": 67,
   "metadata": {},
   "outputs": [
    {
     "name": "stdout",
     "output_type": "stream",
     "text": [
      "Starting LightGBM. Train shape: (54808, 7), test shape: (23490, 7)\n",
      "['catboost_10fld_bagtemp_0.5282', 'catboost_10fld_0.531', 'catboost_5fld_baggingtemp0.85_0.5275', 'xgb_10fld_0.5215', 'xgb_10fld_0.5211', 'lightgbm_10fld_0.5254']\n",
      "Training until validation scores don't improve for 200 rounds.\n",
      "[100]\ttraining's auc: 0.916438\tvalid_1's auc: 0.91305\n",
      "[200]\ttraining's auc: 0.91784\tvalid_1's auc: 0.913143\n",
      "Early stopping, best iteration is:\n",
      "[35]\ttraining's auc: 0.916137\tvalid_1's auc: 0.913204\n",
      "Fold  1 F-score : 0.540785\n",
      "Fold  1 > 0.2 F-score : 0.513545\n",
      "Fold  1 > 0.1 F-score : 0.399801\n",
      "Training until validation scores don't improve for 200 rounds.\n",
      "[100]\ttraining's auc: 0.915866\tvalid_1's auc: 0.919161\n",
      "[200]\ttraining's auc: 0.917197\tvalid_1's auc: 0.919064\n",
      "Early stopping, best iteration is:\n",
      "[85]\ttraining's auc: 0.915826\tvalid_1's auc: 0.919225\n",
      "Fold  2 F-score : 0.544656\n",
      "Fold  2 > 0.2 F-score : 0.497542\n",
      "Fold  2 > 0.1 F-score : 0.399057\n",
      "Training until validation scores don't improve for 200 rounds.\n",
      "[100]\ttraining's auc: 0.916553\tvalid_1's auc: 0.911948\n",
      "[200]\ttraining's auc: 0.91803\tvalid_1's auc: 0.911846\n",
      "[300]\ttraining's auc: 0.921216\tvalid_1's auc: 0.910671\n",
      "Early stopping, best iteration is:\n",
      "[122]\ttraining's auc: 0.916678\tvalid_1's auc: 0.91217\n",
      "Fold  3 F-score : 0.513788\n",
      "Fold  3 > 0.2 F-score : 0.484904\n",
      "Fold  3 > 0.1 F-score : 0.404100\n",
      "Training until validation scores don't improve for 200 rounds.\n",
      "[100]\ttraining's auc: 0.916442\tvalid_1's auc: 0.91384\n",
      "[200]\ttraining's auc: 0.918104\tvalid_1's auc: 0.913584\n",
      "[300]\ttraining's auc: 0.920806\tvalid_1's auc: 0.912533\n",
      "Early stopping, best iteration is:\n",
      "[155]\ttraining's auc: 0.916968\tvalid_1's auc: 0.913886\n",
      "Fold  4 F-score : 0.500000\n",
      "Fold  4 > 0.2 F-score : 0.504451\n",
      "Fold  4 > 0.1 F-score : 0.397875\n",
      "Training until validation scores don't improve for 200 rounds.\n",
      "[100]\ttraining's auc: 0.916575\tvalid_1's auc: 0.913871\n",
      "[200]\ttraining's auc: 0.91851\tvalid_1's auc: 0.913527\n",
      "Early stopping, best iteration is:\n",
      "[44]\ttraining's auc: 0.916341\tvalid_1's auc: 0.914105\n",
      "Fold  5 F-score : 0.538346\n",
      "Fold  5 > 0.2 F-score : 0.519957\n",
      "Fold  5 > 0.1 F-score : 0.385981\n",
      "Training until validation scores don't improve for 200 rounds.\n",
      "[100]\ttraining's auc: 0.915378\tvalid_1's auc: 0.923946\n",
      "[200]\ttraining's auc: 0.916609\tvalid_1's auc: 0.923742\n",
      "[300]\ttraining's auc: 0.919513\tvalid_1's auc: 0.923517\n",
      "Early stopping, best iteration is:\n",
      "[170]\ttraining's auc: 0.915856\tvalid_1's auc: 0.923982\n",
      "Fold  6 F-score : 0.547584\n",
      "Fold  6 > 0.2 F-score : 0.534125\n",
      "Fold  6 > 0.1 F-score : 0.391941\n",
      "Training until validation scores don't improve for 200 rounds.\n",
      "[100]\ttraining's auc: 0.916644\tvalid_1's auc: 0.911813\n",
      "[200]\ttraining's auc: 0.918406\tvalid_1's auc: 0.911463\n",
      "[300]\ttraining's auc: 0.921151\tvalid_1's auc: 0.910855\n",
      "Early stopping, best iteration is:\n",
      "[129]\ttraining's auc: 0.916797\tvalid_1's auc: 0.911854\n",
      "Fold  7 F-score : 0.518182\n",
      "Fold  7 > 0.2 F-score : 0.506823\n",
      "Fold  7 > 0.1 F-score : 0.397136\n",
      "Training until validation scores don't improve for 200 rounds.\n",
      "[100]\ttraining's auc: 0.916653\tvalid_1's auc: 0.912365\n",
      "[200]\ttraining's auc: 0.917971\tvalid_1's auc: 0.912262\n",
      "Early stopping, best iteration is:\n",
      "[13]\ttraining's auc: 0.915874\tvalid_1's auc: 0.912535\n",
      "Fold  8 F-score : 0.472669\n",
      "Fold  8 > 0.2 F-score : 0.489922\n",
      "Fold  8 > 0.1 F-score : 0.436768\n",
      "Training until validation scores don't improve for 200 rounds.\n",
      "[100]\ttraining's auc: 0.917081\tvalid_1's auc: 0.909743\n",
      "[200]\ttraining's auc: 0.918213\tvalid_1's auc: 0.90932\n",
      "[300]\ttraining's auc: 0.921146\tvalid_1's auc: 0.909041\n",
      "Early stopping, best iteration is:\n",
      "[146]\ttraining's auc: 0.917388\tvalid_1's auc: 0.909779\n",
      "Fold  9 F-score : 0.504993\n",
      "Fold  9 > 0.2 F-score : 0.484134\n",
      "Fold  9 > 0.1 F-score : 0.404222\n",
      "Training until validation scores don't improve for 200 rounds.\n",
      "[100]\ttraining's auc: 0.916185\tvalid_1's auc: 0.915654\n",
      "[200]\ttraining's auc: 0.917701\tvalid_1's auc: 0.915717\n",
      "Early stopping, best iteration is:\n",
      "[9]\ttraining's auc: 0.915095\tvalid_1's auc: 0.916019\n",
      "Fold 10 F-score : 0.515823\n",
      "Fold 10 > 0.2 F-score : 0.541857\n",
      "Fold 10 > 0.1 F-score : 0.423120\n",
      "Full > 0.4 f1 score 0.510486\n",
      "Full > 0.3 f1 score 0.520018\n",
      "Full > 0.2 f1 score 0.506478\n",
      "Full > 0.1 f1 score 0.402944\n"
     ]
    }
   ],
   "source": [
    "import gc\n",
    "oof = kfold_lightgbm(oof_df,test_df, Y_true,num_folds=10, stratified = True, debug= True,modelname=\"LGBM_Stack_v1\")"
   ]
  },
  {
   "cell_type": "code",
   "execution_count": null,
   "metadata": {},
   "outputs": [],
   "source": []
  },
  {
   "cell_type": "code",
   "execution_count": null,
   "metadata": {},
   "outputs": [],
   "source": []
  },
  {
   "cell_type": "code",
   "execution_count": null,
   "metadata": {},
   "outputs": [],
   "source": []
  }
 ],
 "metadata": {
  "kernelspec": {
   "display_name": "Python 3",
   "language": "python",
   "name": "python3"
  },
  "language_info": {
   "codemirror_mode": {
    "name": "ipython",
    "version": 3
   },
   "file_extension": ".py",
   "mimetype": "text/x-python",
   "name": "python",
   "nbconvert_exporter": "python",
   "pygments_lexer": "ipython3",
   "version": "3.6.6"
  }
 },
 "nbformat": 4,
 "nbformat_minor": 2
}
