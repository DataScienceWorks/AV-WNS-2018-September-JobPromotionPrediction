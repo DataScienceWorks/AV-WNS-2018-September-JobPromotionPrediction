{
 "cells": [
  {
   "cell_type": "markdown",
   "metadata": {},
   "source": [
    "## Data Description\n",
    "\n",
    "|    Variable            \t|    Definition                         |     \n",
    "|---------------------------|---------------------------------------|\n",
    "|    employee_id         \t|    Unique ID for employee             |     \n",
    "|    department          \t|    Department of employee             |     \n",
    "|    region              \t|    Region of employment (unordered)   |     \n",
    "|    education           \t|    Education Level                    |     \n",
    "|    gender              \t|    Gender of Employee                 |     \n",
    "|    recruitment_channel \t|    Channel of recruitment for employee |    \n",
    "|    no_of_trainings     \t|    no of other trainings completed in previous year on soft skills, technical skills etc. |\n",
    "|    age                 \t|    Age of Employee                         |\n",
    "|    previous_year_rating\t|    Employee Rating for the previous year   |\n",
    "|    length_of_service   \t|    Length of service in years              \n",
    "|    KPIs_met >80%       \t|    if Percent of KPIs(Key performance Indicators) >80% then 1 else 0 |\n",
    "|    awards_won?         \t|    if awards won during previous year then 1 else 0 |\n",
    "|    avg_training_score  \t|    Average score in current training evaluations |\n",
    "|    is_promoted         \t|    (Target) Recommended for promotion      |\n",
    "\n",
    "\n",
    "## EVALUATION METRIC\n",
    "\n",
    "The evaluation metric for this competition is F1 Score.\n"
   ]
  },
  {
   "cell_type": "markdown",
   "metadata": {},
   "source": [
    "## Importing Python Modules"
   ]
  },
  {
   "cell_type": "code",
   "execution_count": 32,
   "metadata": {
    "ExecuteTime": {
     "end_time": "2018-09-14T11:39:56.406439Z",
     "start_time": "2018-09-14T11:39:56.396435Z"
    }
   },
   "outputs": [],
   "source": [
    "%matplotlib inline\n",
    "import matplotlib.pyplot as plt\n",
    "import pandas as pd\n",
    "import numpy as np\n",
    "import seaborn as sns\n",
    "\n",
    "import warnings\n",
    "warnings.filterwarnings('ignore')\n",
    "\n",
    "from sklearn.base import BaseEstimator, TransformerMixin\n",
    "from sklearn.preprocessing import LabelEncoder, OneHotEncoder, StandardScaler, MinMaxScaler, RobustScaler, FunctionTransformer\n",
    "from sklearn.pipeline import Pipeline, make_pipeline, FeatureUnion, make_union"
   ]
  },
  {
   "cell_type": "code",
   "execution_count": 2,
   "metadata": {
    "ExecuteTime": {
     "end_time": "2018-09-14T11:26:28.541111Z",
     "start_time": "2018-09-14T11:26:28.529097Z"
    }
   },
   "outputs": [],
   "source": [
    "sns.set_style('whitegrid')\n",
    "# sns.set(context=\"paper\", font=\"monospace\")"
   ]
  },
  {
   "cell_type": "markdown",
   "metadata": {},
   "source": [
    "## Data Loading "
   ]
  },
  {
   "cell_type": "code",
   "execution_count": 3,
   "metadata": {
    "ExecuteTime": {
     "end_time": "2018-09-14T11:26:28.853910Z",
     "start_time": "2018-09-14T11:26:28.544103Z"
    }
   },
   "outputs": [
    {
     "name": "stdout",
     "output_type": "stream",
     "text": [
      "Train Data Size : (54808, 13)\n"
     ]
    },
    {
     "data": {
      "text/html": [
       "<div>\n",
       "<style scoped>\n",
       "    .dataframe tbody tr th:only-of-type {\n",
       "        vertical-align: middle;\n",
       "    }\n",
       "\n",
       "    .dataframe tbody tr th {\n",
       "        vertical-align: top;\n",
       "    }\n",
       "\n",
       "    .dataframe thead th {\n",
       "        text-align: right;\n",
       "    }\n",
       "</style>\n",
       "<table border=\"1\" class=\"dataframe\">\n",
       "  <thead>\n",
       "    <tr style=\"text-align: right;\">\n",
       "      <th></th>\n",
       "      <th>department</th>\n",
       "      <th>region</th>\n",
       "      <th>education</th>\n",
       "      <th>gender</th>\n",
       "      <th>recruitment_channel</th>\n",
       "      <th>no_of_trainings</th>\n",
       "      <th>age</th>\n",
       "      <th>previous_year_rating</th>\n",
       "      <th>length_of_service</th>\n",
       "      <th>is_kpi_met</th>\n",
       "      <th>has_won_awards</th>\n",
       "      <th>avg_training_score</th>\n",
       "      <th>is_promoted</th>\n",
       "    </tr>\n",
       "    <tr>\n",
       "      <th>employee_id</th>\n",
       "      <th></th>\n",
       "      <th></th>\n",
       "      <th></th>\n",
       "      <th></th>\n",
       "      <th></th>\n",
       "      <th></th>\n",
       "      <th></th>\n",
       "      <th></th>\n",
       "      <th></th>\n",
       "      <th></th>\n",
       "      <th></th>\n",
       "      <th></th>\n",
       "      <th></th>\n",
       "    </tr>\n",
       "  </thead>\n",
       "  <tbody>\n",
       "    <tr>\n",
       "      <th>65438</th>\n",
       "      <td>Sales &amp; Marketing</td>\n",
       "      <td>region_7</td>\n",
       "      <td>Master's &amp; above</td>\n",
       "      <td>f</td>\n",
       "      <td>sourcing</td>\n",
       "      <td>1</td>\n",
       "      <td>35</td>\n",
       "      <td>5.0</td>\n",
       "      <td>8</td>\n",
       "      <td>1</td>\n",
       "      <td>0</td>\n",
       "      <td>49</td>\n",
       "      <td>0</td>\n",
       "    </tr>\n",
       "    <tr>\n",
       "      <th>65141</th>\n",
       "      <td>Operations</td>\n",
       "      <td>region_22</td>\n",
       "      <td>Bachelor's</td>\n",
       "      <td>m</td>\n",
       "      <td>other</td>\n",
       "      <td>1</td>\n",
       "      <td>30</td>\n",
       "      <td>5.0</td>\n",
       "      <td>4</td>\n",
       "      <td>0</td>\n",
       "      <td>0</td>\n",
       "      <td>60</td>\n",
       "      <td>0</td>\n",
       "    </tr>\n",
       "    <tr>\n",
       "      <th>7513</th>\n",
       "      <td>Sales &amp; Marketing</td>\n",
       "      <td>region_19</td>\n",
       "      <td>Bachelor's</td>\n",
       "      <td>m</td>\n",
       "      <td>sourcing</td>\n",
       "      <td>1</td>\n",
       "      <td>34</td>\n",
       "      <td>3.0</td>\n",
       "      <td>7</td>\n",
       "      <td>0</td>\n",
       "      <td>0</td>\n",
       "      <td>50</td>\n",
       "      <td>0</td>\n",
       "    </tr>\n",
       "    <tr>\n",
       "      <th>2542</th>\n",
       "      <td>Sales &amp; Marketing</td>\n",
       "      <td>region_23</td>\n",
       "      <td>Bachelor's</td>\n",
       "      <td>m</td>\n",
       "      <td>other</td>\n",
       "      <td>2</td>\n",
       "      <td>39</td>\n",
       "      <td>1.0</td>\n",
       "      <td>10</td>\n",
       "      <td>0</td>\n",
       "      <td>0</td>\n",
       "      <td>50</td>\n",
       "      <td>0</td>\n",
       "    </tr>\n",
       "    <tr>\n",
       "      <th>48945</th>\n",
       "      <td>Technology</td>\n",
       "      <td>region_26</td>\n",
       "      <td>Bachelor's</td>\n",
       "      <td>m</td>\n",
       "      <td>other</td>\n",
       "      <td>1</td>\n",
       "      <td>45</td>\n",
       "      <td>3.0</td>\n",
       "      <td>2</td>\n",
       "      <td>0</td>\n",
       "      <td>0</td>\n",
       "      <td>73</td>\n",
       "      <td>0</td>\n",
       "    </tr>\n",
       "  </tbody>\n",
       "</table>\n",
       "</div>"
      ],
      "text/plain": [
       "                    department     region         education gender  \\\n",
       "employee_id                                                          \n",
       "65438        Sales & Marketing   region_7  Master's & above      f   \n",
       "65141               Operations  region_22        Bachelor's      m   \n",
       "7513         Sales & Marketing  region_19        Bachelor's      m   \n",
       "2542         Sales & Marketing  region_23        Bachelor's      m   \n",
       "48945               Technology  region_26        Bachelor's      m   \n",
       "\n",
       "            recruitment_channel  no_of_trainings  age  previous_year_rating  \\\n",
       "employee_id                                                                   \n",
       "65438                  sourcing                1   35                   5.0   \n",
       "65141                     other                1   30                   5.0   \n",
       "7513                   sourcing                1   34                   3.0   \n",
       "2542                      other                2   39                   1.0   \n",
       "48945                     other                1   45                   3.0   \n",
       "\n",
       "             length_of_service  is_kpi_met  has_won_awards  \\\n",
       "employee_id                                                  \n",
       "65438                        8           1               0   \n",
       "65141                        4           0               0   \n",
       "7513                         7           0               0   \n",
       "2542                        10           0               0   \n",
       "48945                        2           0               0   \n",
       "\n",
       "             avg_training_score  is_promoted  \n",
       "employee_id                                   \n",
       "65438                        49            0  \n",
       "65141                        60            0  \n",
       "7513                         50            0  \n",
       "2542                         50            0  \n",
       "48945                        73            0  "
      ]
     },
     "execution_count": 3,
     "metadata": {},
     "output_type": "execute_result"
    }
   ],
   "source": [
    "def load_training_dataset():\n",
    "    return pd.read_csv('data/train_LZdllcl.csv', index_col='employee_id')\n",
    "df = load_training_dataset()\n",
    "df = df.rename(columns={'KPIs_met >80%':'is_kpi_met', 'awards_won?':'has_won_awards'})\n",
    "print('Train Data Size :', df.shape)\n",
    "df.head()"
   ]
  },
  {
   "cell_type": "code",
   "execution_count": 4,
   "metadata": {
    "ExecuteTime": {
     "end_time": "2018-09-14T11:26:28.963295Z",
     "start_time": "2018-09-14T11:26:28.853910Z"
    }
   },
   "outputs": [
    {
     "name": "stdout",
     "output_type": "stream",
     "text": [
      "Test Data Size : (23490, 12)\n"
     ]
    },
    {
     "data": {
      "text/html": [
       "<div>\n",
       "<style scoped>\n",
       "    .dataframe tbody tr th:only-of-type {\n",
       "        vertical-align: middle;\n",
       "    }\n",
       "\n",
       "    .dataframe tbody tr th {\n",
       "        vertical-align: top;\n",
       "    }\n",
       "\n",
       "    .dataframe thead th {\n",
       "        text-align: right;\n",
       "    }\n",
       "</style>\n",
       "<table border=\"1\" class=\"dataframe\">\n",
       "  <thead>\n",
       "    <tr style=\"text-align: right;\">\n",
       "      <th></th>\n",
       "      <th>department</th>\n",
       "      <th>region</th>\n",
       "      <th>education</th>\n",
       "      <th>gender</th>\n",
       "      <th>recruitment_channel</th>\n",
       "      <th>no_of_trainings</th>\n",
       "      <th>age</th>\n",
       "      <th>previous_year_rating</th>\n",
       "      <th>length_of_service</th>\n",
       "      <th>is_kpi_met</th>\n",
       "      <th>has_won_awards</th>\n",
       "      <th>avg_training_score</th>\n",
       "    </tr>\n",
       "    <tr>\n",
       "      <th>employee_id</th>\n",
       "      <th></th>\n",
       "      <th></th>\n",
       "      <th></th>\n",
       "      <th></th>\n",
       "      <th></th>\n",
       "      <th></th>\n",
       "      <th></th>\n",
       "      <th></th>\n",
       "      <th></th>\n",
       "      <th></th>\n",
       "      <th></th>\n",
       "      <th></th>\n",
       "    </tr>\n",
       "  </thead>\n",
       "  <tbody>\n",
       "    <tr>\n",
       "      <th>8724</th>\n",
       "      <td>Technology</td>\n",
       "      <td>region_26</td>\n",
       "      <td>Bachelor's</td>\n",
       "      <td>m</td>\n",
       "      <td>sourcing</td>\n",
       "      <td>1</td>\n",
       "      <td>24</td>\n",
       "      <td>NaN</td>\n",
       "      <td>1</td>\n",
       "      <td>1</td>\n",
       "      <td>0</td>\n",
       "      <td>77</td>\n",
       "    </tr>\n",
       "    <tr>\n",
       "      <th>74430</th>\n",
       "      <td>HR</td>\n",
       "      <td>region_4</td>\n",
       "      <td>Bachelor's</td>\n",
       "      <td>f</td>\n",
       "      <td>other</td>\n",
       "      <td>1</td>\n",
       "      <td>31</td>\n",
       "      <td>3.0</td>\n",
       "      <td>5</td>\n",
       "      <td>0</td>\n",
       "      <td>0</td>\n",
       "      <td>51</td>\n",
       "    </tr>\n",
       "    <tr>\n",
       "      <th>72255</th>\n",
       "      <td>Sales &amp; Marketing</td>\n",
       "      <td>region_13</td>\n",
       "      <td>Bachelor's</td>\n",
       "      <td>m</td>\n",
       "      <td>other</td>\n",
       "      <td>1</td>\n",
       "      <td>31</td>\n",
       "      <td>1.0</td>\n",
       "      <td>4</td>\n",
       "      <td>0</td>\n",
       "      <td>0</td>\n",
       "      <td>47</td>\n",
       "    </tr>\n",
       "    <tr>\n",
       "      <th>38562</th>\n",
       "      <td>Procurement</td>\n",
       "      <td>region_2</td>\n",
       "      <td>Bachelor's</td>\n",
       "      <td>f</td>\n",
       "      <td>other</td>\n",
       "      <td>3</td>\n",
       "      <td>31</td>\n",
       "      <td>2.0</td>\n",
       "      <td>9</td>\n",
       "      <td>0</td>\n",
       "      <td>0</td>\n",
       "      <td>65</td>\n",
       "    </tr>\n",
       "    <tr>\n",
       "      <th>64486</th>\n",
       "      <td>Finance</td>\n",
       "      <td>region_29</td>\n",
       "      <td>Bachelor's</td>\n",
       "      <td>m</td>\n",
       "      <td>sourcing</td>\n",
       "      <td>1</td>\n",
       "      <td>30</td>\n",
       "      <td>4.0</td>\n",
       "      <td>7</td>\n",
       "      <td>0</td>\n",
       "      <td>0</td>\n",
       "      <td>61</td>\n",
       "    </tr>\n",
       "  </tbody>\n",
       "</table>\n",
       "</div>"
      ],
      "text/plain": [
       "                    department     region   education gender  \\\n",
       "employee_id                                                    \n",
       "8724                Technology  region_26  Bachelor's      m   \n",
       "74430                       HR   region_4  Bachelor's      f   \n",
       "72255        Sales & Marketing  region_13  Bachelor's      m   \n",
       "38562              Procurement   region_2  Bachelor's      f   \n",
       "64486                  Finance  region_29  Bachelor's      m   \n",
       "\n",
       "            recruitment_channel  no_of_trainings  age  previous_year_rating  \\\n",
       "employee_id                                                                   \n",
       "8724                   sourcing                1   24                   NaN   \n",
       "74430                     other                1   31                   3.0   \n",
       "72255                     other                1   31                   1.0   \n",
       "38562                     other                3   31                   2.0   \n",
       "64486                  sourcing                1   30                   4.0   \n",
       "\n",
       "             length_of_service  is_kpi_met  has_won_awards  avg_training_score  \n",
       "employee_id                                                                     \n",
       "8724                         1           1               0                  77  \n",
       "74430                        5           0               0                  51  \n",
       "72255                        4           0               0                  47  \n",
       "38562                        9           0               0                  65  \n",
       "64486                        7           0               0                  61  "
      ]
     },
     "execution_count": 4,
     "metadata": {},
     "output_type": "execute_result"
    }
   ],
   "source": [
    "test = pd.read_csv('data/test_2umaH9m.csv', index_col='employee_id')\n",
    "test = test.rename(columns={'KPIs_met >80%':'is_kpi_met', 'awards_won?':'has_won_awards'})\n",
    "print('Test Data Size :', test.shape)\n",
    "test.head()"
   ]
  },
  {
   "cell_type": "code",
   "execution_count": 5,
   "metadata": {
    "ExecuteTime": {
     "end_time": "2018-09-14T11:26:29.057019Z",
     "start_time": "2018-09-14T11:26:28.963295Z"
    }
   },
   "outputs": [
    {
     "data": {
      "text/plain": [
       "department                 0\n",
       "region                     0\n",
       "education               1034\n",
       "gender                     0\n",
       "recruitment_channel        0\n",
       "no_of_trainings            0\n",
       "age                        0\n",
       "previous_year_rating    1812\n",
       "length_of_service          0\n",
       "is_kpi_met                 0\n",
       "has_won_awards             0\n",
       "avg_training_score         0\n",
       "dtype: int64"
      ]
     },
     "execution_count": 5,
     "metadata": {},
     "output_type": "execute_result"
    }
   ],
   "source": [
    "test.isnull().sum()"
   ]
  },
  {
   "cell_type": "markdown",
   "metadata": {
    "ExecuteTime": {
     "end_time": "2018-09-13T19:05:55.603686Z",
     "start_time": "2018-09-13T19:05:55.596707Z"
    }
   },
   "source": [
    "## Data Pre-processing "
   ]
  },
  {
   "cell_type": "code",
   "execution_count": 6,
   "metadata": {
    "ExecuteTime": {
     "end_time": "2018-09-14T11:26:29.382686Z",
     "start_time": "2018-09-14T11:26:29.057019Z"
    }
   },
   "outputs": [
    {
     "name": "stdout",
     "output_type": "stream",
     "text": [
      "<class 'pandas.core.frame.DataFrame'>\n",
      "Int64Index: 54808 entries, 65438 to 51526\n",
      "Data columns (total 13 columns):\n",
      "department              54808 non-null object\n",
      "region                  54808 non-null object\n",
      "education               52399 non-null object\n",
      "gender                  54808 non-null object\n",
      "recruitment_channel     54808 non-null object\n",
      "no_of_trainings         54808 non-null int64\n",
      "age                     54808 non-null int64\n",
      "previous_year_rating    50684 non-null float64\n",
      "length_of_service       54808 non-null int64\n",
      "is_kpi_met              54808 non-null int64\n",
      "has_won_awards          54808 non-null int64\n",
      "avg_training_score      54808 non-null int64\n",
      "is_promoted             54808 non-null int64\n",
      "dtypes: float64(1), int64(7), object(5)\n",
      "memory usage: 5.9+ MB\n"
     ]
    }
   ],
   "source": [
    "df.info()"
   ]
  },
  {
   "cell_type": "code",
   "execution_count": 7,
   "metadata": {
    "ExecuteTime": {
     "end_time": "2018-09-14T11:26:29.624995Z",
     "start_time": "2018-09-14T11:26:29.382686Z"
    }
   },
   "outputs": [
    {
     "data": {
      "text/html": [
       "<div>\n",
       "<style scoped>\n",
       "    .dataframe tbody tr th:only-of-type {\n",
       "        vertical-align: middle;\n",
       "    }\n",
       "\n",
       "    .dataframe tbody tr th {\n",
       "        vertical-align: top;\n",
       "    }\n",
       "\n",
       "    .dataframe thead th {\n",
       "        text-align: right;\n",
       "    }\n",
       "</style>\n",
       "<table border=\"1\" class=\"dataframe\">\n",
       "  <thead>\n",
       "    <tr style=\"text-align: right;\">\n",
       "      <th></th>\n",
       "      <th>count</th>\n",
       "      <th>mean</th>\n",
       "      <th>std</th>\n",
       "      <th>min</th>\n",
       "      <th>25%</th>\n",
       "      <th>50%</th>\n",
       "      <th>75%</th>\n",
       "      <th>max</th>\n",
       "    </tr>\n",
       "  </thead>\n",
       "  <tbody>\n",
       "    <tr>\n",
       "      <th>no_of_trainings</th>\n",
       "      <td>54808.0</td>\n",
       "      <td>1.253011</td>\n",
       "      <td>0.609264</td>\n",
       "      <td>1.0</td>\n",
       "      <td>1.0</td>\n",
       "      <td>1.0</td>\n",
       "      <td>1.0</td>\n",
       "      <td>10.0</td>\n",
       "    </tr>\n",
       "    <tr>\n",
       "      <th>age</th>\n",
       "      <td>54808.0</td>\n",
       "      <td>34.803915</td>\n",
       "      <td>7.660169</td>\n",
       "      <td>20.0</td>\n",
       "      <td>29.0</td>\n",
       "      <td>33.0</td>\n",
       "      <td>39.0</td>\n",
       "      <td>60.0</td>\n",
       "    </tr>\n",
       "    <tr>\n",
       "      <th>previous_year_rating</th>\n",
       "      <td>50684.0</td>\n",
       "      <td>3.329256</td>\n",
       "      <td>1.259993</td>\n",
       "      <td>1.0</td>\n",
       "      <td>3.0</td>\n",
       "      <td>3.0</td>\n",
       "      <td>4.0</td>\n",
       "      <td>5.0</td>\n",
       "    </tr>\n",
       "    <tr>\n",
       "      <th>length_of_service</th>\n",
       "      <td>54808.0</td>\n",
       "      <td>5.865512</td>\n",
       "      <td>4.265094</td>\n",
       "      <td>1.0</td>\n",
       "      <td>3.0</td>\n",
       "      <td>5.0</td>\n",
       "      <td>7.0</td>\n",
       "      <td>37.0</td>\n",
       "    </tr>\n",
       "    <tr>\n",
       "      <th>is_kpi_met</th>\n",
       "      <td>54808.0</td>\n",
       "      <td>0.351974</td>\n",
       "      <td>0.477590</td>\n",
       "      <td>0.0</td>\n",
       "      <td>0.0</td>\n",
       "      <td>0.0</td>\n",
       "      <td>1.0</td>\n",
       "      <td>1.0</td>\n",
       "    </tr>\n",
       "    <tr>\n",
       "      <th>has_won_awards</th>\n",
       "      <td>54808.0</td>\n",
       "      <td>0.023172</td>\n",
       "      <td>0.150450</td>\n",
       "      <td>0.0</td>\n",
       "      <td>0.0</td>\n",
       "      <td>0.0</td>\n",
       "      <td>0.0</td>\n",
       "      <td>1.0</td>\n",
       "    </tr>\n",
       "    <tr>\n",
       "      <th>avg_training_score</th>\n",
       "      <td>54808.0</td>\n",
       "      <td>63.386750</td>\n",
       "      <td>13.371559</td>\n",
       "      <td>39.0</td>\n",
       "      <td>51.0</td>\n",
       "      <td>60.0</td>\n",
       "      <td>76.0</td>\n",
       "      <td>99.0</td>\n",
       "    </tr>\n",
       "    <tr>\n",
       "      <th>is_promoted</th>\n",
       "      <td>54808.0</td>\n",
       "      <td>0.085170</td>\n",
       "      <td>0.279137</td>\n",
       "      <td>0.0</td>\n",
       "      <td>0.0</td>\n",
       "      <td>0.0</td>\n",
       "      <td>0.0</td>\n",
       "      <td>1.0</td>\n",
       "    </tr>\n",
       "  </tbody>\n",
       "</table>\n",
       "</div>"
      ],
      "text/plain": [
       "                        count       mean        std   min   25%   50%   75%  \\\n",
       "no_of_trainings       54808.0   1.253011   0.609264   1.0   1.0   1.0   1.0   \n",
       "age                   54808.0  34.803915   7.660169  20.0  29.0  33.0  39.0   \n",
       "previous_year_rating  50684.0   3.329256   1.259993   1.0   3.0   3.0   4.0   \n",
       "length_of_service     54808.0   5.865512   4.265094   1.0   3.0   5.0   7.0   \n",
       "is_kpi_met            54808.0   0.351974   0.477590   0.0   0.0   0.0   1.0   \n",
       "has_won_awards        54808.0   0.023172   0.150450   0.0   0.0   0.0   0.0   \n",
       "avg_training_score    54808.0  63.386750  13.371559  39.0  51.0  60.0  76.0   \n",
       "is_promoted           54808.0   0.085170   0.279137   0.0   0.0   0.0   0.0   \n",
       "\n",
       "                       max  \n",
       "no_of_trainings       10.0  \n",
       "age                   60.0  \n",
       "previous_year_rating   5.0  \n",
       "length_of_service     37.0  \n",
       "is_kpi_met             1.0  \n",
       "has_won_awards         1.0  \n",
       "avg_training_score    99.0  \n",
       "is_promoted            1.0  "
      ]
     },
     "execution_count": 7,
     "metadata": {},
     "output_type": "execute_result"
    }
   ],
   "source": [
    "df.describe().T"
   ]
  },
  {
   "cell_type": "code",
   "execution_count": 8,
   "metadata": {
    "ExecuteTime": {
     "end_time": "2018-09-14T11:26:29.768214Z",
     "start_time": "2018-09-14T11:26:29.624995Z"
    }
   },
   "outputs": [
    {
     "data": {
      "text/plain": [
       "department                 0\n",
       "region                     0\n",
       "education               2409\n",
       "gender                     0\n",
       "recruitment_channel        0\n",
       "no_of_trainings            0\n",
       "age                        0\n",
       "previous_year_rating    4124\n",
       "length_of_service          0\n",
       "is_kpi_met                 0\n",
       "has_won_awards             0\n",
       "avg_training_score         0\n",
       "is_promoted                0\n",
       "dtype: int64"
      ]
     },
     "execution_count": 8,
     "metadata": {},
     "output_type": "execute_result"
    }
   ],
   "source": [
    "df.isnull().sum()"
   ]
  },
  {
   "cell_type": "code",
   "execution_count": null,
   "metadata": {},
   "outputs": [],
   "source": []
  },
  {
   "cell_type": "code",
   "execution_count": 9,
   "metadata": {
    "ExecuteTime": {
     "end_time": "2018-09-14T11:26:29.950101Z",
     "start_time": "2018-09-14T11:26:29.771603Z"
    },
    "scrolled": true
   },
   "outputs": [
    {
     "data": {
      "text/html": [
       "<div>\n",
       "<style scoped>\n",
       "    .dataframe tbody tr th:only-of-type {\n",
       "        vertical-align: middle;\n",
       "    }\n",
       "\n",
       "    .dataframe tbody tr th {\n",
       "        vertical-align: top;\n",
       "    }\n",
       "\n",
       "    .dataframe thead th {\n",
       "        text-align: right;\n",
       "    }\n",
       "</style>\n",
       "<table border=\"1\" class=\"dataframe\">\n",
       "  <thead>\n",
       "    <tr style=\"text-align: right;\">\n",
       "      <th></th>\n",
       "      <th>department</th>\n",
       "      <th>region</th>\n",
       "      <th>education</th>\n",
       "      <th>gender</th>\n",
       "      <th>recruitment_channel</th>\n",
       "      <th>no_of_trainings</th>\n",
       "      <th>age</th>\n",
       "      <th>previous_year_rating</th>\n",
       "      <th>length_of_service</th>\n",
       "      <th>is_kpi_met</th>\n",
       "      <th>has_won_awards</th>\n",
       "      <th>avg_training_score</th>\n",
       "      <th>is_promoted</th>\n",
       "    </tr>\n",
       "    <tr>\n",
       "      <th>employee_id</th>\n",
       "      <th></th>\n",
       "      <th></th>\n",
       "      <th></th>\n",
       "      <th></th>\n",
       "      <th></th>\n",
       "      <th></th>\n",
       "      <th></th>\n",
       "      <th></th>\n",
       "      <th></th>\n",
       "      <th></th>\n",
       "      <th></th>\n",
       "      <th></th>\n",
       "      <th></th>\n",
       "    </tr>\n",
       "  </thead>\n",
       "  <tbody>\n",
       "    <tr>\n",
       "      <th>29934</th>\n",
       "      <td>Technology</td>\n",
       "      <td>region_23</td>\n",
       "      <td>NaN</td>\n",
       "      <td>m</td>\n",
       "      <td>sourcing</td>\n",
       "      <td>1</td>\n",
       "      <td>30</td>\n",
       "      <td>NaN</td>\n",
       "      <td>1</td>\n",
       "      <td>0</td>\n",
       "      <td>0</td>\n",
       "      <td>77</td>\n",
       "      <td>0</td>\n",
       "    </tr>\n",
       "    <tr>\n",
       "      <th>33332</th>\n",
       "      <td>Operations</td>\n",
       "      <td>region_15</td>\n",
       "      <td>NaN</td>\n",
       "      <td>m</td>\n",
       "      <td>sourcing</td>\n",
       "      <td>1</td>\n",
       "      <td>41</td>\n",
       "      <td>4.0</td>\n",
       "      <td>11</td>\n",
       "      <td>0</td>\n",
       "      <td>0</td>\n",
       "      <td>57</td>\n",
       "      <td>0</td>\n",
       "    </tr>\n",
       "    <tr>\n",
       "      <th>35465</th>\n",
       "      <td>Sales &amp; Marketing</td>\n",
       "      <td>region_7</td>\n",
       "      <td>NaN</td>\n",
       "      <td>f</td>\n",
       "      <td>sourcing</td>\n",
       "      <td>1</td>\n",
       "      <td>24</td>\n",
       "      <td>1.0</td>\n",
       "      <td>2</td>\n",
       "      <td>0</td>\n",
       "      <td>0</td>\n",
       "      <td>48</td>\n",
       "      <td>0</td>\n",
       "    </tr>\n",
       "    <tr>\n",
       "      <th>17423</th>\n",
       "      <td>Sales &amp; Marketing</td>\n",
       "      <td>region_2</td>\n",
       "      <td>NaN</td>\n",
       "      <td>m</td>\n",
       "      <td>other</td>\n",
       "      <td>3</td>\n",
       "      <td>24</td>\n",
       "      <td>2.0</td>\n",
       "      <td>2</td>\n",
       "      <td>0</td>\n",
       "      <td>0</td>\n",
       "      <td>48</td>\n",
       "      <td>0</td>\n",
       "    </tr>\n",
       "    <tr>\n",
       "      <th>66013</th>\n",
       "      <td>Sales &amp; Marketing</td>\n",
       "      <td>region_2</td>\n",
       "      <td>NaN</td>\n",
       "      <td>m</td>\n",
       "      <td>sourcing</td>\n",
       "      <td>2</td>\n",
       "      <td>25</td>\n",
       "      <td>3.0</td>\n",
       "      <td>2</td>\n",
       "      <td>0</td>\n",
       "      <td>0</td>\n",
       "      <td>53</td>\n",
       "      <td>0</td>\n",
       "    </tr>\n",
       "  </tbody>\n",
       "</table>\n",
       "</div>"
      ],
      "text/plain": [
       "                    department     region education gender  \\\n",
       "employee_id                                                  \n",
       "29934               Technology  region_23       NaN      m   \n",
       "33332               Operations  region_15       NaN      m   \n",
       "35465        Sales & Marketing   region_7       NaN      f   \n",
       "17423        Sales & Marketing   region_2       NaN      m   \n",
       "66013        Sales & Marketing   region_2       NaN      m   \n",
       "\n",
       "            recruitment_channel  no_of_trainings  age  previous_year_rating  \\\n",
       "employee_id                                                                   \n",
       "29934                  sourcing                1   30                   NaN   \n",
       "33332                  sourcing                1   41                   4.0   \n",
       "35465                  sourcing                1   24                   1.0   \n",
       "17423                     other                3   24                   2.0   \n",
       "66013                  sourcing                2   25                   3.0   \n",
       "\n",
       "             length_of_service  is_kpi_met  has_won_awards  \\\n",
       "employee_id                                                  \n",
       "29934                        1           0               0   \n",
       "33332                       11           0               0   \n",
       "35465                        2           0               0   \n",
       "17423                        2           0               0   \n",
       "66013                        2           0               0   \n",
       "\n",
       "             avg_training_score  is_promoted  \n",
       "employee_id                                   \n",
       "29934                        77            0  \n",
       "33332                        57            0  \n",
       "35465                        48            0  \n",
       "17423                        48            0  \n",
       "66013                        53            0  "
      ]
     },
     "execution_count": 9,
     "metadata": {},
     "output_type": "execute_result"
    }
   ],
   "source": [
    "df[df.education.isnull() == True].head()"
   ]
  },
  {
   "cell_type": "code",
   "execution_count": 10,
   "metadata": {
    "ExecuteTime": {
     "end_time": "2018-09-14T11:26:30.185161Z",
     "start_time": "2018-09-14T11:26:29.950101Z"
    }
   },
   "outputs": [
    {
     "name": "stdout",
     "output_type": "stream",
     "text": [
      "Is there anyone who is promoted whose education is null?? :  122 folks!\n"
     ]
    },
    {
     "data": {
      "text/html": [
       "<div>\n",
       "<style scoped>\n",
       "    .dataframe tbody tr th:only-of-type {\n",
       "        vertical-align: middle;\n",
       "    }\n",
       "\n",
       "    .dataframe tbody tr th {\n",
       "        vertical-align: top;\n",
       "    }\n",
       "\n",
       "    .dataframe thead th {\n",
       "        text-align: right;\n",
       "    }\n",
       "</style>\n",
       "<table border=\"1\" class=\"dataframe\">\n",
       "  <thead>\n",
       "    <tr style=\"text-align: right;\">\n",
       "      <th></th>\n",
       "      <th>count</th>\n",
       "      <th>mean</th>\n",
       "      <th>std</th>\n",
       "      <th>min</th>\n",
       "      <th>25%</th>\n",
       "      <th>50%</th>\n",
       "      <th>75%</th>\n",
       "      <th>max</th>\n",
       "    </tr>\n",
       "  </thead>\n",
       "  <tbody>\n",
       "    <tr>\n",
       "      <th>no_of_trainings</th>\n",
       "      <td>122.0</td>\n",
       "      <td>1.114754</td>\n",
       "      <td>0.533145</td>\n",
       "      <td>1.0</td>\n",
       "      <td>1.0</td>\n",
       "      <td>1.0</td>\n",
       "      <td>1.0</td>\n",
       "      <td>6.0</td>\n",
       "    </tr>\n",
       "    <tr>\n",
       "      <th>age</th>\n",
       "      <td>122.0</td>\n",
       "      <td>29.172131</td>\n",
       "      <td>6.729352</td>\n",
       "      <td>20.0</td>\n",
       "      <td>24.0</td>\n",
       "      <td>28.0</td>\n",
       "      <td>32.0</td>\n",
       "      <td>60.0</td>\n",
       "    </tr>\n",
       "    <tr>\n",
       "      <th>previous_year_rating</th>\n",
       "      <td>97.0</td>\n",
       "      <td>4.061856</td>\n",
       "      <td>1.028899</td>\n",
       "      <td>1.0</td>\n",
       "      <td>3.0</td>\n",
       "      <td>4.0</td>\n",
       "      <td>5.0</td>\n",
       "      <td>5.0</td>\n",
       "    </tr>\n",
       "    <tr>\n",
       "      <th>length_of_service</th>\n",
       "      <td>122.0</td>\n",
       "      <td>3.950820</td>\n",
       "      <td>3.177536</td>\n",
       "      <td>1.0</td>\n",
       "      <td>2.0</td>\n",
       "      <td>3.0</td>\n",
       "      <td>5.0</td>\n",
       "      <td>16.0</td>\n",
       "    </tr>\n",
       "    <tr>\n",
       "      <th>is_kpi_met</th>\n",
       "      <td>122.0</td>\n",
       "      <td>0.704918</td>\n",
       "      <td>0.457960</td>\n",
       "      <td>0.0</td>\n",
       "      <td>0.0</td>\n",
       "      <td>1.0</td>\n",
       "      <td>1.0</td>\n",
       "      <td>1.0</td>\n",
       "    </tr>\n",
       "    <tr>\n",
       "      <th>has_won_awards</th>\n",
       "      <td>122.0</td>\n",
       "      <td>0.163934</td>\n",
       "      <td>0.371743</td>\n",
       "      <td>0.0</td>\n",
       "      <td>0.0</td>\n",
       "      <td>0.0</td>\n",
       "      <td>0.0</td>\n",
       "      <td>1.0</td>\n",
       "    </tr>\n",
       "    <tr>\n",
       "      <th>avg_training_score</th>\n",
       "      <td>122.0</td>\n",
       "      <td>68.008197</td>\n",
       "      <td>17.208731</td>\n",
       "      <td>45.0</td>\n",
       "      <td>50.0</td>\n",
       "      <td>64.0</td>\n",
       "      <td>85.0</td>\n",
       "      <td>98.0</td>\n",
       "    </tr>\n",
       "    <tr>\n",
       "      <th>is_promoted</th>\n",
       "      <td>122.0</td>\n",
       "      <td>1.000000</td>\n",
       "      <td>0.000000</td>\n",
       "      <td>1.0</td>\n",
       "      <td>1.0</td>\n",
       "      <td>1.0</td>\n",
       "      <td>1.0</td>\n",
       "      <td>1.0</td>\n",
       "    </tr>\n",
       "  </tbody>\n",
       "</table>\n",
       "</div>"
      ],
      "text/plain": [
       "                      count       mean        std   min   25%   50%   75%  \\\n",
       "no_of_trainings       122.0   1.114754   0.533145   1.0   1.0   1.0   1.0   \n",
       "age                   122.0  29.172131   6.729352  20.0  24.0  28.0  32.0   \n",
       "previous_year_rating   97.0   4.061856   1.028899   1.0   3.0   4.0   5.0   \n",
       "length_of_service     122.0   3.950820   3.177536   1.0   2.0   3.0   5.0   \n",
       "is_kpi_met            122.0   0.704918   0.457960   0.0   0.0   1.0   1.0   \n",
       "has_won_awards        122.0   0.163934   0.371743   0.0   0.0   0.0   0.0   \n",
       "avg_training_score    122.0  68.008197  17.208731  45.0  50.0  64.0  85.0   \n",
       "is_promoted           122.0   1.000000   0.000000   1.0   1.0   1.0   1.0   \n",
       "\n",
       "                       max  \n",
       "no_of_trainings        6.0  \n",
       "age                   60.0  \n",
       "previous_year_rating   5.0  \n",
       "length_of_service     16.0  \n",
       "is_kpi_met             1.0  \n",
       "has_won_awards         1.0  \n",
       "avg_training_score    98.0  \n",
       "is_promoted            1.0  "
      ]
     },
     "execution_count": 10,
     "metadata": {},
     "output_type": "execute_result"
    }
   ],
   "source": [
    "# Is there anyone who is promoted whose education is null??\n",
    "mask = (df.education.isnull() == True) & (df.is_promoted == 1)\n",
    "print('Is there anyone who is promoted whose education is null?? : ', df[mask].shape[0], 'folks!')\n",
    "df[mask].describe().T"
   ]
  },
  {
   "cell_type": "code",
   "execution_count": 11,
   "metadata": {
    "ExecuteTime": {
     "end_time": "2018-09-14T11:26:30.324370Z",
     "start_time": "2018-09-14T11:26:30.185161Z"
    }
   },
   "outputs": [
    {
     "data": {
      "text/plain": [
       "[\"Master's & above\", \"Bachelor's\", nan, 'Below Secondary']"
      ]
     },
     "execution_count": 11,
     "metadata": {},
     "output_type": "execute_result"
    }
   ],
   "source": [
    "list(df.education.unique())"
   ]
  },
  {
   "cell_type": "code",
   "execution_count": 12,
   "metadata": {
    "ExecuteTime": {
     "end_time": "2018-09-14T11:26:30.796237Z",
     "start_time": "2018-09-14T11:26:30.327332Z"
    },
    "scrolled": true
   },
   "outputs": [
    {
     "data": {
      "text/plain": [
       "<matplotlib.axes._subplots.AxesSubplot at 0x18ba96b4240>"
      ]
     },
     "execution_count": 12,
     "metadata": {},
     "output_type": "execute_result"
    },
    {
     "data": {
      "image/png": "[encoded data removed]",
      "text/plain": [
       "<Figure size 576x216 with 1 Axes>"
      ]
     },
     "metadata": {},
     "output_type": "display_data"
    }
   ],
   "source": [
    "f = plt.figure(figsize=(8,3))\n",
    "ax = f.add_subplot(1, 2, 1)\n",
    "sns.countplot(x='education', data=df)    \n",
    "\n",
    "# with sns.axes_style(\"darkgrid\"):    \n",
    "#     f.add_subplot(1, 2, 2)\n",
    "#     sns.countplot(x='education', data=fillna_pipe.fit_transform(df))    "
   ]
  },
  {
   "cell_type": "code",
   "execution_count": null,
   "metadata": {},
   "outputs": [],
   "source": []
  },
  {
   "cell_type": "code",
   "execution_count": 14,
   "metadata": {
    "ExecuteTime": {
     "end_time": "2018-09-14T11:27:17.658287Z",
     "start_time": "2018-09-14T11:27:17.508940Z"
    },
    "scrolled": true
   },
   "outputs": [
    {
     "data": {
      "text/plain": [
       "<matplotlib.axes._subplots.AxesSubplot at 0x18ba98724e0>"
      ]
     },
     "execution_count": 14,
     "metadata": {},
     "output_type": "execute_result"
    },
    {
     "data": {
      "image/png": "[encoded data removed]",
      "text/plain": [
       "<Figure size 432x288 with 1 Axes>"
      ]
     },
     "metadata": {},
     "output_type": "display_data"
    }
   ],
   "source": [
    "sns.countplot(x='previous_year_rating', data=df)\n",
    "# sns.countplot(x='previous_year_rating', data=fillna_pipe.fit_transform(df))"
   ]
  },
  {
   "cell_type": "code",
   "execution_count": 15,
   "metadata": {
    "ExecuteTime": {
     "end_time": "2018-09-14T11:27:24.109037Z",
     "start_time": "2018-09-14T11:27:24.078122Z"
    }
   },
   "outputs": [
    {
     "data": {
      "text/html": [
       "<div>\n",
       "<style scoped>\n",
       "    .dataframe tbody tr th:only-of-type {\n",
       "        vertical-align: middle;\n",
       "    }\n",
       "\n",
       "    .dataframe tbody tr th {\n",
       "        vertical-align: top;\n",
       "    }\n",
       "\n",
       "    .dataframe thead th {\n",
       "        text-align: right;\n",
       "    }\n",
       "</style>\n",
       "<table border=\"1\" class=\"dataframe\">\n",
       "  <thead>\n",
       "    <tr style=\"text-align: right;\">\n",
       "      <th></th>\n",
       "      <th>department</th>\n",
       "      <th>region</th>\n",
       "      <th>education</th>\n",
       "      <th>gender</th>\n",
       "      <th>recruitment_channel</th>\n",
       "      <th>no_of_trainings</th>\n",
       "      <th>age</th>\n",
       "      <th>previous_year_rating</th>\n",
       "      <th>length_of_service</th>\n",
       "      <th>is_kpi_met</th>\n",
       "      <th>has_won_awards</th>\n",
       "      <th>avg_training_score</th>\n",
       "      <th>is_promoted</th>\n",
       "    </tr>\n",
       "    <tr>\n",
       "      <th>employee_id</th>\n",
       "      <th></th>\n",
       "      <th></th>\n",
       "      <th></th>\n",
       "      <th></th>\n",
       "      <th></th>\n",
       "      <th></th>\n",
       "      <th></th>\n",
       "      <th></th>\n",
       "      <th></th>\n",
       "      <th></th>\n",
       "      <th></th>\n",
       "      <th></th>\n",
       "      <th></th>\n",
       "    </tr>\n",
       "  </thead>\n",
       "  <tbody>\n",
       "    <tr>\n",
       "      <th>29934</th>\n",
       "      <td>Technology</td>\n",
       "      <td>region_23</td>\n",
       "      <td>NaN</td>\n",
       "      <td>m</td>\n",
       "      <td>sourcing</td>\n",
       "      <td>1</td>\n",
       "      <td>30</td>\n",
       "      <td>NaN</td>\n",
       "      <td>1</td>\n",
       "      <td>0</td>\n",
       "      <td>0</td>\n",
       "      <td>77</td>\n",
       "      <td>0</td>\n",
       "    </tr>\n",
       "    <tr>\n",
       "      <th>71177</th>\n",
       "      <td>Procurement</td>\n",
       "      <td>region_5</td>\n",
       "      <td>Bachelor's</td>\n",
       "      <td>m</td>\n",
       "      <td>other</td>\n",
       "      <td>1</td>\n",
       "      <td>27</td>\n",
       "      <td>NaN</td>\n",
       "      <td>1</td>\n",
       "      <td>0</td>\n",
       "      <td>0</td>\n",
       "      <td>70</td>\n",
       "      <td>0</td>\n",
       "    </tr>\n",
       "    <tr>\n",
       "      <th>74759</th>\n",
       "      <td>Sales &amp; Marketing</td>\n",
       "      <td>region_4</td>\n",
       "      <td>Bachelor's</td>\n",
       "      <td>m</td>\n",
       "      <td>sourcing</td>\n",
       "      <td>1</td>\n",
       "      <td>26</td>\n",
       "      <td>NaN</td>\n",
       "      <td>1</td>\n",
       "      <td>0</td>\n",
       "      <td>0</td>\n",
       "      <td>44</td>\n",
       "      <td>0</td>\n",
       "    </tr>\n",
       "    <tr>\n",
       "      <th>45709</th>\n",
       "      <td>Sales &amp; Marketing</td>\n",
       "      <td>region_31</td>\n",
       "      <td>Bachelor's</td>\n",
       "      <td>f</td>\n",
       "      <td>other</td>\n",
       "      <td>1</td>\n",
       "      <td>29</td>\n",
       "      <td>NaN</td>\n",
       "      <td>1</td>\n",
       "      <td>0</td>\n",
       "      <td>0</td>\n",
       "      <td>49</td>\n",
       "      <td>0</td>\n",
       "    </tr>\n",
       "    <tr>\n",
       "      <th>26599</th>\n",
       "      <td>Sales &amp; Marketing</td>\n",
       "      <td>region_16</td>\n",
       "      <td>Bachelor's</td>\n",
       "      <td>m</td>\n",
       "      <td>other</td>\n",
       "      <td>2</td>\n",
       "      <td>27</td>\n",
       "      <td>NaN</td>\n",
       "      <td>1</td>\n",
       "      <td>1</td>\n",
       "      <td>0</td>\n",
       "      <td>47</td>\n",
       "      <td>0</td>\n",
       "    </tr>\n",
       "  </tbody>\n",
       "</table>\n",
       "</div>"
      ],
      "text/plain": [
       "                    department     region   education gender  \\\n",
       "employee_id                                                    \n",
       "29934               Technology  region_23         NaN      m   \n",
       "71177              Procurement   region_5  Bachelor's      m   \n",
       "74759        Sales & Marketing   region_4  Bachelor's      m   \n",
       "45709        Sales & Marketing  region_31  Bachelor's      f   \n",
       "26599        Sales & Marketing  region_16  Bachelor's      m   \n",
       "\n",
       "            recruitment_channel  no_of_trainings  age  previous_year_rating  \\\n",
       "employee_id                                                                   \n",
       "29934                  sourcing                1   30                   NaN   \n",
       "71177                     other                1   27                   NaN   \n",
       "74759                  sourcing                1   26                   NaN   \n",
       "45709                     other                1   29                   NaN   \n",
       "26599                     other                2   27                   NaN   \n",
       "\n",
       "             length_of_service  is_kpi_met  has_won_awards  \\\n",
       "employee_id                                                  \n",
       "29934                        1           0               0   \n",
       "71177                        1           0               0   \n",
       "74759                        1           0               0   \n",
       "45709                        1           0               0   \n",
       "26599                        1           1               0   \n",
       "\n",
       "             avg_training_score  is_promoted  \n",
       "employee_id                                   \n",
       "29934                        77            0  \n",
       "71177                        70            0  \n",
       "74759                        44            0  \n",
       "45709                        49            0  \n",
       "26599                        47            0  "
      ]
     },
     "execution_count": 15,
     "metadata": {},
     "output_type": "execute_result"
    }
   ],
   "source": [
    "df[df.previous_year_rating.isnull() == True].head()"
   ]
  },
  {
   "cell_type": "code",
   "execution_count": 16,
   "metadata": {
    "ExecuteTime": {
     "end_time": "2018-09-14T11:27:30.524886Z",
     "start_time": "2018-09-14T11:27:30.513918Z"
    }
   },
   "outputs": [
    {
     "name": "stdout",
     "output_type": "stream",
     "text": [
      "Is there anyone who is promoted whose previous_year_rating is null?? :  339 folks!\n"
     ]
    }
   ],
   "source": [
    "# Is there anyone who is promoted whose previous_year_rating is null??\n",
    "mask = (df.previous_year_rating.isnull() == True) & (df.is_promoted == 1)\n",
    "print('Is there anyone who is promoted whose previous_year_rating is null?? : ', df[mask].shape[0], 'folks!')\n",
    "# df[mask].head()"
   ]
  },
  {
   "cell_type": "code",
   "execution_count": 17,
   "metadata": {
    "ExecuteTime": {
     "end_time": "2018-09-14T11:27:31.261507Z",
     "start_time": "2018-09-14T11:27:31.250570Z"
    }
   },
   "outputs": [
    {
     "name": "stdout",
     "output_type": "stream",
     "text": [
      "Is there anyone whose length_of_service>1  with previous_year_rating as null?? :  0 folks!\n"
     ]
    }
   ],
   "source": [
    "# Is there anyone whose length_of_service>1  with previous_year_rating as null??\n",
    "mask = (df.previous_year_rating.isnull() == True) & (df.length_of_service > 1)\n",
    "print('Is there anyone whose length_of_service>1  with previous_year_rating as null?? : ', df[mask].shape[0], 'folks!')\n",
    "# df[mask].head()\n",
    "# Observation\n",
    "# If only length_of_service=1, the previous_year_rating = NaN\n",
    "# Possibility of FeatureEngineering?? length_of_service*previous_year_rating, setting NaN=0 \n",
    "# [Could be wrong bcoz only last rating is available. What if last ratig is bad but exp is more?]\n",
    "# How does this look for test dataset?"
   ]
  },
  {
   "cell_type": "code",
   "execution_count": 18,
   "metadata": {
    "ExecuteTime": {
     "end_time": "2018-09-14T11:27:31.917365Z",
     "start_time": "2018-09-14T11:27:31.905399Z"
    }
   },
   "outputs": [
    {
     "name": "stdout",
     "output_type": "stream",
     "text": [
      "Is there anyone whose length_of_service>1  with previous_year_rating as null in TEST DATASET?? :  0 folks!\n"
     ]
    }
   ],
   "source": [
    "# How does this look for test dataset?\n",
    "# Is there anyone whose length_of_service>1  with previous_year_rating as null??\n",
    "mask = (test.previous_year_rating.isnull() == True) & (test.length_of_service > 1)\n",
    "print('Is there anyone whose length_of_service>1  with previous_year_rating as null in TEST DATASET?? : ', test[mask].shape[0], 'folks!')\n",
    "# None, so we can set the value as Zero"
   ]
  },
  {
   "cell_type": "code",
   "execution_count": null,
   "metadata": {},
   "outputs": [],
   "source": []
  },
  {
   "cell_type": "code",
   "execution_count": 19,
   "metadata": {
    "ExecuteTime": {
     "end_time": "2018-09-14T11:27:33.393257Z",
     "start_time": "2018-09-14T11:27:33.208719Z"
    },
    "scrolled": true
   },
   "outputs": [
    {
     "data": {
      "text/plain": [
       "<matplotlib.axes._subplots.AxesSubplot at 0x18ba9b91f28>"
      ]
     },
     "execution_count": 19,
     "metadata": {},
     "output_type": "execute_result"
    },
    {
     "data": {
      "image/png": "[encoded data removed]",
      "text/plain": [
       "<Figure size 432x288 with 1 Axes>"
      ]
     },
     "metadata": {},
     "output_type": "display_data"
    }
   ],
   "source": [
    "sns.countplot(x='gender', data=df)"
   ]
  },
  {
   "cell_type": "code",
   "execution_count": null,
   "metadata": {},
   "outputs": [],
   "source": []
  },
  {
   "cell_type": "code",
   "execution_count": 21,
   "metadata": {
    "ExecuteTime": {
     "end_time": "2018-09-14T11:27:49.601424Z",
     "start_time": "2018-09-14T11:27:49.597432Z"
    }
   },
   "outputs": [],
   "source": [
    "# print('Possible Regions : ', df.region.unique())\n",
    "# ax = sns.countplot(x='region', data=df)\n",
    "# # ax.set_xticklabels(ax.get_xticklabels(), rotation=90)\n",
    "# plt.xticks(rotation=90)"
   ]
  },
  {
   "cell_type": "code",
   "execution_count": null,
   "metadata": {
    "ExecuteTime": {
     "end_time": "2018-09-14T10:59:31.175452Z",
     "start_time": "2018-09-14T10:59:31.170465Z"
    }
   },
   "outputs": [],
   "source": []
  },
  {
   "cell_type": "code",
   "execution_count": null,
   "metadata": {
    "ExecuteTime": {
     "end_time": "2018-09-14T04:18:41.191862Z",
     "start_time": "2018-09-14T04:18:41.152966Z"
    }
   },
   "outputs": [],
   "source": []
  },
  {
   "cell_type": "code",
   "execution_count": 22,
   "metadata": {
    "ExecuteTime": {
     "end_time": "2018-09-14T11:27:53.517456Z",
     "start_time": "2018-09-14T11:27:53.402763Z"
    }
   },
   "outputs": [
    {
     "name": "stdout",
     "output_type": "stream",
     "text": [
      "<class 'pandas.core.frame.DataFrame'>\n",
      "Int64Index: 54808 entries, 65438 to 51526\n",
      "Data columns (total 13 columns):\n",
      "department              54808 non-null object\n",
      "region                  54808 non-null object\n",
      "education               52399 non-null object\n",
      "gender                  54808 non-null object\n",
      "recruitment_channel     54808 non-null object\n",
      "no_of_trainings         54808 non-null int64\n",
      "age                     54808 non-null int64\n",
      "previous_year_rating    50684 non-null float64\n",
      "length_of_service       54808 non-null int64\n",
      "is_kpi_met              54808 non-null int64\n",
      "has_won_awards          54808 non-null int64\n",
      "avg_training_score      54808 non-null int64\n",
      "is_promoted             54808 non-null int64\n",
      "dtypes: float64(1), int64(7), object(5)\n",
      "memory usage: 8.4+ MB\n",
      "None\n",
      "\n",
      "After processing:\n",
      "\n",
      "<class 'pandas.core.frame.DataFrame'>\n",
      "Int64Index: 54808 entries, 65438 to 51526\n",
      "Data columns (total 13 columns):\n",
      "department              54808 non-null category\n",
      "region                  54808 non-null category\n",
      "education               52399 non-null category\n",
      "gender                  54808 non-null category\n",
      "recruitment_channel     54808 non-null category\n",
      "no_of_trainings         54808 non-null int8\n",
      "age                     54808 non-null int8\n",
      "previous_year_rating    50684 non-null float16\n",
      "length_of_service       54808 non-null int8\n",
      "is_kpi_met              54808 non-null int8\n",
      "has_won_awards          54808 non-null int8\n",
      "avg_training_score      54808 non-null int8\n",
      "is_promoted             54808 non-null int8\n",
      "dtypes: category(5), float16(1), int8(7)\n",
      "memory usage: 3.7 MB\n",
      "None\n"
     ]
    }
   ],
   "source": [
    "print(df.info())\n",
    "\n",
    "df['is_promoted'] = df['is_promoted'].astype(np.int8)\n",
    "df['avg_training_score'] = df['avg_training_score'].astype(np.int8)\n",
    "df['has_won_awards'] = df['has_won_awards'].astype(np.int8)\n",
    "df['is_kpi_met'] = df['is_kpi_met'].astype(np.int8)\n",
    "df['length_of_service'] = df['length_of_service'].astype(np.int8)\n",
    "df['age'] = df['age'].astype(np.int8)\n",
    "df['no_of_trainings'] = df['no_of_trainings'].astype(np.int8)\n",
    "\n",
    "df['previous_year_rating'] = df['previous_year_rating'].astype(np.float16)\n",
    "\n",
    "df['department'] = df['department'].astype('category')\n",
    "df['region'] = df['region'].astype('category')\n",
    "df['education'] = df['education'].astype('category')\n",
    "df['gender'] = df['gender'].astype('category')\n",
    "df['recruitment_channel'] = df['recruitment_channel'].astype('category')\n",
    "\n",
    "print('\\nAfter processing:\\n',)\n",
    "print(df.info())"
   ]
  },
  {
   "cell_type": "code",
   "execution_count": 24,
   "metadata": {
    "ExecuteTime": {
     "end_time": "2018-09-14T11:30:17.260983Z",
     "start_time": "2018-09-14T11:30:17.205134Z"
    }
   },
   "outputs": [
    {
     "name": "stdout",
     "output_type": "stream",
     "text": [
      "<class 'pandas.core.frame.DataFrame'>\n",
      "Int64Index: 23490 entries, 8724 to 5973\n",
      "Data columns (total 12 columns):\n",
      "department              23490 non-null object\n",
      "region                  23490 non-null object\n",
      "education               22456 non-null object\n",
      "gender                  23490 non-null object\n",
      "recruitment_channel     23490 non-null object\n",
      "no_of_trainings         23490 non-null int64\n",
      "age                     23490 non-null int64\n",
      "previous_year_rating    21678 non-null float64\n",
      "length_of_service       23490 non-null int64\n",
      "is_kpi_met              23490 non-null int64\n",
      "has_won_awards          23490 non-null int64\n",
      "avg_training_score      23490 non-null int64\n",
      "dtypes: float64(1), int64(6), object(5)\n",
      "memory usage: 2.3+ MB\n",
      "None\n",
      "\n",
      "After processing:\n",
      "\n",
      "<class 'pandas.core.frame.DataFrame'>\n",
      "Int64Index: 23490 entries, 8724 to 5973\n",
      "Data columns (total 12 columns):\n",
      "department              23490 non-null category\n",
      "region                  23490 non-null category\n",
      "education               22456 non-null category\n",
      "gender                  23490 non-null category\n",
      "recruitment_channel     23490 non-null category\n",
      "no_of_trainings         23490 non-null int8\n",
      "age                     23490 non-null int8\n",
      "previous_year_rating    21678 non-null float16\n",
      "length_of_service       23490 non-null int8\n",
      "is_kpi_met              23490 non-null int8\n",
      "has_won_awards          23490 non-null int8\n",
      "avg_training_score      23490 non-null int8\n",
      "dtypes: category(5), float16(1), int8(6)\n",
      "memory usage: 483.9 KB\n",
      "None\n"
     ]
    }
   ],
   "source": [
    "print(test.info())\n",
    "\n",
    "# test['is_promoted'] = test['is_promoted'].astype(np.int8)\n",
    "test['avg_training_score'] = test['avg_training_score'].astype(np.int8)\n",
    "test['has_won_awards'] = test['has_won_awards'].astype(np.int8)\n",
    "test['is_kpi_met'] = test['is_kpi_met'].astype(np.int8)\n",
    "test['length_of_service'] = test['length_of_service'].astype(np.int8)\n",
    "test['age'] = test['age'].astype(np.int8)\n",
    "test['no_of_trainings'] = test['no_of_trainings'].astype(np.int8)\n",
    "\n",
    "test['previous_year_rating'] = test['previous_year_rating'].astype(np.float16)\n",
    "\n",
    "test['department'] = test['department'].astype('category')\n",
    "test['region'] = test['region'].astype('category')\n",
    "test['education'] = test['education'].astype('category')\n",
    "test['gender'] = test['gender'].astype('category')\n",
    "test['recruitment_channel'] = test['recruitment_channel'].astype('category')\n",
    "\n",
    "print('\\nAfter processing:\\n',)\n",
    "print(test.info())"
   ]
  },
  {
   "cell_type": "code",
   "execution_count": null,
   "metadata": {},
   "outputs": [],
   "source": []
  },
  {
   "cell_type": "code",
   "execution_count": null,
   "metadata": {
    "ExecuteTime": {
     "end_time": "2018-09-14T11:26:30.978880Z",
     "start_time": "2018-09-14T11:26:26.598Z"
    }
   },
   "outputs": [],
   "source": [
    "# df2 = fillna_pipe.fit_transform(df)\n",
    "# p = sns.pairplot(df2)\n",
    "# p.savefig(\"images/pairplot.png\")"
   ]
  },
  {
   "cell_type": "code",
   "execution_count": 25,
   "metadata": {
    "ExecuteTime": {
     "end_time": "2018-09-14T11:30:59.214951Z",
     "start_time": "2018-09-14T11:30:58.721272Z"
    }
   },
   "outputs": [
    {
     "data": {
      "text/plain": [
       "<matplotlib.axes._subplots.AxesSubplot at 0x18ba9d0c710>"
      ]
     },
     "execution_count": 25,
     "metadata": {},
     "output_type": "execute_result"
    },
    {
     "data": {
      "image/png": "[encoded data removed]",
      "text/plain": [
       "<Figure size 432x288 with 2 Axes>"
      ]
     },
     "metadata": {},
     "output_type": "display_data"
    }
   ],
   "source": [
    "# Compute the correlation matrix\n",
    "correlations = df.corr()\n",
    "correlations\n",
    "# Obsrvation: \n",
    "# Age and Length of service has a good correlation of 0.657111. \n",
    "# But then both these features - age and length_of_service don't seem to have any correlation with the target - is_promoted.\n",
    "# no_of_trainings as well has poor correlation with target - is_promoted column.\n",
    "\n",
    "# plot correlation matrix\n",
    "sns.heatmap(correlations,cmap=\"YlGnBu\",annot=True)"
   ]
  },
  {
   "cell_type": "code",
   "execution_count": 26,
   "metadata": {
    "ExecuteTime": {
     "end_time": "2018-09-14T11:31:18.611184Z",
     "start_time": "2018-09-14T11:31:18.595254Z"
    }
   },
   "outputs": [
    {
     "data": {
      "text/html": [
       "<div>\n",
       "<style scoped>\n",
       "    .dataframe tbody tr th:only-of-type {\n",
       "        vertical-align: middle;\n",
       "    }\n",
       "\n",
       "    .dataframe tbody tr th {\n",
       "        vertical-align: top;\n",
       "    }\n",
       "\n",
       "    .dataframe thead th {\n",
       "        text-align: right;\n",
       "    }\n",
       "</style>\n",
       "<table border=\"1\" class=\"dataframe\">\n",
       "  <thead>\n",
       "    <tr style=\"text-align: right;\">\n",
       "      <th></th>\n",
       "      <th>Correlation</th>\n",
       "    </tr>\n",
       "  </thead>\n",
       "  <tbody>\n",
       "    <tr>\n",
       "      <th>is_promoted</th>\n",
       "      <td>1.000000</td>\n",
       "    </tr>\n",
       "    <tr>\n",
       "      <th>is_kpi_met</th>\n",
       "      <td>0.221582</td>\n",
       "    </tr>\n",
       "    <tr>\n",
       "      <th>has_won_awards</th>\n",
       "      <td>0.195871</td>\n",
       "    </tr>\n",
       "    <tr>\n",
       "      <th>avg_training_score</th>\n",
       "      <td>0.181147</td>\n",
       "    </tr>\n",
       "    <tr>\n",
       "      <th>previous_year_rating</th>\n",
       "      <td>0.159320</td>\n",
       "    </tr>\n",
       "    <tr>\n",
       "      <th>length_of_service</th>\n",
       "      <td>-0.010670</td>\n",
       "    </tr>\n",
       "    <tr>\n",
       "      <th>age</th>\n",
       "      <td>-0.017166</td>\n",
       "    </tr>\n",
       "    <tr>\n",
       "      <th>no_of_trainings</th>\n",
       "      <td>-0.024896</td>\n",
       "    </tr>\n",
       "  </tbody>\n",
       "</table>\n",
       "</div>"
      ],
      "text/plain": [
       "                      Correlation\n",
       "is_promoted              1.000000\n",
       "is_kpi_met               0.221582\n",
       "has_won_awards           0.195871\n",
       "avg_training_score       0.181147\n",
       "previous_year_rating     0.159320\n",
       "length_of_service       -0.010670\n",
       "age                     -0.017166\n",
       "no_of_trainings         -0.024896"
      ]
     },
     "execution_count": 26,
     "metadata": {},
     "output_type": "execute_result"
    }
   ],
   "source": [
    "def correlaton_summary(correlations):\n",
    "    correlation_df = pd.DataFrame(correlations['is_promoted'])\n",
    "    correlation_df.columns = [\"Correlation\"]\n",
    "    correlation_df = correlation_df.sort_values(by=['Correlation'], ascending=False)\n",
    "    return correlation_df\n",
    "\n",
    "correlaton_summary(correlations)"
   ]
  },
  {
   "cell_type": "markdown",
   "metadata": {},
   "source": [
    "## Data Modeling"
   ]
  },
  {
   "cell_type": "code",
   "execution_count": 27,
   "metadata": {
    "ExecuteTime": {
     "end_time": "2018-09-14T11:32:01.840223Z",
     "start_time": "2018-09-14T11:32:01.834236Z"
    }
   },
   "outputs": [],
   "source": [
    "class RatingsImputer(BaseEstimator, TransformerMixin):\n",
    "    def fit (self, X, y=None, **fit_params):\n",
    "        return self\n",
    "    \n",
    "    def transform(self, X):\n",
    "        assert isinstance(X, pd.DataFrame)\n",
    "        #X.loc[X.previous_year_rating.isnull(), 'previous_year_rating'] = 0\n",
    "        X = X.fillna({'previous_year_rating':0})\n",
    "        return X\n",
    "\n",
    "class EducationCleanser(BaseEstimator, TransformerMixin):\n",
    "    def fit (self, X, y=None, **fit_params):\n",
    "        return self\n",
    "    \n",
    "    def transform(self, X):\n",
    "        assert isinstance(X, pd.DataFrame)\n",
    "        X = X.fillna({'education':\"Bachelor's\"})\n",
    "        return X\n",
    "\n",
    "# fillna_pipe.fit_transform(df).isnull().sum() # For Testing purpose only"
   ]
  },
  {
   "cell_type": "code",
   "execution_count": 28,
   "metadata": {
    "ExecuteTime": {
     "end_time": "2018-09-14T11:32:04.485026Z",
     "start_time": "2018-09-14T11:32:04.470096Z"
    }
   },
   "outputs": [],
   "source": [
    "class ColumnSelector(BaseEstimator, TransformerMixin):\n",
    "    def __init__(self, columns=None):\n",
    "        self.columns = columns\n",
    "    \n",
    "    def fit (self, X, y=None, **fit_params):\n",
    "        return self\n",
    "    \n",
    "    def transform(self, X):\n",
    "        assert isinstance(X, pd.DataFrame)\n",
    "        try:\n",
    "            return X[self.columns]\n",
    "        except KeyError:\n",
    "            cols_error = list(set(self.columns) - set(X.columns))\n",
    "            raise KeyError(\"The DataFrame does not include the columns: %s\" % cols_error)\n",
    "\n",
    "class MultiColumnLabelEncoder:\n",
    "    def __init__(self,columns = None):\n",
    "        self.columns = columns # array of column names to encode\n",
    "\n",
    "    def fit(self,X,y=None):\n",
    "        return self # not relevant here\n",
    "\n",
    "    def transform(self,X):\n",
    "        '''\n",
    "        Transforms columns of X specified in self.columns using LabelEncoder(). \n",
    "        If no columns specified, transforms all columns in X.\n",
    "        '''\n",
    "        output = X.copy()\n",
    "        if self.columns is not None:\n",
    "            for col in self.columns:\n",
    "                output[col] = LabelEncoder().fit_transform(output[col])\n",
    "        else:\n",
    "            for colname,col in output.iteritems():\n",
    "                output[colname] = LabelEncoder().fit_transform(col)\n",
    "        return output\n",
    "\n",
    "    def fit_transform(self,X,y=None):\n",
    "        return self.fit(X,y).transform(X)\n",
    "\n",
    "categorical_cols = ['department', 'region', 'education', 'gender', 'recruitment_channel']\n",
    "# numeric_cols = [ col for col in df.columns.difference(categorical_cols) if col not in ['is_promoted', 'iregion', 'age', 'length_of_service']]\n",
    "numeric_cols = ['avg_training_score', 'has_won_awards', 'is_kpi_met', 'no_of_trainings', 'previous_year_rating']\n",
    "\n",
    "fillna_pipe = make_pipeline(RatingsImputer(), EducationCleanser())\n",
    "# categorical_cols_pipe = make_pipeline(ColumnSelector(columns=categorical_cols), ModifiedLabelEncoder(), OneHotEncoder(sparse=False))\n",
    "categorical_cols_pipe = make_pipeline(ColumnSelector(columns=categorical_cols), MultiColumnLabelEncoder())\n",
    "numeric_cols_pipe = make_pipeline(ColumnSelector(columns=numeric_cols),MinMaxScaler())\n",
    "\n",
    "# categorical_cols_pipe.fit_transform(df.head(5))\n",
    "# numeric_cols_pipe.fit_transform(df.head(5))"
   ]
  },
  {
   "cell_type": "code",
   "execution_count": 29,
   "metadata": {
    "ExecuteTime": {
     "end_time": "2018-09-14T11:32:11.710623Z",
     "start_time": "2018-09-14T11:32:11.501093Z"
    }
   },
   "outputs": [
    {
     "name": "stdout",
     "output_type": "stream",
     "text": [
      "(54808, 10)\n",
      "[[ 0.16666667  0.          1.          0.          1.          7.\n",
      "  31.          2.          0.          2.        ]\n",
      " [ 0.35        0.          0.          0.          1.          4.\n",
      "  14.          0.          1.          0.        ]\n",
      " [ 0.18333333  0.          0.          0.          0.6         7.\n",
      "  10.          0.          1.          2.        ]]\n"
     ]
    }
   ],
   "source": [
    "# [ col for col in df.columns.difference(categorical_cols) if col not in ['is_promoted', 'iregion']]\n",
    "fu = make_union(numeric_cols_pipe, categorical_cols_pipe)\n",
    "pipe = make_pipeline(fillna_pipe, fu)\n",
    "train_vec = pipe.fit_transform(df)\n",
    "print(train_vec.shape)\n",
    "print(train_vec[:3])"
   ]
  },
  {
   "cell_type": "code",
   "execution_count": 30,
   "metadata": {
    "ExecuteTime": {
     "end_time": "2018-09-14T11:32:15.889789Z",
     "start_time": "2018-09-14T11:32:15.850888Z"
    }
   },
   "outputs": [
    {
     "name": "stdout",
     "output_type": "stream",
     "text": [
      "(54808, 10)\n",
      "(54808, 1)\n",
      "                      Correlation\n",
      "is_promoted              1.000000\n",
      "is_kpi_met               0.221582\n",
      "has_won_awards           0.195871\n",
      "avg_training_score       0.181147\n",
      "previous_year_rating     0.125991\n",
      "education                0.029257\n",
      "region                   0.008841\n",
      "recruitment_channel      0.002229\n",
      "department               0.000130\n",
      "gender                  -0.011109\n",
      "no_of_trainings         -0.024896\n"
     ]
    }
   ],
   "source": [
    "print(train_vec.shape)\n",
    "print(df.is_promoted.values.reshape(-1,1).shape)\n",
    "\n",
    "cols = numeric_cols + categorical_cols + ['is_promoted']\n",
    "data=np.concatenate((train_vec,df.is_promoted.values.reshape(-1,1)), \n",
    "                    axis=1) # Joining the two arrays along axis 1 or columns\n",
    "dframe = pd.DataFrame(data=data, columns=cols)\n",
    "correlations = dframe.corr()\n",
    "print(correlaton_summary(correlations))\n",
    "# OBSERVATION:\n",
    "# The features gender, no_of_trainings, region, dept, recruitment_channel, education had poor correlation.\n",
    "# so why not drop these columns??\n",
    "dframe = dframe[['is_kpi_met', 'has_won_awards', 'avg_training_score', 'previous_year_rating', 'education', 'is_promoted']]\n",
    "# dframe = dframe[['is_kpi_met', 'has_won_awards', 'avg_training_score', 'previous_year_rating', 'is_promoted']]\n",
    "select_columns = ['is_kpi_met', 'has_won_awards', 'avg_training_score', 'previous_year_rating', 'education']"
   ]
  },
  {
   "cell_type": "code",
   "execution_count": 33,
   "metadata": {
    "ExecuteTime": {
     "end_time": "2018-09-14T11:40:04.917400Z",
     "start_time": "2018-09-14T11:40:04.871519Z"
    }
   },
   "outputs": [
    {
     "name": "stdout",
     "output_type": "stream",
     "text": [
      "(54808, 4)\n",
      "[[-0.44  0.    1.    1.  ]\n",
      " [ 0.    0.    0.    1.  ]\n",
      " [-0.4   0.    0.    0.  ]]\n"
     ]
    }
   ],
   "source": [
    "select_columns = ['is_kpi_met', 'has_won_awards', 'avg_training_score', 'previous_year_rating'] # Removing 'education'\n",
    "select_numeric_cols = ['avg_training_score', 'has_won_awards', 'is_kpi_met', 'previous_year_rating']\n",
    "# select_categorical_cols = ['education']\n",
    "select_categorical_cols = []\n",
    "\n",
    "# fillna_pipe = make_pipeline(RatingsImputer(), EducationCleanser())\n",
    "fillna_pipe = make_pipeline(RatingsImputer())\n",
    "select_categorical_cols_pipe = make_pipeline(ColumnSelector(columns=select_categorical_cols), MultiColumnLabelEncoder())\n",
    "select_numeric_cols_pipe = make_pipeline(ColumnSelector(columns=select_numeric_cols),RobustScaler())\n",
    "\n",
    "select_fu = make_union(select_numeric_cols_pipe, select_categorical_cols_pipe)\n",
    "select_pipe = make_pipeline(fillna_pipe, select_fu)\n",
    "\n",
    "# Do FIT_TRANSFORM again based on selected columns after correlation\n",
    "train_vec = select_pipe.fit_transform(df[select_columns])\n",
    "print(train_vec.shape)\n",
    "print(train_vec[:3])"
   ]
  },
  {
   "cell_type": "code",
   "execution_count": 84,
   "metadata": {
    "ExecuteTime": {
     "end_time": "2018-09-14T12:34:23.951557Z",
     "start_time": "2018-09-14T12:34:19.681069Z"
    }
   },
   "outputs": [
    {
     "data": {
      "text/plain": [
       "<seaborn.axisgrid.PairGrid at 0x18bb05a6d68>"
      ]
     },
     "execution_count": 84,
     "metadata": {},
     "output_type": "execute_result"
    },
    {
     "data": {
      "image/png": "[encoded data removed]",
      "text/plain": [
       "<Figure size 720x720 with 20 Axes>"
      ]
     },
     "metadata": {
      "needs_background": "light"
     },
     "output_type": "display_data"
    }
   ],
   "source": [
    "sns.pairplot(data=pd.DataFrame(train_vec).sample(25000))"
   ]
  },
  {
   "cell_type": "code",
   "execution_count": 34,
   "metadata": {
    "ExecuteTime": {
     "end_time": "2018-09-14T11:40:14.217053Z",
     "start_time": "2018-09-14T11:40:14.158211Z"
    }
   },
   "outputs": [],
   "source": [
    "# Split train data-set\n",
    "from sklearn.model_selection import train_test_split\n",
    "x_train, x_test, y_train, y_test = train_test_split(train_vec, \n",
    "                                                    df['is_promoted'], \n",
    "                                                    train_size = 0.75, \n",
    "                                                    random_state = 42)"
   ]
  },
  {
   "cell_type": "code",
   "execution_count": null,
   "metadata": {
    "ExecuteTime": {
     "end_time": "2018-09-14T10:27:15.310527Z",
     "start_time": "2018-09-14T10:27:15.304546Z"
    }
   },
   "outputs": [],
   "source": []
  },
  {
   "cell_type": "code",
   "execution_count": 35,
   "metadata": {
    "ExecuteTime": {
     "end_time": "2018-09-14T11:40:24.971979Z",
     "start_time": "2018-09-14T11:40:24.958017Z"
    }
   },
   "outputs": [
    {
     "data": {
      "text/plain": [
       "array([[ 0.68,  0.  ,  1.  , -1.5 ],\n",
       "       [-0.36,  0.  ,  0.  ,  0.  ],\n",
       "       [-0.52,  0.  ,  0.  , -1.  ],\n",
       "       [ 0.2 ,  0.  ,  0.  , -0.5 ],\n",
       "       [ 0.04,  0.  ,  0.  ,  0.5 ]])"
      ]
     },
     "execution_count": 35,
     "metadata": {},
     "output_type": "execute_result"
    }
   ],
   "source": [
    "test_vec = select_pipe.transform(test[select_columns])\n",
    "test_vec[:5]"
   ]
  },
  {
   "cell_type": "markdown",
   "metadata": {},
   "source": [
    "## SGDClassifier"
   ]
  },
  {
   "cell_type": "code",
   "execution_count": 120,
   "metadata": {
    "ExecuteTime": {
     "end_time": "2018-09-14T12:45:29.889273Z",
     "start_time": "2018-09-14T12:45:29.810486Z"
    }
   },
   "outputs": [
    {
     "data": {
      "text/plain": [
       "array([0.12158055, 0.17429838, 0.29971989])"
      ]
     },
     "execution_count": 120,
     "metadata": {},
     "output_type": "execute_result"
    }
   ],
   "source": [
    "from sklearn.linear_model import SGDClassifier\n",
    "from sklearn.model_selection import cross_val_score, cross_validate\n",
    "\n",
    "# Ref.: https://stackoverflow.com/questions/37413302/f1-score-of-all-classes-from-scikits-cross-val-score\n",
    "# Ref.: https://stackoverflow.com/questions/35876508/evaluate-multiple-scores-on-sklearn-cross-val-score\n",
    "svm_clf = SGDClassifier(random_state=42, penalty='elasticnet', loss='modified_huber', alpha=0.0001)\n",
    "scoring = {'acc': 'accuracy',\n",
    "           'prec_macro': 'precision_macro',\n",
    "           'rec_micro': 'recall_macro'}\n",
    "# scores = cross_val_score(svm_clf, x_train, y_train, cv=3, scoring='precision')\n",
    "# scores = cross_val_score(svm_clf, x_train, y_train, cv=3, scoring='recall')\n",
    "scores = cross_val_score(svm_clf, x_train, y_train, cv=3, scoring='f1')\n",
    "# scores = cross_validate(svm_clf, x_train, y_train, cv=3, scoring=scoring)\n",
    "scores # Check against the recall score, for this is something the  Public LeaderBoard is scoring against."
   ]
  },
  {
   "cell_type": "code",
   "execution_count": 121,
   "metadata": {
    "ExecuteTime": {
     "end_time": "2018-09-14T12:45:34.866273Z",
     "start_time": "2018-09-14T12:45:34.833356Z"
    }
   },
   "outputs": [
    {
     "name": "stdout",
     "output_type": "stream",
     "text": [
      "Accuracy =  0.9183330900598453\n",
      "              precision    recall  f1-score   support\n",
      "\n",
      "Not Promoted       0.93      0.98      0.96     12571\n",
      "    Promoted       0.51      0.19      0.27      1131\n",
      "\n",
      " avg / total       0.90      0.92      0.90     13702\n",
      "\n"
     ]
    },
    {
     "data": {
      "text/plain": [
       "array([[12373,   198],\n",
       "       [  921,   210]], dtype=int64)"
      ]
     },
     "execution_count": 121,
     "metadata": {},
     "output_type": "execute_result"
    }
   ],
   "source": [
    "from sklearn.metrics import classification_report, confusion_matrix\n",
    "\n",
    "svm_clf.fit(x_test, y_test)\n",
    "preds = svm_clf.predict(x_test)\n",
    "\n",
    "print('Accuracy = ', np.mean(preds == y_test))\n",
    "\n",
    "creport = classification_report(y_test, preds, target_names=['Not Promoted', 'Promoted'])\n",
    "print(creport)\n",
    "\n",
    "confusion_matrix(y_test, preds)"
   ]
  },
  {
   "cell_type": "code",
   "execution_count": 122,
   "metadata": {
    "ExecuteTime": {
     "end_time": "2018-09-14T12:45:38.183280Z",
     "start_time": "2018-09-14T12:45:38.178297Z"
    }
   },
   "outputs": [],
   "source": [
    "def conv2df(preds):\n",
    "    df = pd.DataFrame(data={\n",
    "        'employee_id': test.index.values,\n",
    "        'is_promoted': preds\n",
    "    })\n",
    "    df['is_promoted'] = df['is_promoted'].astype(np.int8)\n",
    "    return df"
   ]
  },
  {
   "cell_type": "code",
   "execution_count": 123,
   "metadata": {
    "ExecuteTime": {
     "end_time": "2018-09-14T12:45:45.222006Z",
     "start_time": "2018-09-14T12:45:45.089363Z"
    }
   },
   "outputs": [],
   "source": [
    "conv2df(svm_clf.predict(test_vec)).to_csv('data/output/SGDClassifier_default.csv', index=False)"
   ]
  },
  {
   "cell_type": "markdown",
   "metadata": {},
   "source": [
    "## Possible areas of improvement\n",
    "* Is there a better  way to fill missing values for the 'education' column???\n",
    "* Education seem to have very less correlation. Why not remove it?"
   ]
  },
  {
   "cell_type": "code",
   "execution_count": null,
   "metadata": {},
   "outputs": [],
   "source": []
  }
 ],
 "metadata": {
  "kernelspec": {
   "display_name": "Python 3",
   "language": "python",
   "name": "python3"
  },
  "language_info": {
   "codemirror_mode": {
    "name": "ipython",
    "version": 3
   },
   "file_extension": ".py",
   "mimetype": "text/x-python",
   "name": "python",
   "nbconvert_exporter": "python",
   "pygments_lexer": "ipython3",
   "version": "3.6.6"
  }
 },
 "nbformat": 4,
 "nbformat_minor": 2
}
